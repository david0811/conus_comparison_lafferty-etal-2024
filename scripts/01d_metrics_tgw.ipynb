{
 "cells": [
  {
   "cell_type": "code",
   "execution_count": 1,
   "id": "fa575179-9fdc-4c81-939c-0ba9c373f63e",
   "metadata": {},
   "outputs": [],
   "source": [
    "import os\n",
    "from glob import glob\n",
    "import multiprocessing as mp\n",
    "\n",
    "import dask\n",
    "import numpy as np\n",
    "import pandas as pd\n",
    "import xarray as xr\n",
    "import salem\n",
    "\n",
    "from utils import city_list, gev_metric_ids\n",
    "import metric_funcs as mf"
   ]
  },
  {
   "cell_type": "code",
   "execution_count": 2,
   "id": "84e5da3f-7119-4590-952d-4a1b2e2a99e2",
   "metadata": {},
   "outputs": [
    {
     "name": "stdout",
     "output_type": "stream",
     "text": [
      "80\n"
     ]
    }
   ],
   "source": [
    "print(mp.cpu_count())"
   ]
  },
  {
   "cell_type": "markdown",
   "id": "4d589149-34f5-4733-91bc-43581cc52b88",
   "metadata": {},
   "source": [
    "## Calculate metrics "
   ]
  },
  {
   "cell_type": "markdown",
   "id": "f1e4e0c4-2675-4f0a-8208-c1b1e80fc9d5",
   "metadata": {},
   "source": [
    "### Preliminaries"
   ]
  },
  {
   "cell_type": "code",
   "execution_count": 3,
   "id": "771cf861-108d-464d-9330-56aa2e734125",
   "metadata": {},
   "outputs": [],
   "source": [
    "################\n",
    "#### Paths #####\n",
    "################\n",
    "# NOTE: this is run on a different system from other datasets\n",
    "# Update these for reproduction\n",
    "from utils import hopper_code_path as project_code_path\n",
    "from utils import hopper_data_path as project_data_path\n",
    "\n",
    "tgw_path = \"/home/shared/vs498_0001/im3_hyperfacets_tgw/\"\n",
    "\n",
    "tgw_scenarios = os.listdir(tgw_path)"
   ]
  },
  {
   "cell_type": "code",
   "execution_count": 4,
   "id": "633a18ef-ea23-44e3-b7ad-20093ba617c9",
   "metadata": {},
   "outputs": [],
   "source": [
    "# Worker function must be defined at module level for multiprocessing\n",
    "def process_file(args):\n",
    "    file_path, var_id_in, var_id_out, daily_agg_func, log_path = args\n",
    "    try:\n",
    "        return mf.tgw_hourly_to_daily(file_path=file_path,\n",
    "                                     var_id_in=var_id_in,\n",
    "                                     var_id_out=var_id_out,\n",
    "                                     agg_func=daily_agg_func,\n",
    "                                     log_path=log_path)\n",
    "    except Exception as e:\n",
    "        print(f\"Error processing file {file_path}: {str(e)}\")\n",
    "        return None\n",
    "\n",
    "# Metric calculation function\n",
    "def calculate_metric(scenario,\n",
    "                     var_id_in,\n",
    "                     var_id_out,\n",
    "                     daily_agg_func,\n",
    "                     metric_func,\n",
    "                     tgw_path=tgw_path):\n",
    "    # Log path\n",
    "    log_path = f\"{project_code_path}/scripts/logs\"\n",
    "    \n",
    "    try:\n",
    "        # Get all hourly files sorted\n",
    "        file_paths = np.sort(glob(f\"{tgw_path}/{scenario}/hourly/*\"))\n",
    "        \n",
    "        # Prepare arguments for each file\n",
    "        task_args = [(file_path, var_id_in, var_id_out, daily_agg_func, log_path) \n",
    "                    for file_path in file_paths]\n",
    "        \n",
    "        # Set number of processes\n",
    "        num_processes = mp.cpu_count() - 5\n",
    "        \n",
    "        # Create a pool of workers and distribute the work\n",
    "        with mp.Pool(processes=num_processes) as pool:\n",
    "            # Map the worker function to all tasks\n",
    "            results = pool.map(process_file, task_args)\n",
    "            \n",
    "            # Filter out None results\n",
    "            ds_daily_all = [ds for ds in results if ds is not None]\n",
    "        \n",
    "        # Concatenate all results if we have any\n",
    "        if ds_daily_all:\n",
    "            ds_daily_all = xr.concat(ds_daily_all, dim='time')\n",
    "            \n",
    "            # Compute annual statistics\n",
    "            ds_annual = metric_func(ds_daily_all, var_id_out)\n",
    "            \n",
    "            return ds_annual\n",
    "        else:\n",
    "            print(f\"No valid results for scenario {scenario}\")\n",
    "            return None\n",
    "            \n",
    "    except Exception as e:\n",
    "        with open(f\"{log_path}/{scenario}_TGW.txt\", \"w\") as f:\n",
    "            f.write(str(e))\n",
    "        print(f\"Error processing scenario {scenario}: {str(e)}\")\n",
    "        return None"
   ]
  },
  {
   "cell_type": "markdown",
   "id": "eda48be9-75ee-4bf6-acd8-43262b695532",
   "metadata": {},
   "source": [
    "### Calculations"
   ]
  },
  {
   "cell_type": "code",
   "execution_count": 5,
   "id": "3a3e8195-05f1-4fe5-887c-3546721c9652",
   "metadata": {},
   "outputs": [
    {
     "name": "stdout",
     "output_type": "stream",
     "text": [
      "Already done: max_tasmax_rcp85hotter_2060_2099.nc\n",
      "Already done: max_tasmax_rcp45cooler_2020_2059.nc\n",
      "Already done: max_tasmax_rcp45cooler_2060_2099.nc\n",
      "Already done: max_tasmax_rcp85hotter_2020_2059.nc\n",
      "Already done: max_tasmax_rcp45hotter_2020_2059.nc\n",
      "Already done: max_tasmax_rcp85cooler_2060_2099.nc\n",
      "Already done: max_tasmax_rcp85cooler_2020_2059.nc\n",
      "Already done: max_tasmax_rcp45hotter_2060_2099.nc\n",
      "Already done: max_tasmax_historical_1980_2019.nc\n",
      "CPU times: user 1.14 ms, sys: 1.04 ms, total: 2.18 ms\n",
      "Wall time: 61.3 ms\n"
     ]
    }
   ],
   "source": [
    "%%time\n",
    "# max tasmax\n",
    "var_id_in = 'T2C'\n",
    "var_id_out = 'tasmax'\n",
    "daily_agg_func = 'max'\n",
    "metric_func = mf.calculate_max\n",
    "\n",
    "# Loop through scenarios\n",
    "for scenario in tgw_scenarios:\n",
    "    save_path = f\"{project_data_path}/metrics/TGW/max_{var_id_out}_{scenario}.nc\"\n",
    "    if not os.path.exists(save_path):\n",
    "        # Calculate\n",
    "        ds_out = calculate_metric(scenario=scenario,\n",
    "                                  var_id_in=var_id_in,\n",
    "                                  var_id_out=var_id_out,\n",
    "                                  daily_agg_func=daily_agg_func,\n",
    "                                  metric_func=metric_func)\n",
    "        # Store\n",
    "        ds_out.to_netcdf(save_path)\n",
    "        print(f\"Done: max_{var_id_out}_{scenario}.nc\")\n",
    "    else:\n",
    "        print(f\"Already done: max_{var_id_out}_{scenario}.nc\")"
   ]
  },
  {
   "cell_type": "code",
   "execution_count": 6,
   "id": "4f6df748-a096-4e4b-a607-8bfaa7152237",
   "metadata": {},
   "outputs": [
    {
     "name": "stdout",
     "output_type": "stream",
     "text": [
      "Already done: min_tasmin_rcp85hotter_2060_2099.nc\n",
      "Already done: min_tasmin_rcp45cooler_2020_2059.nc\n",
      "Already done: min_tasmin_rcp45cooler_2060_2099.nc\n",
      "Already done: min_tasmin_rcp85hotter_2020_2059.nc\n",
      "Already done: min_tasmin_rcp45hotter_2020_2059.nc\n",
      "Already done: min_tasmin_rcp85cooler_2060_2099.nc\n",
      "Already done: min_tasmin_rcp85cooler_2020_2059.nc\n",
      "Already done: min_tasmin_rcp45hotter_2060_2099.nc\n",
      "Already done: min_tasmin_historical_1980_2019.nc\n",
      "CPU times: user 1.54 ms, sys: 816 μs, total: 2.36 ms\n",
      "Wall time: 34.8 ms\n"
     ]
    }
   ],
   "source": [
    "%%time\n",
    "# max tasmax\n",
    "var_id_in = 'T2C'\n",
    "var_id_out = 'tasmin'\n",
    "daily_agg_func = 'min'\n",
    "metric_func = mf.calculate_min\n",
    "\n",
    "# Loop through scenarios\n",
    "for scenario in tgw_scenarios:\n",
    "    save_path = f\"{project_data_path}/metrics/TGW/min_{var_id_out}_{scenario}.nc\"\n",
    "    if not os.path.exists(save_path):\n",
    "        # Calculate\n",
    "        ds_out = calculate_metric(scenario=scenario,\n",
    "                                  var_id_in=var_id_in,\n",
    "                                  var_id_out=var_id_out,\n",
    "                                  daily_agg_func=daily_agg_func,\n",
    "                                  metric_func=metric_func)\n",
    "        # Store\n",
    "        ds_out.to_netcdf(save_path)\n",
    "        print(f\"Done: min_{var_id_out}_{scenario}.nc\")\n",
    "    else:\n",
    "        print(f\"Already done: min_{var_id_out}_{scenario}.nc\")"
   ]
  },
  {
   "cell_type": "code",
   "execution_count": null,
   "id": "4c574059-49d8-4800-b894-68fc09d4fd42",
   "metadata": {},
   "outputs": [
    {
     "name": "stdout",
     "output_type": "stream",
     "text": [
      "Already done: max_pr_rcp85hotter_2060_2099.nc\n",
      "Already done: max_pr_rcp45cooler_2020_2059.nc\n",
      "Already done: max_pr_rcp45cooler_2060_2099.nc\n",
      "Already done: max_pr_rcp85hotter_2020_2059.nc\n",
      "Already done: max_pr_rcp45hotter_2020_2059.nc\n",
      "Already done: max_pr_rcp85cooler_2060_2099.nc\n",
      "Already done: max_pr_rcp85cooler_2020_2059.nc\n",
      "Already done: max_pr_rcp45hotter_2060_2099.nc\n"
     ]
    }
   ],
   "source": [
    "%%time\n",
    "# max pr\n",
    "var_id_in = 'PRCP'\n",
    "var_id_out = 'pr'\n",
    "daily_agg_func = 'sum'\n",
    "metric_func = mf.calculate_max\n",
    "\n",
    "# Loop through scenarios\n",
    "for scenario in tgw_scenarios:\n",
    "    save_path = f\"{project_data_path}/metrics/TGW/max_{var_id_out}_{scenario}.nc\"\n",
    "    if not os.path.exists(save_path):\n",
    "        # Calculate\n",
    "        ds_out = calculate_metric(scenario=scenario,\n",
    "                                  var_id_in=var_id_in,\n",
    "                                  var_id_out=var_id_out,\n",
    "                                  daily_agg_func=daily_agg_func,\n",
    "                                  metric_func=metric_func)\n",
    "        # Store\n",
    "        ds_out.to_netcdf(save_path)\n",
    "        print(f\"Done: max_{var_id_out}_{scenario}.nc\")\n",
    "    else:\n",
    "        print(f\"Already done: max_{var_id_out}_{scenario}.nc\")"
   ]
  },
  {
   "cell_type": "code",
   "execution_count": 5,
   "id": "e246330a-9f8d-4fa9-8b1b-8dcb465eec21",
   "metadata": {},
   "outputs": [
    {
     "name": "stdout",
     "output_type": "stream",
     "text": [
      "Already done: max_cdd_rcp85hotter_2060_2099.nc\n",
      "Already done: max_cdd_rcp45cooler_2020_2059.nc\n",
      "Already done: max_cdd_rcp45cooler_2060_2099.nc\n",
      "Already done: max_cdd_rcp85hotter_2020_2059.nc\n",
      "Already done: max_cdd_rcp45hotter_2020_2059.nc\n",
      "Already done: max_cdd_rcp85cooler_2060_2099.nc\n",
      "Already done: max_cdd_rcp85cooler_2020_2059.nc\n",
      "Already done: max_cdd_rcp45hotter_2060_2099.nc\n",
      "Already done: max_cdd_historical_1980_2019.nc\n",
      "CPU times: user 817 μs, sys: 938 μs, total: 1.76 ms\n",
      "Wall time: 32.1 ms\n"
     ]
    }
   ],
   "source": [
    "%%time\n",
    "# max cdd\n",
    "var_id_in = 'T2C'\n",
    "var_id_out = 'cdd'\n",
    "daily_agg_func = 'cdd'\n",
    "metric_func = mf.calculate_max\n",
    "\n",
    "# Loop through scenarios\n",
    "for scenario in tgw_scenarios:\n",
    "    save_path = f\"{project_data_path}/metrics/TGW/max_{var_id_out}_{scenario}.nc\"\n",
    "    if not os.path.exists(save_path):\n",
    "        # Calculate\n",
    "        ds_out = calculate_metric(scenario=scenario,\n",
    "                                  var_id_in=var_id_in,\n",
    "                                  var_id_out=var_id_out,\n",
    "                                  daily_agg_func=daily_agg_func,\n",
    "                                  metric_func=metric_func)\n",
    "        # Store\n",
    "        ds_out.to_netcdf(save_path)\n",
    "        print(f\"Done: max_{var_id_out}_{scenario}.nc\")\n",
    "    else:\n",
    "        print(f\"Already done: max_{var_id_out}_{scenario}.nc\")"
   ]
  },
  {
   "cell_type": "code",
   "execution_count": 6,
   "id": "5771ee07-b99e-44c5-abd8-02bc605fe8df",
   "metadata": {},
   "outputs": [
    {
     "name": "stdout",
     "output_type": "stream",
     "text": [
      "Already done: max_hdd_rcp85hotter_2060_2099.nc\n",
      "Already done: max_hdd_rcp45cooler_2020_2059.nc\n",
      "Already done: max_hdd_rcp45cooler_2060_2099.nc\n",
      "Already done: max_hdd_rcp85hotter_2020_2059.nc\n",
      "Done: max_hdd_rcp45hotter_2020_2059.nc\n",
      "Done: max_hdd_rcp85cooler_2060_2099.nc\n",
      "Done: max_hdd_rcp85cooler_2020_2059.nc\n",
      "Done: max_hdd_rcp45hotter_2060_2099.nc\n",
      "Done: max_hdd_historical_1980_2019.nc\n",
      "CPU times: user 1min 48s, sys: 1min 51s, total: 3min 40s\n",
      "Wall time: 6h 6min 52s\n"
     ]
    }
   ],
   "source": [
    "%%time\n",
    "# max hdd\n",
    "var_id_in = 'T2C'\n",
    "var_id_out = 'hdd'\n",
    "daily_agg_func = 'hdd'\n",
    "metric_func = mf.calculate_max\n",
    "\n",
    "# Loop through scenarios\n",
    "for scenario in tgw_scenarios:\n",
    "    save_path = f\"{project_data_path}/metrics/TGW/max_{var_id_out}_{scenario}.nc\"\n",
    "    if not os.path.exists(save_path):\n",
    "        # Calculate\n",
    "        ds_out = calculate_metric(scenario=scenario,\n",
    "                                  var_id_in=var_id_in,\n",
    "                                  var_id_out=var_id_out,\n",
    "                                  daily_agg_func=daily_agg_func,\n",
    "                                  metric_func=metric_func)\n",
    "        # Store\n",
    "        ds_out.to_netcdf(save_path)\n",
    "        print(f\"Done: max_{var_id_out}_{scenario}.nc\")\n",
    "    else:\n",
    "        print(f\"Already done: max_{var_id_out}_{scenario}.nc\")"
   ]
  },
  {
   "cell_type": "code",
   "execution_count": null,
   "id": "74ec92c2-141f-4ebc-a8b3-d9274eb76d76",
   "metadata": {},
   "outputs": [],
   "source": []
  }
 ],
 "metadata": {
  "kernelspec": {
   "display_name": "Python 3 (ipykernel)",
   "language": "python",
   "name": "python3"
  },
  "language_info": {
   "codemirror_mode": {
    "name": "ipython",
    "version": 3
   },
   "file_extension": ".py",
   "mimetype": "text/x-python",
   "name": "python",
   "nbconvert_exporter": "python",
   "pygments_lexer": "ipython3",
   "version": "3.12.7"
  }
 },
 "nbformat": 4,
 "nbformat_minor": 5
}
