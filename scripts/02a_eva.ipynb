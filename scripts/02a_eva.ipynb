{
 "cells": [
  {
   "cell_type": "code",
   "execution_count": 2,
   "id": "cdd3932a-71ec-4b1d-9945-103ae7a9cb38",
   "metadata": {
    "tags": []
   },
   "outputs": [],
   "source": [
    "import os\n",
    "from glob import glob\n",
    "import numpy as np\n",
    "import pandas as pd\n",
    "import xarray as xr\n",
    "import dask\n",
    "import gev_utils as gevu\n",
    "from regridding import regrid_to_loca\n",
    "from utils import loca_gard_mapping, gev_metric_ids"
   ]
  },
  {
   "cell_type": "code",
   "execution_count": 2,
   "id": "d8b33f7e-6731-49cb-ac93-b59f772c74ca",
   "metadata": {},
   "outputs": [],
   "source": [
    "################\n",
    "#### Paths #####\n",
    "################\n",
    "# Update these for reproduction\n",
    "\n",
    "project_data_path = \"/storage/group/pches/default/users/dcl5300/conus_comparison_lafferty-etal-2024\"\n",
    "project_code_path = \"/storage/home/dcl5300/work/current_projects/conus_comparison_lafferty-etal-2024\""
   ]
  },
  {
   "cell_type": "code",
   "execution_count": 3,
   "id": "62c1ee12-eb8d-490c-954c-61580132935e",
   "metadata": {},
   "outputs": [
    {
     "data": {
      "text/html": [
       "<div>\n",
       "    <div style=\"width: 24px; height: 24px; background-color: #e1e1e1; border: 3px solid #9D9D9D; border-radius: 5px; position: absolute;\"> </div>\n",
       "    <div style=\"margin-left: 48px;\">\n",
       "        <h3 style=\"margin-bottom: 0px;\">Client</h3>\n",
       "        <p style=\"color: #9D9D9D; margin-bottom: 0px;\">Client-1588e3ee-bd8f-11ef-935f-c3afdfceeee5</p>\n",
       "        <table style=\"width: 100%; text-align: left;\">\n",
       "\n",
       "        <tr>\n",
       "        \n",
       "            <td style=\"text-align: left;\"><strong>Connection method:</strong> Cluster object</td>\n",
       "            <td style=\"text-align: left;\"><strong>Cluster type:</strong> dask_jobqueue.SLURMCluster</td>\n",
       "        \n",
       "        </tr>\n",
       "\n",
       "        \n",
       "            <tr>\n",
       "                <td style=\"text-align: left;\">\n",
       "                    <strong>Dashboard: </strong> <a href=\"/proxy/8787/status\" target=\"_blank\">/proxy/8787/status</a>\n",
       "                </td>\n",
       "                <td style=\"text-align: left;\"></td>\n",
       "            </tr>\n",
       "        \n",
       "\n",
       "        </table>\n",
       "\n",
       "        \n",
       "            <button style=\"margin-bottom: 12px;\" data-commandlinker-command=\"dask:populate-and-launch-layout\" data-commandlinker-args='{\"url\": \"/proxy/8787/status\" }'>\n",
       "                Launch dashboard in JupyterLab\n",
       "            </button>\n",
       "        \n",
       "\n",
       "        \n",
       "            <details>\n",
       "            <summary style=\"margin-bottom: 20px;\"><h3 style=\"display: inline;\">Cluster Info</h3></summary>\n",
       "            <div class=\"jp-RenderedHTMLCommon jp-RenderedHTML jp-mod-trusted jp-OutputArea-output\">\n",
       "    <div style=\"width: 24px; height: 24px; background-color: #e1e1e1; border: 3px solid #9D9D9D; border-radius: 5px; position: absolute;\">\n",
       "    </div>\n",
       "    <div style=\"margin-left: 48px;\">\n",
       "        <h3 style=\"margin-bottom: 0px; margin-top: 0px;\">SLURMCluster</h3>\n",
       "        <p style=\"color: #9D9D9D; margin-bottom: 0px;\">742d7ec9</p>\n",
       "        <table style=\"width: 100%; text-align: left;\">\n",
       "            <tr>\n",
       "                <td style=\"text-align: left;\">\n",
       "                    <strong>Dashboard:</strong> <a href=\"/proxy/8787/status\" target=\"_blank\">/proxy/8787/status</a>\n",
       "                </td>\n",
       "                <td style=\"text-align: left;\">\n",
       "                    <strong>Workers:</strong> 0\n",
       "                </td>\n",
       "            </tr>\n",
       "            <tr>\n",
       "                <td style=\"text-align: left;\">\n",
       "                    <strong>Total threads:</strong> 0\n",
       "                </td>\n",
       "                <td style=\"text-align: left;\">\n",
       "                    <strong>Total memory:</strong> 0 B\n",
       "                </td>\n",
       "            </tr>\n",
       "            \n",
       "        </table>\n",
       "\n",
       "        <details>\n",
       "            <summary style=\"margin-bottom: 20px;\">\n",
       "                <h3 style=\"display: inline;\">Scheduler Info</h3>\n",
       "            </summary>\n",
       "\n",
       "            <div style=\"\">\n",
       "    <div>\n",
       "        <div style=\"width: 24px; height: 24px; background-color: #FFF7E5; border: 3px solid #FF6132; border-radius: 5px; position: absolute;\"> </div>\n",
       "        <div style=\"margin-left: 48px;\">\n",
       "            <h3 style=\"margin-bottom: 0px;\">Scheduler</h3>\n",
       "            <p style=\"color: #9D9D9D; margin-bottom: 0px;\">Scheduler-2dffcd09-9621-4c23-8ce2-dfb63b79cb33</p>\n",
       "            <table style=\"width: 100%; text-align: left;\">\n",
       "                <tr>\n",
       "                    <td style=\"text-align: left;\">\n",
       "                        <strong>Comm:</strong> tcp://10.6.8.110:41063\n",
       "                    </td>\n",
       "                    <td style=\"text-align: left;\">\n",
       "                        <strong>Workers:</strong> 0\n",
       "                    </td>\n",
       "                </tr>\n",
       "                <tr>\n",
       "                    <td style=\"text-align: left;\">\n",
       "                        <strong>Dashboard:</strong> <a href=\"/proxy/8787/status\" target=\"_blank\">/proxy/8787/status</a>\n",
       "                    </td>\n",
       "                    <td style=\"text-align: left;\">\n",
       "                        <strong>Total threads:</strong> 0\n",
       "                    </td>\n",
       "                </tr>\n",
       "                <tr>\n",
       "                    <td style=\"text-align: left;\">\n",
       "                        <strong>Started:</strong> Just now\n",
       "                    </td>\n",
       "                    <td style=\"text-align: left;\">\n",
       "                        <strong>Total memory:</strong> 0 B\n",
       "                    </td>\n",
       "                </tr>\n",
       "            </table>\n",
       "        </div>\n",
       "    </div>\n",
       "\n",
       "    <details style=\"margin-left: 48px;\">\n",
       "        <summary style=\"margin-bottom: 20px;\">\n",
       "            <h3 style=\"display: inline;\">Workers</h3>\n",
       "        </summary>\n",
       "\n",
       "        \n",
       "\n",
       "    </details>\n",
       "</div>\n",
       "\n",
       "        </details>\n",
       "    </div>\n",
       "</div>\n",
       "            </details>\n",
       "        \n",
       "\n",
       "    </div>\n",
       "</div>"
      ],
      "text/plain": [
       "<Client: 'tcp://10.6.8.110:41063' processes=0 threads=0, memory=0 B>"
      ]
     },
     "execution_count": 3,
     "metadata": {},
     "output_type": "execute_result"
    }
   ],
   "source": [
    "############\n",
    "### Dask ###\n",
    "############\n",
    "from dask_jobqueue import SLURMCluster\n",
    "\n",
    "cluster = SLURMCluster(\n",
    "    # account=\"pches\",\n",
    "    account=\"open\",\n",
    "    cores=1,\n",
    "    memory=\"30GiB\",\n",
    "    walltime=\"01:00:00\",\n",
    ")\n",
    "\n",
    "cluster.scale(jobs=20)  # ask for jobs\n",
    "\n",
    "from dask.distributed import Client\n",
    "\n",
    "client = Client(cluster)\n",
    "\n",
    "client"
   ]
  },
  {
   "cell_type": "markdown",
   "id": "b10567e7-f2b7-45c1-b5e5-e48dcbe3eb86",
   "metadata": {},
   "source": [
    "## Fit GEV"
   ]
  },
  {
   "cell_type": "code",
   "execution_count": 8,
   "id": "a65fa620-ebc4-43dd-80d0-7e5cc50066eb",
   "metadata": {},
   "outputs": [
    {
     "name": "stdout",
     "output_type": "stream",
     "text": [
      "CPU times: user 2.16 s, sys: 82.9 ms, total: 2.25 s\n",
      "Wall time: 4.36 s\n"
     ]
    }
   ],
   "source": [
    "%%time\n",
    "# Annual max tasmax\n",
    "metric_id = \"max_tasmax\"\n",
    "gev_fit_all(metric_id)"
   ]
  },
  {
   "cell_type": "code",
   "execution_count": 10,
   "id": "5aee00b2-3948-420e-9a85-f6c4b03bd2aa",
   "metadata": {},
   "outputs": [
    {
     "name": "stdout",
     "output_type": "stream",
     "text": [
      "CPU times: user 1min 31s, sys: 8.9 s, total: 1min 40s\n",
      "Wall time: 25min 26s\n"
     ]
    }
   ],
   "source": [
    "%%time\n",
    "# Annual max cdd\n",
    "metric_id = \"max_cdd\"\n",
    "gev_fit_all(metric_id)"
   ]
  },
  {
   "cell_type": "code",
   "execution_count": 11,
   "id": "c1a1a87c-db31-4fcf-a2b6-3e05e0c6d587",
   "metadata": {},
   "outputs": [
    {
     "name": "stdout",
     "output_type": "stream",
     "text": [
      "CPU times: user 42.8 s, sys: 4.13 s, total: 46.9 s\n",
      "Wall time: 25min 31s\n"
     ]
    }
   ],
   "source": [
    "%%time\n",
    "# Annual max hdd\n",
    "metric_id = \"max_hdd\"\n",
    "gev_fit_all(metric_id)"
   ]
  },
  {
   "cell_type": "code",
   "execution_count": 9,
   "id": "d3172e6f-4141-443f-bdb8-45a84e567408",
   "metadata": {},
   "outputs": [
    {
     "name": "stdout",
     "output_type": "stream",
     "text": [
      "CPU times: user 3min 11s, sys: 17.2 s, total: 3min 28s\n",
      "Wall time: 24min 40s\n"
     ]
    }
   ],
   "source": [
    "%%time\n",
    "# Annual min tasmin\n",
    "metric_id = \"min_tasmin\"\n",
    "gev_fit_all(metric_id)"
   ]
  },
  {
   "cell_type": "code",
   "execution_count": 13,
   "id": "e2c68702-e5c7-4adf-bc2c-5784f63efad6",
   "metadata": {
    "tags": []
   },
   "outputs": [
    {
     "name": "stdout",
     "output_type": "stream",
     "text": [
      "CPU times: user 44.6 s, sys: 4.37 s, total: 48.9 s\n",
      "Wall time: 26min 32s\n"
     ]
    }
   ],
   "source": [
    "%%time\n",
    "# Annual max precip\n",
    "metric_id = \"max_pr\"\n",
    "gev_fit_all(metric_id)"
   ]
  },
  {
   "cell_type": "code",
   "execution_count": 14,
   "id": "6141fc8a-d086-4f20-af0e-93e97150e6f7",
   "metadata": {},
   "outputs": [],
   "source": [
    "client.shutdown()"
   ]
  },
  {
   "cell_type": "markdown",
   "id": "45f66405-7653-4ed6-9c8a-c09c66e07cc1",
   "metadata": {},
   "source": [
    "## Regridding"
   ]
  },
  {
   "cell_type": "code",
   "execution_count": 11,
   "id": "e92a06b4-cdda-4f45-9b3a-9b2d6cdc9394",
   "metadata": {},
   "outputs": [
    {
     "name": "stdout",
     "output_type": "stream",
     "text": [
      "CPU times: user 28.6 s, sys: 6.82 s, total: 35.4 s\n",
      "Wall time: 58.6 s\n"
     ]
    }
   ],
   "source": [
    "%%time\n",
    "# Regrid to LOCA using NN\n",
    "method = \"nearest\"\n",
    "\n",
    "for metric_id in metric_ids:\n",
    "    # Save path\n",
    "    store_path = f\"{project_data_path}/extreme_value/loca_grid/{metric_id}\"\n",
    "    # Get all files\n",
    "    files = glob(f\"{project_data_path}/extreme_value/original_grids/{metric_id}/STAR-ESDM*\") + \\\n",
    "            glob(f\"{project_data_path}/extreme_value/original_grids/{metric_id}/GARD-LENS*\")\n",
    "\n",
    "    # Loop through\n",
    "    for file in files:\n",
    "        # Check if done\n",
    "        file_name = file.split('/')[-1]\n",
    "        store_name = file_name.replace(\".nc\", f\"_{method}.nc\")\n",
    "        if not os.path.exists(f\"{store_path}/{store_name}\"):\n",
    "            # Regrid and store\n",
    "            ds_tmp = xr.open_dataset(file)\n",
    "            ds_out = regrid_to_loca(ds_tmp, method=method)\n",
    "            ds_out.to_netcdf(f\"{store_path}/{store_name}\")"
   ]
  },
  {
   "cell_type": "code",
   "execution_count": null,
   "id": "c3e356d0-766f-4344-8447-440cc1b238bf",
   "metadata": {},
   "outputs": [],
   "source": []
  }
 ],
 "metadata": {
  "kernelspec": {
   "display_name": "Python 3 (ipykernel)",
   "language": "python",
   "name": "python3"
  },
  "language_info": {
   "codemirror_mode": {
    "name": "ipython",
    "version": 3
   },
   "file_extension": ".py",
   "mimetype": "text/x-python",
   "name": "python",
   "nbconvert_exporter": "python",
   "pygments_lexer": "ipython3",
   "version": "3.12.7"
  }
 },
 "nbformat": 4,
 "nbformat_minor": 5
}
