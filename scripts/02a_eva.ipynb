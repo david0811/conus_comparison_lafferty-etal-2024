{
 "cells": [
  {
   "cell_type": "code",
   "execution_count": 1,
   "id": "cdd3932a-71ec-4b1d-9945-103ae7a9cb38",
   "metadata": {
    "tags": []
   },
   "outputs": [],
   "source": [
    "import os\n",
    "from glob import glob\n",
    "import numpy as np\n",
    "import pandas as pd\n",
    "import xarray as xr\n",
    "import dask\n",
    "import gev_utils as gevu\n",
    "from regridding import regrid\n",
    "from utils import loca_gard_mapping, gev_metric_ids"
   ]
  },
  {
   "cell_type": "code",
   "execution_count": 2,
   "id": "d8b33f7e-6731-49cb-ac93-b59f772c74ca",
   "metadata": {},
   "outputs": [],
   "source": [
    "################\n",
    "#### Paths #####\n",
    "################\n",
    "# Update these for reproduction\n",
    "\n",
    "project_data_path = \"/storage/group/pches/default/users/dcl5300/conus_comparison_lafferty-etal-2024\"\n",
    "project_code_path = \"/storage/home/dcl5300/work/current_projects/conus_comparison_lafferty-etal-2024\""
   ]
  },
  {
   "cell_type": "code",
   "execution_count": 3,
   "id": "5fb42c58-cdbf-4a3d-b626-37d6e3b381b3",
   "metadata": {},
   "outputs": [],
   "source": [
    "# ############\n",
    "# ### Dask ###\n",
    "# ############\n",
    "# from dask_jobqueue import SLURMCluster\n",
    "\n",
    "# cluster = SLURMCluster(\n",
    "#     # account=\"pches\",\n",
    "#     account=\"open\",\n",
    "#     cores=1,\n",
    "#     memory=\"10GiB\",\n",
    "#     walltime=\"00:20:00\",\n",
    "# )\n",
    "\n",
    "# cluster.scale(jobs=10)  # ask for jobs\n",
    "\n",
    "# from dask.distributed import Client\n",
    "\n",
    "# client = Client(cluster)\n",
    "\n",
    "# client"
   ]
  },
  {
   "cell_type": "markdown",
   "id": "b10567e7-f2b7-45c1-b5e5-e48dcbe3eb86",
   "metadata": {},
   "source": [
    "## Fit GEV"
   ]
  },
  {
   "cell_type": "code",
   "execution_count": 3,
   "id": "dfcc66dd-a76f-4fbd-8130-bc228b0bd3df",
   "metadata": {},
   "outputs": [],
   "source": [
    "ds_in = xr.open_mfdataset('/storage/group/pches/default/users/dcl5300/conus_comparison_lafferty-etal-2024/metrics/LOCA2/max_pr_CanESM5_r1i1p1f1_ssp585_*.nc')\n",
    "\n",
    "ds_in = ds_in.sel(time=slice(\"2050-01-01\", \"2100-12-31\")).load()"
   ]
  },
  {
   "cell_type": "code",
   "execution_count": 4,
   "id": "93141c79-c04d-4984-bc10-45ca1eb8262e",
   "metadata": {},
   "outputs": [
    {
     "name": "stdout",
     "output_type": "stream",
     "text": [
      "CPU times: user 1min 45s, sys: 73.9 ms, total: 1min 45s\n",
      "Wall time: 1min 46s\n"
     ]
    }
   ],
   "source": [
    "%%time\n",
    "ds_fit = gevu.fit_gev_xr(\n",
    "    ds=ds_in,\n",
    "    metric_id=\"max_pr\",\n",
    "    stationary=True,\n",
    "    fit_method=\"lmom\",\n",
    "    years=[2050,2100],\n",
    "    expected_length=2100-2050+1,\n",
    "    periods_for_level=[10,25,50,100],\n",
    "    numba=False\n",
    ")"
   ]
  },
  {
   "cell_type": "code",
   "execution_count": 4,
   "id": "f98e3570-2021-4ade-9ea9-5eb3daf9c061",
   "metadata": {},
   "outputs": [
    {
     "name": "stdout",
     "output_type": "stream",
     "text": [
      "CPU times: user 11.8 s, sys: 226 ms, total: 12 s\n",
      "Wall time: 12.2 s\n"
     ]
    }
   ],
   "source": [
    "%%time\n",
    "ds_fit_numba = gevu.fit_gev_xr(\n",
    "    ds=ds_in,\n",
    "    metric_id=\"max_pr\",\n",
    "    stationary=True,\n",
    "    fit_method=\"lmom\",\n",
    "    years=[2050,2100],\n",
    "    expected_length=2100-2050+1,\n",
    "    periods_for_level=[10,25,50,100],\n",
    "    numba=True\n",
    ")"
   ]
  },
  {
   "cell_type": "code",
   "execution_count": null,
   "id": "dfba78a0-8e1c-4543-9764-520b5788abda",
   "metadata": {},
   "outputs": [
    {
     "name": "stderr",
     "output_type": "stream",
     "text": [
      "/storage/work/dcl5300/current_projects/conus_comparison_lafferty-etal-2024/.venv/lib/python3.12/site-packages/numpy/lib/nanfunctions.py:1563: RuntimeWarning: All-NaN slice encountered\n",
      "  return function_base._ureduce(a,\n",
      "/storage/work/dcl5300/current_projects/conus_comparison_lafferty-etal-2024/src/gev_utils.py:29: RuntimeWarning: divide by zero encountered in scalar divide\n",
      "  level = loc + scale / shape * (1 - (-np.log(quantile)) ** (shape))\n",
      "/storage/work/dcl5300/current_projects/conus_comparison_lafferty-etal-2024/src/gev_utils.py:29: RuntimeWarning: invalid value encountered in multiply\n",
      "  level = loc + scale / shape * (1 - (-np.log(quantile)) ** (shape))\n"
     ]
    }
   ],
   "source": [
    "%%time\n",
    "out = gevu.fit_gev_xr_bootstrap(\n",
    "    ensemble=\"LOCA2\",\n",
    "    gcm=\"CanESM5\",\n",
    "    member=\"r1i1p1f1\",\n",
    "    ssp=\"ssp585\",\n",
    "    metric_id=\"max_pr\",\n",
    "    years=[2050,2100],\n",
    "    expected_length=2100-2050+1,\n",
    "    fit_method=\"lmom\",\n",
    "    store_path=f\"{project_data_path}/extreme_value/original_grid/max_pr/\",\n",
    "    bootstrap=\"parametric\",\n",
    "    n_boot=100,\n",
    "    stationary=True,\n",
    "    periods_for_level=[10,25,50,100],\n",
    "    numba=True\n",
    ")"
   ]
  },
  {
   "cell_type": "code",
   "execution_count": 4,
   "id": "e47a2e86-8a88-4d58-82e3-39782e7d7e10",
   "metadata": {},
   "outputs": [
    {
     "name": "stdout",
     "output_type": "stream",
     "text": [
      "CPU times: user 46.6 s, sys: 3.4 s, total: 50 s\n",
      "Wall time: 6min 43s\n"
     ]
    }
   ],
   "source": [
    "%%time\n",
    "# Stationary, L-moments\n",
    "for metric_id in gev_metric_ids:\n",
    "    gevu.gev_fit_all(\n",
    "        metric_id = metric_id,\n",
    "        stationary = True,\n",
    "        fit_method = \"lmom\",\n",
    "        periods_for_level = [10, 25, 50, 100],\n",
    "        levels_for_period = None,\n",
    "        proj_years = [2050,2100],\n",
    "        hist_years = [1950,2014]\n",
    "    )"
   ]
  },
  {
   "cell_type": "markdown",
   "id": "45f66405-7653-4ed6-9c8a-c09c66e07cc1",
   "metadata": {},
   "source": [
    "## Regridding"
   ]
  },
  {
   "cell_type": "code",
   "execution_count": 4,
   "id": "e92a06b4-cdda-4f45-9b3a-9b2d6cdc9394",
   "metadata": {},
   "outputs": [
    {
     "name": "stdout",
     "output_type": "stream",
     "text": [
      "CPU times: user 2min 33s, sys: 1min 19s, total: 3min 53s\n",
      "Wall time: 8min 12s\n"
     ]
    }
   ],
   "source": [
    "%%time\n",
    "# Regrid to LOCA using NN\n",
    "method = \"nearest\"\n",
    "target = \"LOCA2\"\n",
    "\n",
    "for metric_id in gev_metric_ids:\n",
    "    # Save path\n",
    "    store_path = f\"{project_data_path}/extreme_value/loca_grid/{metric_id}\"\n",
    "    # Get all files\n",
    "    files = glob(f\"{project_data_path}/extreme_value/original_grid/{metric_id}/STAR-ESDM*\") + \\\n",
    "            glob(f\"{project_data_path}/extreme_value/original_grid/{metric_id}/GARD-LENS*\")\n",
    "\n",
    "    # Loop through\n",
    "    for file in files:\n",
    "        # Check if done\n",
    "        file_name = file.split('/')[-1]\n",
    "        store_name = file_name.replace(\".nc\", f\"_{method}.nc\")\n",
    "        if not os.path.exists(f\"{store_path}/{store_name}\"):\n",
    "            # Regrid and store\n",
    "            ds_tmp = xr.open_dataset(file)\n",
    "            ds_out = regrid(ds_tmp, method=method, target=target)\n",
    "            ds_out.to_netcdf(f\"{store_path}/{store_name}\")"
   ]
  },
  {
   "cell_type": "code",
   "execution_count": 11,
   "id": "c3e356d0-766f-4344-8447-440cc1b238bf",
   "metadata": {},
   "outputs": [
    {
     "name": "stdout",
     "output_type": "stream",
     "text": [
      "CPU times: user 2min 11s, sys: 1min 13s, total: 3min 24s\n",
      "Wall time: 9min 6s\n"
     ]
    }
   ],
   "source": [
    "%%time\n",
    "# Regrid to GARD-LENS using NN\n",
    "method = \"nearest\"\n",
    "target = \"GARD-LENS\"\n",
    "\n",
    "for metric_id in gev_metric_ids:\n",
    "    # Save path\n",
    "    store_path = f\"{project_data_path}/extreme_value/gard_grid/{metric_id}\"\n",
    "    # Get all files\n",
    "    files = glob(f\"{project_data_path}/extreme_value/original_grid/{metric_id}/STAR-ESDM*\") + \\\n",
    "            glob(f\"{project_data_path}/extreme_value/original_grid/{metric_id}/LOCA2*\")\n",
    "\n",
    "    # Loop through\n",
    "    for file in files:\n",
    "        # Check if done\n",
    "        file_name = file.split('/')[-1]\n",
    "        store_name = file_name.replace(\".nc\", f\"_{method}.nc\")\n",
    "        if not os.path.exists(f\"{store_path}/{store_name}\"):\n",
    "            # Regrid and store\n",
    "            ds_tmp = xr.open_dataset(file)\n",
    "            ds_out = regrid(ds_tmp, method=method, target=target)\n",
    "            ds_out.to_netcdf(f\"{store_path}/{store_name}\")"
   ]
  },
  {
   "cell_type": "code",
   "execution_count": null,
   "id": "316d2c90-597c-4b98-9908-77299150dc4f",
   "metadata": {},
   "outputs": [],
   "source": []
  }
 ],
 "metadata": {
  "kernelspec": {
   "display_name": "Python 3 (ipykernel)",
   "language": "python",
   "name": "python3"
  },
  "language_info": {
   "codemirror_mode": {
    "name": "ipython",
    "version": 3
   },
   "file_extension": ".py",
   "mimetype": "text/x-python",
   "name": "python",
   "nbconvert_exporter": "python",
   "pygments_lexer": "ipython3",
   "version": "3.12.7"
  }
 },
 "nbformat": 4,
 "nbformat_minor": 5
}
