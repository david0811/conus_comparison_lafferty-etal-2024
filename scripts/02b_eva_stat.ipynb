{
 "cells": [
  {
   "cell_type": "code",
   "execution_count": 1,
   "id": "cdd3932a-71ec-4b1d-9945-103ae7a9cb38",
   "metadata": {
    "tags": []
   },
   "outputs": [],
   "source": [
    "import os\n",
    "from glob import glob\n",
    "\n",
    "import xarray as xr\n",
    "from regridding import regrid\n",
    "\n",
    "import gev_stat_utils as gevsu\n",
    "\n",
    "from utils import gev_metric_ids\n",
    "from utils import roar_data_path as project_data_path"
   ]
  },
  {
   "cell_type": "code",
   "execution_count": 2,
   "id": "5fb42c58-cdbf-4a3d-b626-37d6e3b381b3",
   "metadata": {},
   "outputs": [
    {
     "data": {
      "text/html": [
       "<div>\n",
       "    <div style=\"width: 24px; height: 24px; background-color: #e1e1e1; border: 3px solid #9D9D9D; border-radius: 5px; position: absolute;\"> </div>\n",
       "    <div style=\"margin-left: 48px;\">\n",
       "        <h3 style=\"margin-bottom: 0px;\">Client</h3>\n",
       "        <p style=\"color: #9D9D9D; margin-bottom: 0px;\">Client-09989d50-1189-11f0-a0a8-3fde3a9d4fcc</p>\n",
       "        <table style=\"width: 100%; text-align: left;\">\n",
       "\n",
       "        <tr>\n",
       "        \n",
       "            <td style=\"text-align: left;\"><strong>Connection method:</strong> Cluster object</td>\n",
       "            <td style=\"text-align: left;\"><strong>Cluster type:</strong> dask_jobqueue.SLURMCluster</td>\n",
       "        \n",
       "        </tr>\n",
       "\n",
       "        \n",
       "            <tr>\n",
       "                <td style=\"text-align: left;\">\n",
       "                    <strong>Dashboard: </strong> <a href=\"/proxy/8787/status\" target=\"_blank\">/proxy/8787/status</a>\n",
       "                </td>\n",
       "                <td style=\"text-align: left;\"></td>\n",
       "            </tr>\n",
       "        \n",
       "\n",
       "        </table>\n",
       "\n",
       "        \n",
       "            <button style=\"margin-bottom: 12px;\" data-commandlinker-command=\"dask:populate-and-launch-layout\" data-commandlinker-args='{\"url\": \"/proxy/8787/status\" }'>\n",
       "                Launch dashboard in JupyterLab\n",
       "            </button>\n",
       "        \n",
       "\n",
       "        \n",
       "            <details>\n",
       "            <summary style=\"margin-bottom: 20px;\"><h3 style=\"display: inline;\">Cluster Info</h3></summary>\n",
       "            <div class=\"jp-RenderedHTMLCommon jp-RenderedHTML jp-mod-trusted jp-OutputArea-output\">\n",
       "    <div style=\"width: 24px; height: 24px; background-color: #e1e1e1; border: 3px solid #9D9D9D; border-radius: 5px; position: absolute;\">\n",
       "    </div>\n",
       "    <div style=\"margin-left: 48px;\">\n",
       "        <h3 style=\"margin-bottom: 0px; margin-top: 0px;\">SLURMCluster</h3>\n",
       "        <p style=\"color: #9D9D9D; margin-bottom: 0px;\">75cf1242</p>\n",
       "        <table style=\"width: 100%; text-align: left;\">\n",
       "            <tr>\n",
       "                <td style=\"text-align: left;\">\n",
       "                    <strong>Dashboard:</strong> <a href=\"/proxy/8787/status\" target=\"_blank\">/proxy/8787/status</a>\n",
       "                </td>\n",
       "                <td style=\"text-align: left;\">\n",
       "                    <strong>Workers:</strong> 0\n",
       "                </td>\n",
       "            </tr>\n",
       "            <tr>\n",
       "                <td style=\"text-align: left;\">\n",
       "                    <strong>Total threads:</strong> 0\n",
       "                </td>\n",
       "                <td style=\"text-align: left;\">\n",
       "                    <strong>Total memory:</strong> 0 B\n",
       "                </td>\n",
       "            </tr>\n",
       "            \n",
       "        </table>\n",
       "\n",
       "        <details>\n",
       "            <summary style=\"margin-bottom: 20px;\">\n",
       "                <h3 style=\"display: inline;\">Scheduler Info</h3>\n",
       "            </summary>\n",
       "\n",
       "            <div style=\"\">\n",
       "    <div>\n",
       "        <div style=\"width: 24px; height: 24px; background-color: #FFF7E5; border: 3px solid #FF6132; border-radius: 5px; position: absolute;\"> </div>\n",
       "        <div style=\"margin-left: 48px;\">\n",
       "            <h3 style=\"margin-bottom: 0px;\">Scheduler</h3>\n",
       "            <p style=\"color: #9D9D9D; margin-bottom: 0px;\">Scheduler-707f738c-e328-4054-960c-21a2469eceb7</p>\n",
       "            <table style=\"width: 100%; text-align: left;\">\n",
       "                <tr>\n",
       "                    <td style=\"text-align: left;\">\n",
       "                        <strong>Comm:</strong> tcp://10.6.8.214:41831\n",
       "                    </td>\n",
       "                    <td style=\"text-align: left;\">\n",
       "                        <strong>Workers:</strong> 0\n",
       "                    </td>\n",
       "                </tr>\n",
       "                <tr>\n",
       "                    <td style=\"text-align: left;\">\n",
       "                        <strong>Dashboard:</strong> <a href=\"/proxy/8787/status\" target=\"_blank\">/proxy/8787/status</a>\n",
       "                    </td>\n",
       "                    <td style=\"text-align: left;\">\n",
       "                        <strong>Total threads:</strong> 0\n",
       "                    </td>\n",
       "                </tr>\n",
       "                <tr>\n",
       "                    <td style=\"text-align: left;\">\n",
       "                        <strong>Started:</strong> Just now\n",
       "                    </td>\n",
       "                    <td style=\"text-align: left;\">\n",
       "                        <strong>Total memory:</strong> 0 B\n",
       "                    </td>\n",
       "                </tr>\n",
       "            </table>\n",
       "        </div>\n",
       "    </div>\n",
       "\n",
       "    <details style=\"margin-left: 48px;\">\n",
       "        <summary style=\"margin-bottom: 20px;\">\n",
       "            <h3 style=\"display: inline;\">Workers</h3>\n",
       "        </summary>\n",
       "\n",
       "        \n",
       "\n",
       "    </details>\n",
       "</div>\n",
       "\n",
       "        </details>\n",
       "    </div>\n",
       "</div>\n",
       "            </details>\n",
       "        \n",
       "\n",
       "    </div>\n",
       "</div>"
      ],
      "text/plain": [
       "<Client: 'tcp://10.6.8.214:41831' processes=0 threads=0, memory=0 B>"
      ]
     },
     "execution_count": 2,
     "metadata": {},
     "output_type": "execute_result"
    },
    {
     "name": "stderr",
     "output_type": "stream",
     "text": [
      "2025-04-04 15:25:10,064 - distributed.scheduler - ERROR - Task gev_fit_single_bootstrap-ec5bfd25-c743-475f-83e3-a535c0b72c93 marked as failed because 4 workers died while trying to run it\n"
     ]
    }
   ],
   "source": [
    "############\n",
    "### Dask ###\n",
    "############\n",
    "from dask_jobqueue import SLURMCluster\n",
    "\n",
    "cluster = SLURMCluster(\n",
    "    account=\"pches_cr_default\",\n",
    "    queue='basic',\n",
    "    cores=1,\n",
    "    processes=1,\n",
    "    memory=\"40GiB\",\n",
    "    walltime=\"02:00:00\",\n",
    ")\n",
    "\n",
    "cluster.scale(jobs=1)  # ask for jobs\n",
    "\n",
    "from dask.distributed import Client\n",
    "client = Client(cluster)\n",
    "client"
   ]
  },
  {
   "cell_type": "markdown",
   "id": "b10567e7-f2b7-45c1-b5e5-e48dcbe3eb86",
   "metadata": {},
   "source": [
    "## Fit GEV"
   ]
  },
  {
   "cell_type": "code",
   "execution_count": 4,
   "id": "e47a2e86-8a88-4d58-82e3-39782e7d7e10",
   "metadata": {},
   "outputs": [
    {
     "name": "stdout",
     "output_type": "stream",
     "text": [
      "CPU times: user 13.8 s, sys: 829 ms, total: 14.7 s\n",
      "Wall time: 31.7 s\n"
     ]
    }
   ],
   "source": [
    "# Stationary, L-moments, main\n",
    "for metric_id in gev_metric_ids:\n",
    "    gevsu.gev_fit_all(\n",
    "        metric_id=metric_id,\n",
    "        stationary=True,\n",
    "        fit_method=\"lmom\",\n",
    "        periods_for_level=[10, 25, 50, 100],\n",
    "        levels_for_period=None,\n",
    "        proj_years=[2050, 2100],\n",
    "        hist_years=[1950, 2014],\n",
    "        bootstrap=False,\n",
    "    )"
   ]
  },
  {
   "cell_type": "code",
   "execution_count": null,
   "id": "22ef105c-8ca0-41ae-9839-ea735d924abc",
   "metadata": {},
   "outputs": [],
   "source": [
    "## Stationary, L-moments, bootstrap\n",
    "\n",
    "# Can separate STAR-ESDM since it's higher resolution\n",
    "# and requires significantly more memory\n",
    "for metric_id in gev_metric_ids[:1]:\n",
    "    gevsu.gev_fit_all(\n",
    "        metric_id=metric_id,\n",
    "        stationary=True,\n",
    "        fit_method=\"lmom\",\n",
    "        periods_for_level=[10, 25, 50, 100],\n",
    "        levels_for_period=None,\n",
    "        proj_years=[2050, 2100],\n",
    "        hist_years=[1950, 2014],\n",
    "        bootstrap=True,\n",
    "        n_boot_proj=100,\n",
    "        n_boot_hist=1,\n",
    "        include_STAR_ESDM=False,\n",
    "    )"
   ]
  },
  {
   "cell_type": "markdown",
   "id": "45f66405-7653-4ed6-9c8a-c09c66e07cc1",
   "metadata": {},
   "source": [
    "## Regridding"
   ]
  },
  {
   "cell_type": "code",
   "execution_count": 2,
   "id": "e92a06b4-cdda-4f45-9b3a-9b2d6cdc9394",
   "metadata": {},
   "outputs": [
    {
     "name": "stdout",
     "output_type": "stream",
     "text": [
      "CPU times: user 1min 6s, sys: 49 s, total: 1min 55s\n",
      "Wall time: 2min 53s\n"
     ]
    }
   ],
   "source": [
    "%%time\n",
    "# Regrid to LOCA using NN\n",
    "method = \"nearest\"\n",
    "target = \"LOCA2\"\n",
    "\n",
    "for metric_id in gev_metric_ids:\n",
    "    # Save path\n",
    "    store_path = f\"{project_data_path}/extreme_value/loca_grid/{metric_id}\"\n",
    "    # Get all files\n",
    "    files = glob(\n",
    "        f\"{project_data_path}/extreme_value/original_grid/{metric_id}/STAR-ESDM*\"\n",
    "    ) + glob(f\"{project_data_path}/extreme_value/original_grid/{metric_id}/GARD-LENS*\")\n",
    "\n",
    "    # Loop through\n",
    "    for file in files:\n",
    "        # Check if done\n",
    "        file_name = file.split(\"/\")[-1]\n",
    "        store_name = file_name.replace(\".nc\", f\"_{method}.nc\")\n",
    "        if not os.path.exists(f\"{store_path}/{store_name}\"):\n",
    "            # Regrid and store\n",
    "            ds_tmp = xr.open_dataset(file)\n",
    "            ds_out = regrid(ds_tmp, method=method, target=target)\n",
    "            ds_out.to_netcdf(f\"{store_path}/{store_name}\")"
   ]
  },
  {
   "cell_type": "code",
   "execution_count": 3,
   "id": "c3e356d0-766f-4344-8447-440cc1b238bf",
   "metadata": {},
   "outputs": [
    {
     "name": "stdout",
     "output_type": "stream",
     "text": [
      "CPU times: user 1min 36s, sys: 1min 13s, total: 2min 50s\n",
      "Wall time: 5min 39s\n"
     ]
    }
   ],
   "source": [
    "%%time\n",
    "# Regrid to GARD-LENS using NN\n",
    "method = \"nearest\"\n",
    "target = \"GARD-LENS\"\n",
    "\n",
    "for metric_id in gev_metric_ids:\n",
    "    # Save path\n",
    "    store_path = f\"{project_data_path}/extreme_value/gard_grid/{metric_id}\"\n",
    "    # Get all files\n",
    "    files = glob(\n",
    "        f\"{project_data_path}/extreme_value/original_grid/{metric_id}/STAR-ESDM*\"\n",
    "    ) + glob(f\"{project_data_path}/extreme_value/original_grid/{metric_id}/LOCA2*\")\n",
    "\n",
    "    # Loop through\n",
    "    for file in files:\n",
    "        # Check if done\n",
    "        file_name = file.split(\"/\")[-1]\n",
    "        store_name = file_name.replace(\".nc\", f\"_{method}.nc\")\n",
    "        if not os.path.exists(f\"{store_path}/{store_name}\"):\n",
    "            # Regrid and store\n",
    "            ds_tmp = xr.open_dataset(file)\n",
    "            ds_out = regrid(ds_tmp, method=method, target=target)\n",
    "            ds_out.to_netcdf(f\"{store_path}/{store_name}\")"
   ]
  },
  {
   "cell_type": "code",
   "execution_count": null,
   "id": "316d2c90-597c-4b98-9908-77299150dc4f",
   "metadata": {},
   "outputs": [],
   "source": []
  }
 ],
 "metadata": {
  "kernelspec": {
   "display_name": "Python 3 (ipykernel)",
   "language": "python",
   "name": "python3"
  },
  "language_info": {
   "codemirror_mode": {
    "name": "ipython",
    "version": 3
   },
   "file_extension": ".py",
   "mimetype": "text/x-python",
   "name": "python",
   "nbconvert_exporter": "python",
   "pygments_lexer": "ipython3",
   "version": "3.12.7"
  }
 },
 "nbformat": 4,
 "nbformat_minor": 5
}
