{
 "cells": [
  {
   "cell_type": "code",
   "execution_count": 1,
   "id": "cdd3932a-71ec-4b1d-9945-103ae7a9cb38",
   "metadata": {
    "tags": []
   },
   "outputs": [],
   "source": [
    "import os\n",
    "from glob import glob\n",
    "import warnings\n",
    "import numpy as np\n",
    "import xarray as xr\n",
    "from regridding import regrid\n",
    "\n",
    "import gev_stat_utils as gevsu\n",
    "\n",
    "from utils import gev_metric_ids\n",
    "from utils import roar_data_path as project_data_path"
   ]
  },
  {
   "cell_type": "code",
   "execution_count": 3,
   "id": "5fb42c58-cdbf-4a3d-b626-37d6e3b381b3",
   "metadata": {},
   "outputs": [],
   "source": [
    "# ############\n",
    "# ### Dask ###\n",
    "# ############\n",
    "# from dask_jobqueue import SLURMCluster\n",
    "\n",
    "# cluster = SLURMCluster(\n",
    "#     account=\"pches_cr_default\",\n",
    "#     queue='basic',\n",
    "#     cores=1,\n",
    "#     processes=1,\n",
    "#     memory=\"80GiB\",\n",
    "#     walltime=\"01:00:00\",\n",
    "# )\n",
    "\n",
    "# cluster.scale(jobs=24)  # ask for jobs\n",
    "\n",
    "# from dask.distributed import Client\n",
    "# client = Client(cluster)\n",
    "# client"
   ]
  },
  {
   "cell_type": "markdown",
   "id": "b10567e7-f2b7-45c1-b5e5-e48dcbe3eb86",
   "metadata": {},
   "source": [
    "## Fit GEV"
   ]
  },
  {
   "cell_type": "markdown",
   "id": "c4d8eb9d-2351-4b90-a1b6-ed766a4bc3a0",
   "metadata": {
    "jp-MarkdownHeadingCollapsed": true
   },
   "source": [
    "### Obs"
   ]
  },
  {
   "cell_type": "code",
   "execution_count": 45,
   "id": "1a1ca543-ec47-472f-8926-c1811a8360a5",
   "metadata": {
    "scrolled": true
   },
   "outputs": [],
   "source": [
    "# GMET\n",
    "years = [1980, 2016]\n",
    "expected_length = years[1] - years[0] + 1\n",
    "fit_method = 'lmom'\n",
    "periods_for_level = [10, 25, 50, 100]\n",
    "stationary = True\n",
    "\n",
    "ensemble = 'GARD-LENS'\n",
    "gcm = 'gmet'\n",
    "ssp = 'obs'\n",
    "\n",
    "time_name = f\"{years[0]}-{years[1]}\" if years is not None else \"all\"\n",
    "stat_name = \"stat\" if stationary else \"nonstat\"\n",
    "\n",
    "# Loop through metrics\n",
    "for metric_id in gev_metric_ids:\n",
    "    for ens_member in range(1,101):\n",
    "        # Get names\n",
    "        ens_member_str = str(ens_member).zfill(3)\n",
    "        info_name = f\"{ensemble}_{gcm}_{ens_member_str}_{ssp}\"\n",
    "        store_path = f\"{project_data_path}/extreme_value/original_grid/{metric_id}/\"\n",
    "            \n",
    "        # Read file\n",
    "        ds = xr.open_dataset(f'{project_data_path}/metrics/obs/gmet/{metric_id}_gmet_{ens_member_str}.nc')\n",
    "    \n",
    "        # Fit\n",
    "        with warnings.catch_warnings():\n",
    "            warnings.filterwarnings('ignore')\n",
    "            ## Main\n",
    "            save_str = f\"{info_name}_{time_name}_{stat_name}_{fit_method}_main.nc\"\n",
    "            if not os.path.exists(f\"{store_path}/{save_str}\"):\n",
    "                ds_out = gevsu.fit_gev_xr(ds = ds.sel(time=slice(\"1980\", \"2016\")),\n",
    "                                          metric_id=metric_id,\n",
    "                                          years=years,\n",
    "                                          expected_length=expected_length,\n",
    "                                          fit_method=fit_method,\n",
    "                                          periods_for_level=periods_for_level)\n",
    "    \n",
    "                # Store to be consistent with ensemble naming\n",
    "                ds_out.to_netcdf(f\"{store_path}/{save_str}\")\n",
    "\n",
    "            ## Bootstrap\n",
    "            save_str = f\"{info_name}_{time_name}_{stat_name}_{fit_method}_nboot100.nc\"\n",
    "            if not os.path.exists(f\"{store_path}/{save_str}\"):\n",
    "                ds_out = gevsu.fit_gev_xr_bootstrap(\n",
    "                    ensemble=ensemble,\n",
    "                    gcm=gcm,\n",
    "                    member=ens_member_str,\n",
    "                    ssp=ssp,\n",
    "                    years=years,\n",
    "                    fit_method=fit_method,\n",
    "                    store_path=store_path,\n",
    "                    periods_for_level=periods_for_level\n",
    "                )\n",
    "                ds_out.to_netcdf(f\"{store_path}/{save_str}\")"
   ]
  },
  {
   "cell_type": "code",
   "execution_count": 2,
   "id": "1ef323ba-ee13-48e2-b58f-244a00a5b6a2",
   "metadata": {
    "scrolled": true
   },
   "outputs": [],
   "source": [
    "# Livneh-unsplit\n",
    "years = [1950, 2014]\n",
    "expected_length = years[1] - years[0] + 1\n",
    "fit_method = 'lmom'\n",
    "periods_for_level = [10, 25, 50, 100]\n",
    "stationary = True\n",
    "ensemble = 'LOCA2'\n",
    "gcm = 'livneh-unsplit'\n",
    "member = 'None'\n",
    "ssp = 'obs'\n",
    "\n",
    "time_name = f\"{years[0]}-{years[1]}\" if years is not None else \"all\"\n",
    "stat_name = \"stat\" if stationary else \"nonstat\"\n",
    "info_name = f\"{ensemble}_{gcm}_{member}_{ssp}\"\n",
    "\n",
    "# Loop through metrics\n",
    "for metric_id in gev_metric_ids:\n",
    "    # Read file\n",
    "    ds = xr.open_dataset(f'{project_data_path}/metrics/obs/livneh_unsplit/{metric_id}_livneh_unsplit.nc')\n",
    "    \n",
    "    # Fit\n",
    "    with warnings.catch_warnings():\n",
    "        warnings.filterwarnings('ignore')\n",
    "        store_path = f\"{project_data_path}/extreme_value/original_grid/{metric_id}/\"\n",
    "        \n",
    "        ## Main\n",
    "        ds_out = gevsu.fit_gev_xr(ds = ds.sel(time=slice(\"1950\", \"2014\")),\n",
    "                                  metric_id=metric_id,\n",
    "                                  years=years,\n",
    "                                  expected_length=expected_length,\n",
    "                                  fit_method=fit_method,\n",
    "                                  periods_for_level=periods_for_level)\n",
    "    \n",
    "        # Store to be consistent with ensemble naming\n",
    "        ds_out.to_netcdf(f\"{store_path}/{info_name}_{time_name}_{stat_name}_{fit_method}_main.nc\")\n",
    "\n",
    "        ## Bootstrap\n",
    "        ds_out = gevsu.fit_gev_xr_bootstrap(\n",
    "            ensemble=ensemble,\n",
    "            gcm=gcm,\n",
    "            member=member,\n",
    "            ssp=ssp,\n",
    "            years=years,\n",
    "            fit_method=fit_method,\n",
    "            store_path=store_path,\n",
    "            periods_for_level=periods_for_level\n",
    "        )\n",
    "        ds_out.to_netcdf(f\"{store_path}/{info_name}_{time_name}_{stat_name}_{fit_method}_nboot100.nc\")"
   ]
  },
  {
   "cell_type": "code",
   "execution_count": 4,
   "id": "da81df4a-3646-441c-89bc-1369a98fee96",
   "metadata": {},
   "outputs": [],
   "source": [
    "# NClimGrid\n",
    "years = [1951, 2014]\n",
    "expected_length = years[1] - years[0] + 1\n",
    "fit_method = 'lmom'\n",
    "periods_for_level = [10, 25, 50, 100]\n",
    "stationary = True\n",
    "ensemble = 'STAR-ESDM'\n",
    "gcm = 'nclimgrid'\n",
    "member = 'None'\n",
    "ssp = 'obs'\n",
    "\n",
    "time_name = f\"{years[0]}-{years[1]}\" if years is not None else \"all\"\n",
    "stat_name = \"stat\" if stationary else \"nonstat\"\n",
    "info_name = f\"{ensemble}_{gcm}_{member}_{ssp}\"\n",
    "\n",
    "# Loop through metrics\n",
    "for metric_id in gev_metric_ids:\n",
    "    # Read file\n",
    "    ds = xr.open_dataset(f'{project_data_path}/metrics/obs/NClimGrid/{metric_id}_nclimgrid.nc')\n",
    "    \n",
    "    # Fit\n",
    "    with warnings.catch_warnings():\n",
    "        warnings.filterwarnings('ignore')\n",
    "        store_path = f\"{project_data_path}/extreme_value/original_grid/{metric_id}/\"\n",
    "        ## Main\n",
    "        ds_out = gevsu.fit_gev_xr(ds = ds.sel(time=slice(\"1950\", \"2014\")),\n",
    "                                  metric_id=metric_id,\n",
    "                                  years=years,\n",
    "                                  expected_length=expected_length,\n",
    "                                  fit_method=fit_method,\n",
    "                                  periods_for_level=periods_for_level)\n",
    "    \n",
    "        # Store to be consistent with ensemble naming\n",
    "        ds_out.to_netcdf(f\"{store_path}/{info_name}_{time_name}_{stat_name}_{fit_method}_main.nc\")\n",
    "\n",
    "        ## Bootstrap\n",
    "        ds_out = gevsu.fit_gev_xr_bootstrap(\n",
    "            ensemble=ensemble,\n",
    "            gcm=gcm,\n",
    "            member=member,\n",
    "            ssp=ssp,\n",
    "            years=years,\n",
    "            fit_method=fit_method,\n",
    "            store_path=store_path,\n",
    "            periods_for_level=periods_for_level\n",
    "        )\n",
    "        ds_out.to_netcdf(f\"{store_path}/{info_name}_{time_name}_{stat_name}_{fit_method}_nboot100.nc\")"
   ]
  },
  {
   "cell_type": "markdown",
   "id": "26d201c2-479a-4bf3-9eb3-e232b806fc9b",
   "metadata": {},
   "source": [
    "### Ensembles"
   ]
  },
  {
   "cell_type": "code",
   "execution_count": 4,
   "id": "e47a2e86-8a88-4d58-82e3-39782e7d7e10",
   "metadata": {},
   "outputs": [
    {
     "name": "stdout",
     "output_type": "stream",
     "text": [
      "CPU times: user 13.8 s, sys: 829 ms, total: 14.7 s\n",
      "Wall time: 31.7 s\n"
     ]
    }
   ],
   "source": [
    "# Stationary, L-moments, main\n",
    "for metric_id in gev_metric_ids:\n",
    "    gevsu.gev_fit_all(\n",
    "        metric_id=metric_id,\n",
    "        stationary=True,\n",
    "        fit_method=\"lmom\",\n",
    "        periods_for_level=[10, 25, 50, 100],\n",
    "        levels_for_period=None,\n",
    "        proj_years=[2050, 2100],\n",
    "        hist_years=[1950, 2014],\n",
    "        bootstrap=False,\n",
    "    )"
   ]
  },
  {
   "cell_type": "code",
   "execution_count": 3,
   "id": "22ef105c-8ca0-41ae-9839-ea735d924abc",
   "metadata": {},
   "outputs": [],
   "source": [
    "## Stationary, L-moments, bootstrap\n",
    "\n",
    "# Can separate STAR-ESDM since it's higher resolution\n",
    "# and requires significantly more memory\n",
    "\n",
    "# 40GB is enough for LOCA & GARD-LENS\n",
    "# 80GB needed for STAR\n",
    "for metric_id in gev_metric_ids:\n",
    "    gevsu.gev_fit_all(\n",
    "        metric_id=metric_id,\n",
    "        stationary=True,\n",
    "        fit_method=\"lmom\",\n",
    "        periods_for_level=[10, 25, 50, 100],\n",
    "        levels_for_period=None,\n",
    "        proj_years=[2050, 2100],\n",
    "        hist_years=[1950, 2014],\n",
    "        bootstrap=True,\n",
    "        n_boot_proj=100,\n",
    "        n_boot_hist=1,\n",
    "        include_STAR_ESDM=True,\n",
    "    )"
   ]
  },
  {
   "cell_type": "markdown",
   "id": "a38c63f6-1dba-4d50-a2d0-e8e0d4f90eb6",
   "metadata": {},
   "source": [
    "### TGW"
   ]
  },
  {
   "cell_type": "code",
   "execution_count": 2,
   "id": "e3385352-7dd4-432f-872f-6771363b77f0",
   "metadata": {},
   "outputs": [],
   "source": [
    "# Reads TGW and ensures years are correct\n",
    "def read_tgw(paths):\n",
    "    ds = []\n",
    "    for path in paths:\n",
    "        years = path[:-3].split('_')[-2:]\n",
    "        ds_tmp = xr.open_dataset(path)\n",
    "        ds_tmp = ds_tmp.sel(time=slice(str(years[0]), str(years[1])))\n",
    "        ds.append(ds_tmp)\n",
    "\n",
    "    return xr.concat(ds, dim='time').load()"
   ]
  },
  {
   "cell_type": "code",
   "execution_count": 3,
   "id": "28d5bec1-a251-490d-9e0c-e6c1f8df4009",
   "metadata": {},
   "outputs": [],
   "source": [
    "# Get scenarios\n",
    "tgw_scenarios = np.unique([name.split('_')[2] for name in os.listdir(f\"{project_data_path}/metrics/TGW/\")])"
   ]
  },
  {
   "cell_type": "code",
   "execution_count": 43,
   "id": "4f32ee88-4087-4275-aa47-85b15baa42dc",
   "metadata": {},
   "outputs": [],
   "source": [
    "# TGW\n",
    "fit_method = 'lmom'\n",
    "periods_for_level = [10, 25, 50, 100]\n",
    "stationary = True\n",
    "ensemble = 'TGW'\n",
    "gcm = 'WRF'\n",
    "member = 'None'\n",
    "\n",
    "stat_name = \"stat\" if stationary else \"nonstat\"\n",
    "\n",
    "# Loop through metrics\n",
    "for metric_id in gev_metric_ids:\n",
    "    for ssp in tgw_scenarios:\n",
    "        # Read file\n",
    "        paths = glob(f'{project_data_path}/metrics/TGW/{metric_id}_{ssp}_*.nc')\n",
    "        ds = read_tgw(paths)\n",
    "\n",
    "        # Fit info\n",
    "        years = [1980,2019] if ssp == \"historical\" else [2049,2099]\n",
    "        expected_length = years[1] - years[0] + 1\n",
    "        time_name = f\"{years[0]}-{years[1]}\" if years is not None else \"all\"\n",
    "        info_name = f\"{ensemble}_{gcm}_{member}_{ssp}\"\n",
    "    \n",
    "        # Fit\n",
    "        with warnings.catch_warnings():\n",
    "            warnings.filterwarnings('ignore')\n",
    "            store_path = f\"{project_data_path}/extreme_value/original_grid/{metric_id}/\"\n",
    "            ## Main\n",
    "            ds_out = gevsu.fit_gev_xr(ds = ds.sel(time=slice(str(years[0]), str(years[1]))),\n",
    "                                      metric_id=metric_id,\n",
    "                                      years=years,\n",
    "                                      expected_length=expected_length,\n",
    "                                      fit_method=fit_method,\n",
    "                                      periods_for_level=periods_for_level)\n",
    "    \n",
    "            # Store to be consistent with ensemble naming\n",
    "            ds_out.to_netcdf(f\"{store_path}/{info_name}_{time_name}_{stat_name}_{fit_method}_main.nc\")\n",
    "\n",
    "            ## Bootstrap\n",
    "            ds_out = gevsu.fit_gev_xr_bootstrap(\n",
    "                ensemble=ensemble,\n",
    "                gcm=gcm,\n",
    "                member=member,\n",
    "                ssp=ssp,\n",
    "                years=years,\n",
    "                fit_method=fit_method,\n",
    "                store_path=store_path,\n",
    "                periods_for_level=periods_for_level\n",
    "            )\n",
    "            ds_out.to_netcdf(f\"{store_path}/{info_name}_{time_name}_{stat_name}_{fit_method}_nboot100.nc\")"
   ]
  },
  {
   "cell_type": "markdown",
   "id": "45f66405-7653-4ed6-9c8a-c09c66e07cc1",
   "metadata": {},
   "source": [
    "## Regridding"
   ]
  },
  {
   "cell_type": "code",
   "execution_count": 2,
   "id": "e92a06b4-cdda-4f45-9b3a-9b2d6cdc9394",
   "metadata": {},
   "outputs": [
    {
     "name": "stdout",
     "output_type": "stream",
     "text": [
      "CPU times: user 147 ms, sys: 469 ms, total: 616 ms\n",
      "Wall time: 9.6 s\n"
     ]
    }
   ],
   "source": [
    "%%time\n",
    "# Regrid to LOCA using NN\n",
    "method = \"nearest\"\n",
    "target = \"LOCA2\"\n",
    "\n",
    "for metric_id in gev_metric_ids:\n",
    "    # Save path\n",
    "    store_path = f\"{project_data_path}/extreme_value/loca_grid/{metric_id}\"\n",
    "    # Get all files\n",
    "    files = glob(\n",
    "        f\"{project_data_path}/extreme_value/original_grid/{metric_id}/STAR-ESDM*\"\n",
    "    ) + glob(f\"{project_data_path}/extreme_value/original_grid/{metric_id}/GARD-LENS*\")\n",
    "\n",
    "    # Loop through\n",
    "    for file in files:\n",
    "        # Check if done\n",
    "        file_name = file.split(\"/\")[-1]\n",
    "        store_name = file_name.replace(\".nc\", f\"_{method}.nc\")\n",
    "        if not os.path.exists(f\"{store_path}/{store_name}\"):\n",
    "            # Regrid and store\n",
    "            ds_tmp = xr.open_dataset(file)\n",
    "            ds_out = regrid(ds_tmp, method=method, target=target)\n",
    "            ds_out.to_netcdf(f\"{store_path}/{store_name}\")"
   ]
  },
  {
   "cell_type": "code",
   "execution_count": 6,
   "id": "c3e356d0-766f-4344-8447-440cc1b238bf",
   "metadata": {},
   "outputs": [
    {
     "name": "stdout",
     "output_type": "stream",
     "text": [
      "CPU times: user 1min 23s, sys: 1min 45s, total: 3min 8s\n",
      "Wall time: 4min 51s\n"
     ]
    }
   ],
   "source": [
    "%%time\n",
    "# Regrid to GARD-LENS using NN\n",
    "method = \"nearest\"\n",
    "target = \"GARD-LENS\"\n",
    "\n",
    "for metric_id in gev_metric_ids:\n",
    "    # Save path\n",
    "    store_path = f\"{project_data_path}/extreme_value/gard_grid/{metric_id}\"\n",
    "    # Get all files\n",
    "    files = glob(\n",
    "        f\"{project_data_path}/extreme_value/original_grid/{metric_id}/STAR-ESDM*\"\n",
    "    ) + glob(f\"{project_data_path}/extreme_value/original_grid/{metric_id}/LOCA2*\")\n",
    "\n",
    "    # Loop through\n",
    "    for file in files:\n",
    "        # Check if done\n",
    "        file_name = file.split(\"/\")[-1]\n",
    "        store_name = file_name.replace(\".nc\", f\"_{method}.nc\")\n",
    "        if not os.path.exists(f\"{store_path}/{store_name}\"):\n",
    "            # Regrid and store\n",
    "            ds_tmp = xr.open_dataset(file)\n",
    "            ds_out = regrid(ds_tmp, method=method, target=target)\n",
    "            ds_out.to_netcdf(f\"{store_path}/{store_name}\")"
   ]
  },
  {
   "cell_type": "code",
   "execution_count": null,
   "id": "316d2c90-597c-4b98-9908-77299150dc4f",
   "metadata": {},
   "outputs": [],
   "source": []
  }
 ],
 "metadata": {
  "kernelspec": {
   "display_name": "Python 3 (ipykernel)",
   "language": "python",
   "name": "python3"
  },
  "language_info": {
   "codemirror_mode": {
    "name": "ipython",
    "version": 3
   },
   "file_extension": ".py",
   "mimetype": "text/x-python",
   "name": "python",
   "nbconvert_exporter": "python",
   "pygments_lexer": "ipython3",
   "version": "3.12.7"
  }
 },
 "nbformat": 4,
 "nbformat_minor": 5
}
