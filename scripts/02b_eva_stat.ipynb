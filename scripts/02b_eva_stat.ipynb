{
 "cells": [
  {
   "cell_type": "code",
   "execution_count": 1,
   "id": "cdd3932a-71ec-4b1d-9945-103ae7a9cb38",
   "metadata": {
    "tags": []
   },
   "outputs": [],
   "source": [
    "import os\n",
    "from glob import glob\n",
    "\n",
    "import numpy as np\n",
    "import xarray as xr\n",
    "import dask\n",
    "from regridding import regrid\n",
    "\n",
    "import gev_utils as gevu\n",
    "import gev_nonstat_utils as gevns\n",
    "\n",
    "from utils import gev_metric_ids\n",
    "from utils import roar_data_path as project_data_path\n",
    "from utils import roar_code_path as project_code_path"
   ]
  },
  {
   "cell_type": "code",
   "execution_count": 2,
   "id": "5fb42c58-cdbf-4a3d-b626-37d6e3b381b3",
   "metadata": {},
   "outputs": [],
   "source": [
    "# ############\n",
    "# ### Dask ###\n",
    "# ############\n",
    "# from dask_jobqueue import SLURMCluster\n",
    "\n",
    "# cluster = SLURMCluster(\n",
    "#     account=\"pches\",\n",
    "#     # account=\"open\",\n",
    "#     cores=1,\n",
    "#     processes=1,\n",
    "#     memory=\"4GiB\",\n",
    "#     walltime=\"09:00:00\",\n",
    "# )\n",
    "\n",
    "# cluster.scale(jobs=40)  # ask for jobs\n",
    "\n",
    "# from dask.distributed import Client\n",
    "# client = Client(cluster)\n",
    "# client"
   ]
  },
  {
   "cell_type": "markdown",
   "id": "b10567e7-f2b7-45c1-b5e5-e48dcbe3eb86",
   "metadata": {},
   "source": [
    "## Fit GEV"
   ]
  },
  {
   "cell_type": "code",
   "execution_count": null,
   "id": "ff83051a-fc46-4d2c-ab60-7e96bbeb1fbe",
   "metadata": {},
   "outputs": [],
   "source": [
    "# Non-stationary, MLE, main\n",
    "for metric_id in gev_metric_ids:\n",
    "    gevu.gev_fit_all(\n",
    "        metric_id = metric_id,\n",
    "        stationary = False,\n",
    "        fit_method = \"lmom\",\n",
    "        periods_for_level = [10, 25, 50, 100],\n",
    "        levels_for_period = None,\n",
    "        proj_years = [2050,2100],\n",
    "        hist_years = [1950,2014],\n",
    "        bootstrap = False\n",
    "    )"
   ]
  },
  {
   "cell_type": "code",
   "execution_count": 4,
   "id": "e47a2e86-8a88-4d58-82e3-39782e7d7e10",
   "metadata": {},
   "outputs": [
    {
     "name": "stdout",
     "output_type": "stream",
     "text": [
      "CPU times: user 13.8 s, sys: 829 ms, total: 14.7 s\n",
      "Wall time: 31.7 s\n"
     ]
    }
   ],
   "source": [
    "# Stationary, L-moments, main\n",
    "for metric_id in gev_metric_ids:\n",
    "    gevu.gev_fit_all(\n",
    "        metric_id = metric_id,\n",
    "        stationary = True,\n",
    "        fit_method = \"lmom\",\n",
    "        periods_for_level = [10, 25, 50, 100],\n",
    "        levels_for_period = None,\n",
    "        proj_years = [2050,2100],\n",
    "        hist_years = [1950,2014],\n",
    "        bootstrap = False\n",
    "    )"
   ]
  },
  {
   "cell_type": "code",
   "execution_count": 3,
   "id": "e12dd93b-8e94-4347-8192-321cac5f4504",
   "metadata": {},
   "outputs": [],
   "source": [
    "## Stationary, L-moments, bootstrap\n",
    "\n",
    "# Can separate STAR-ESDM since it's higher resolution \n",
    "# and requires significantly more memory\n",
    "for metric_id in gev_metric_ids:\n",
    "    gevu.gev_fit_all(\n",
    "        metric_id = metric_id,\n",
    "        stationary = True,\n",
    "        fit_method = \"lmom\",\n",
    "        periods_for_level = [10, 25, 50, 100],\n",
    "        levels_for_period = None,\n",
    "        proj_years = [2050,2100],\n",
    "        hist_years = [1950,2014],\n",
    "        bootstrap = True,\n",
    "        include_STAR_ESDM = True\n",
    "    )"
   ]
  },
  {
   "cell_type": "markdown",
   "id": "45f66405-7653-4ed6-9c8a-c09c66e07cc1",
   "metadata": {},
   "source": [
    "## Regridding"
   ]
  },
  {
   "cell_type": "code",
   "execution_count": 4,
   "id": "236aa204-b054-4469-919b-eedace7cc1c9",
   "metadata": {},
   "outputs": [
    {
     "data": {
      "text/plain": [
       "['max_tasmax', 'min_tasmin', 'max_pr', 'max_cdd', 'max_hdd']"
      ]
     },
     "execution_count": 4,
     "metadata": {},
     "output_type": "execute_result"
    }
   ],
   "source": [
    "gev_metric_ids"
   ]
  },
  {
   "cell_type": "code",
   "execution_count": 3,
   "id": "e92a06b4-cdda-4f45-9b3a-9b2d6cdc9394",
   "metadata": {},
   "outputs": [
    {
     "name": "stdout",
     "output_type": "stream",
     "text": [
      "CPU times: user 55.6 s, sys: 40.2 s, total: 1min 35s\n",
      "Wall time: 2min 37s\n"
     ]
    }
   ],
   "source": [
    "%%time\n",
    "# Regrid to LOCA using NN\n",
    "method = \"nearest\"\n",
    "target = \"LOCA2\"\n",
    "\n",
    "for metric_id in gev_metric_ids:\n",
    "    # Save path\n",
    "    store_path = f\"{project_data_path}/extreme_value/loca_grid/{metric_id}\"\n",
    "    # Get all files\n",
    "    files = glob(f\"{project_data_path}/extreme_value/original_grid/{metric_id}/STAR-ESDM*\") + \\\n",
    "            glob(f\"{project_data_path}/extreme_value/original_grid/{metric_id}/GARD-LENS*\")\n",
    "\n",
    "    # Loop through\n",
    "    for file in files:\n",
    "        # Check if done\n",
    "        file_name = file.split('/')[-1]\n",
    "        store_name = file_name.replace(\".nc\", f\"_{method}.nc\")\n",
    "        if not os.path.exists(f\"{store_path}/{store_name}\"):\n",
    "            # Regrid and store\n",
    "            ds_tmp = xr.open_dataset(file)\n",
    "            ds_out = regrid(ds_tmp, method=method, target=target)\n",
    "            ds_out.to_netcdf(f\"{store_path}/{store_name}\")"
   ]
  },
  {
   "cell_type": "code",
   "execution_count": 5,
   "id": "c3e356d0-766f-4344-8447-440cc1b238bf",
   "metadata": {},
   "outputs": [
    {
     "name": "stdout",
     "output_type": "stream",
     "text": [
      "CPU times: user 42.7 s, sys: 39.3 s, total: 1min 22s\n",
      "Wall time: 2min 21s\n"
     ]
    }
   ],
   "source": [
    "%%time\n",
    "# Regrid to GARD-LENS using NN\n",
    "method = \"nearest\"\n",
    "target = \"GARD-LENS\"\n",
    "\n",
    "for metric_id in gev_metric_ids:\n",
    "    # Save path\n",
    "    store_path = f\"{project_data_path}/extreme_value/gard_grid/{metric_id}\"\n",
    "    # Get all files\n",
    "    files = glob(f\"{project_data_path}/extreme_value/original_grid/{metric_id}/STAR-ESDM*\") + \\\n",
    "            glob(f\"{project_data_path}/extreme_value/original_grid/{metric_id}/LOCA2*\")\n",
    "\n",
    "    # Loop through\n",
    "    for file in files:\n",
    "        # Check if done\n",
    "        file_name = file.split('/')[-1]\n",
    "        store_name = file_name.replace(\".nc\", f\"_{method}.nc\")\n",
    "        if not os.path.exists(f\"{store_path}/{store_name}\"):\n",
    "            # Regrid and store\n",
    "            ds_tmp = xr.open_dataset(file)\n",
    "            ds_out = regrid(ds_tmp, method=method, target=target)\n",
    "            ds_out.to_netcdf(f\"{store_path}/{store_name}\")"
   ]
  },
  {
   "cell_type": "code",
   "execution_count": null,
   "id": "316d2c90-597c-4b98-9908-77299150dc4f",
   "metadata": {},
   "outputs": [],
   "source": []
  }
 ],
 "metadata": {
  "kernelspec": {
   "display_name": "Python 3 (ipykernel)",
   "language": "python",
   "name": "python3"
  },
  "language_info": {
   "codemirror_mode": {
    "name": "ipython",
    "version": 3
   },
   "file_extension": ".py",
   "mimetype": "text/x-python",
   "name": "python",
   "nbconvert_exporter": "python",
   "pygments_lexer": "ipython3",
   "version": "3.12.7"
  }
 },
 "nbformat": 4,
 "nbformat_minor": 5
}
