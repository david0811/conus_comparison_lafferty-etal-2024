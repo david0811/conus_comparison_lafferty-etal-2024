{
 "cells": [
  {
   "cell_type": "code",
   "execution_count": 2,
   "id": "a9d0c8e4-fa17-4bf8-b6c9-b4b782a4fbbf",
   "metadata": {},
   "outputs": [],
   "source": [
    "import os\n",
    "import warnings\n",
    "import numpy as np\n",
    "import pandas as pd\n",
    "import dask\n",
    "import gev_bayes_utils as gevbu\n",
    "import gev_utils as gevu\n",
    "import sa_city_utils as scu\n",
    "\n",
    "from utils import city_list, gev_metric_ids\n",
    "from utils import roar_data_path as project_data_path\n",
    "from utils import roar_code_path as project_code_path"
   ]
  },
  {
   "cell_type": "code",
   "execution_count": 2,
   "id": "0c499351-9cc1-40d6-8cd6-6e8a3b70f36f",
   "metadata": {},
   "outputs": [],
   "source": [
    "# ############\n",
    "# ### Dask ###\n",
    "# ############\n",
    "# from dask_jobqueue import SLURMCluster\n",
    "\n",
    "# cluster = SLURMCluster(\n",
    "#     # account=\"pches\",\n",
    "#     account=\"open\",\n",
    "#     cores=3,\n",
    "#     processes=1,\n",
    "#     job_cpu=3,\n",
    "#     memory=\"3GiB\",\n",
    "#     walltime=\"12:00:00\",\n",
    "#     job_script_prologue=[\n",
    "#         f\"export PYTHONPATH={project_code_path}/.venv/lib/python3.12/site-packages:$PYTHONPATH\",  # Put venv first\n",
    "#         \"export JAX_PLATFORM_NAME=cpu\",\n",
    "#         \"export XLA_FLAGS='--xla_force_host_platform_device_count=1'\",\n",
    "#         # Force PyTensor to not use caching at all\n",
    "#         \"export PYTENSOR_FLAGS='cxx=,\",\n",
    "#         \"mode=FAST_COMPILE,\",  # Less aggressive optimization but more stable\n",
    "#         \"allow_gc=True,\",\n",
    "#         \"cache_size=0'\"        # Disable caching completely\n",
    "#     ],\n",
    "#     death_timeout=60,\n",
    "#     local_directory=\"/tmp\"\n",
    "# )\n",
    "\n",
    "# cluster.scale(5)\n",
    "\n",
    "# from dask.distributed import Client\n",
    "# client = Client(cluster)\n",
    "# client"
   ]
  },
  {
   "cell_type": "code",
   "execution_count": 3,
   "id": "1eaa83df-abca-4e08-b4f0-1becc407addb",
   "metadata": {},
   "outputs": [
    {
     "data": {
      "text/html": [
       "<div>\n",
       "    <div style=\"width: 24px; height: 24px; background-color: #e1e1e1; border: 3px solid #9D9D9D; border-radius: 5px; position: absolute;\"> </div>\n",
       "    <div style=\"margin-left: 48px;\">\n",
       "        <h3 style=\"margin-bottom: 0px;\">Client</h3>\n",
       "        <p style=\"color: #9D9D9D; margin-bottom: 0px;\">Client-00b15068-f521-11ef-9ea7-6fb3e9948aa2</p>\n",
       "        <table style=\"width: 100%; text-align: left;\">\n",
       "\n",
       "        <tr>\n",
       "        \n",
       "            <td style=\"text-align: left;\"><strong>Connection method:</strong> Cluster object</td>\n",
       "            <td style=\"text-align: left;\"><strong>Cluster type:</strong> dask_jobqueue.SLURMCluster</td>\n",
       "        \n",
       "        </tr>\n",
       "\n",
       "        \n",
       "            <tr>\n",
       "                <td style=\"text-align: left;\">\n",
       "                    <strong>Dashboard: </strong> <a href=\"/proxy/8787/status\" target=\"_blank\">/proxy/8787/status</a>\n",
       "                </td>\n",
       "                <td style=\"text-align: left;\"></td>\n",
       "            </tr>\n",
       "        \n",
       "\n",
       "        </table>\n",
       "\n",
       "        \n",
       "            <button style=\"margin-bottom: 12px;\" data-commandlinker-command=\"dask:populate-and-launch-layout\" data-commandlinker-args='{\"url\": \"/proxy/8787/status\" }'>\n",
       "                Launch dashboard in JupyterLab\n",
       "            </button>\n",
       "        \n",
       "\n",
       "        \n",
       "            <details>\n",
       "            <summary style=\"margin-bottom: 20px;\"><h3 style=\"display: inline;\">Cluster Info</h3></summary>\n",
       "            <div class=\"jp-RenderedHTMLCommon jp-RenderedHTML jp-mod-trusted jp-OutputArea-output\">\n",
       "    <div style=\"width: 24px; height: 24px; background-color: #e1e1e1; border: 3px solid #9D9D9D; border-radius: 5px; position: absolute;\">\n",
       "    </div>\n",
       "    <div style=\"margin-left: 48px;\">\n",
       "        <h3 style=\"margin-bottom: 0px; margin-top: 0px;\">SLURMCluster</h3>\n",
       "        <p style=\"color: #9D9D9D; margin-bottom: 0px;\">2df3f447</p>\n",
       "        <table style=\"width: 100%; text-align: left;\">\n",
       "            <tr>\n",
       "                <td style=\"text-align: left;\">\n",
       "                    <strong>Dashboard:</strong> <a href=\"/proxy/8787/status\" target=\"_blank\">/proxy/8787/status</a>\n",
       "                </td>\n",
       "                <td style=\"text-align: left;\">\n",
       "                    <strong>Workers:</strong> 0\n",
       "                </td>\n",
       "            </tr>\n",
       "            <tr>\n",
       "                <td style=\"text-align: left;\">\n",
       "                    <strong>Total threads:</strong> 0\n",
       "                </td>\n",
       "                <td style=\"text-align: left;\">\n",
       "                    <strong>Total memory:</strong> 0 B\n",
       "                </td>\n",
       "            </tr>\n",
       "            \n",
       "        </table>\n",
       "\n",
       "        <details>\n",
       "            <summary style=\"margin-bottom: 20px;\">\n",
       "                <h3 style=\"display: inline;\">Scheduler Info</h3>\n",
       "            </summary>\n",
       "\n",
       "            <div style=\"\">\n",
       "    <div>\n",
       "        <div style=\"width: 24px; height: 24px; background-color: #FFF7E5; border: 3px solid #FF6132; border-radius: 5px; position: absolute;\"> </div>\n",
       "        <div style=\"margin-left: 48px;\">\n",
       "            <h3 style=\"margin-bottom: 0px;\">Scheduler</h3>\n",
       "            <p style=\"color: #9D9D9D; margin-bottom: 0px;\">Scheduler-f9d29186-e9ee-4762-b735-5912525f264b</p>\n",
       "            <table style=\"width: 100%; text-align: left;\">\n",
       "                <tr>\n",
       "                    <td style=\"text-align: left;\">\n",
       "                        <strong>Comm:</strong> tcp://10.6.8.59:44203\n",
       "                    </td>\n",
       "                    <td style=\"text-align: left;\">\n",
       "                        <strong>Workers:</strong> 0\n",
       "                    </td>\n",
       "                </tr>\n",
       "                <tr>\n",
       "                    <td style=\"text-align: left;\">\n",
       "                        <strong>Dashboard:</strong> <a href=\"/proxy/8787/status\" target=\"_blank\">/proxy/8787/status</a>\n",
       "                    </td>\n",
       "                    <td style=\"text-align: left;\">\n",
       "                        <strong>Total threads:</strong> 0\n",
       "                    </td>\n",
       "                </tr>\n",
       "                <tr>\n",
       "                    <td style=\"text-align: left;\">\n",
       "                        <strong>Started:</strong> Just now\n",
       "                    </td>\n",
       "                    <td style=\"text-align: left;\">\n",
       "                        <strong>Total memory:</strong> 0 B\n",
       "                    </td>\n",
       "                </tr>\n",
       "            </table>\n",
       "        </div>\n",
       "    </div>\n",
       "\n",
       "    <details style=\"margin-left: 48px;\">\n",
       "        <summary style=\"margin-bottom: 20px;\">\n",
       "            <h3 style=\"display: inline;\">Workers</h3>\n",
       "        </summary>\n",
       "\n",
       "        \n",
       "\n",
       "    </details>\n",
       "</div>\n",
       "\n",
       "        </details>\n",
       "    </div>\n",
       "</div>\n",
       "            </details>\n",
       "        \n",
       "\n",
       "    </div>\n",
       "</div>"
      ],
      "text/plain": [
       "<Client: 'tcp://10.6.8.59:44203' processes=0 threads=0, memory=0 B>"
      ]
     },
     "execution_count": 3,
     "metadata": {},
     "output_type": "execute_result"
    }
   ],
   "source": [
    "############\n",
    "### Dask ###\n",
    "############\n",
    "from dask_jobqueue import SLURMCluster\n",
    "\n",
    "cluster = SLURMCluster(\n",
    "    # account=\"pches\",\n",
    "    account=\"open\",\n",
    "    cores=1,\n",
    "    processes=1,\n",
    "    job_cpu=1,\n",
    "    memory=\"10GiB\",\n",
    "    walltime=\"01:00:00\",\n",
    ")\n",
    "\n",
    "cluster.scale(30)\n",
    "\n",
    "from dask.distributed import Client\n",
    "client = Client(cluster)\n",
    "client"
   ]
  },
  {
   "cell_type": "markdown",
   "id": "74235fbd-a397-449b-9a79-da81bec8e5dc",
   "metadata": {},
   "source": [
    "## Get city timeseries"
   ]
  },
  {
   "cell_type": "code",
   "execution_count": 4,
   "id": "6296af0e-5ba4-4c0c-a9ba-4a5e1ee83ca7",
   "metadata": {},
   "outputs": [],
   "source": [
    "# Run for all\n",
    "for city in city_list.keys():\n",
    "    for metric_id in gev_metric_ids:\n",
    "        scu.get_city_timeseries_all(city, metric_id)\n",
    "    for metric_id in trend_metric_ids:\n",
    "        scu.get_city_timeseries_all(city, metric_id)"
   ]
  },
  {
   "cell_type": "markdown",
   "id": "9646dc63-3b68-4f5b-9224-7d16073e4e81",
   "metadata": {},
   "source": [
    "## Stationary GEV with bootstrap"
   ]
  },
  {
   "cell_type": "code",
   "execution_count": 4,
   "id": "ad730f95-d453-47fb-baad-62fccf50510b",
   "metadata": {},
   "outputs": [],
   "source": [
    "stationary = True\n",
    "fit_method = \"lmom\"\n",
    "periods_for_level = [10,25,50,100]\n",
    "\n",
    "# Loop through all\n",
    "delayed = []\n",
    "\n",
    "for city in city_list:\n",
    "    for metric_id in gev_metric_ids:\n",
    "        delayed.append(dask.delayed(gevu.fit_ensemble_gev_city)\n",
    "                       (city=city,\n",
    "                        metric_id=metric_id,\n",
    "                        stationary=stationary,\n",
    "                        fit_method=fit_method,\n",
    "                        periods_for_level=periods_for_level)\n",
    "                      )\n",
    "\n",
    "_ = dask.compute(*delayed)"
   ]
  },
  {
   "cell_type": "markdown",
   "id": "dd19cca3-83cb-4ba2-93f7-96bb83492251",
   "metadata": {},
   "source": [
    "## Non-stationary GEV"
   ]
  },
  {
   "cell_type": "code",
   "execution_count": null,
   "id": "5ba8ae9b-75cb-4c49-9eb5-d8ab2a0418c3",
   "metadata": {},
   "outputs": [],
   "source": [
    "df = pd.read_csv('/storage/group/pches/default/users/dcl5300/conus_comparison_lafferty-etal-2024/metrics/cities/')"
   ]
  },
  {
   "cell_type": "code",
   "execution_count": 3,
   "id": "4ec2bfea-18fe-43ea-9d87-fd6ccc134e13",
   "metadata": {},
   "outputs": [
    {
     "name": "stdout",
     "output_type": "stream",
     "text": [
      "CPU times: user 34.3 s, sys: 27.6 ms, total: 34.3 s\n",
      "Wall time: 35.9 s\n"
     ]
    },
    {
     "data": {
      "text/html": [
       "<div>\n",
       "<style scoped>\n",
       "    .dataframe tbody tr th:only-of-type {\n",
       "        vertical-align: middle;\n",
       "    }\n",
       "\n",
       "    .dataframe tbody tr th {\n",
       "        vertical-align: top;\n",
       "    }\n",
       "\n",
       "    .dataframe thead th {\n",
       "        text-align: right;\n",
       "    }\n",
       "</style>\n",
       "<table border=\"1\" class=\"dataframe\">\n",
       "  <thead>\n",
       "    <tr style=\"text-align: right;\">\n",
       "      <th></th>\n",
       "      <th>quantile</th>\n",
       "      <th>ensemble</th>\n",
       "      <th>gcm</th>\n",
       "      <th>member</th>\n",
       "      <th>ssp</th>\n",
       "      <th>loc_intcp</th>\n",
       "      <th>loc_trend</th>\n",
       "      <th>scale</th>\n",
       "      <th>shape</th>\n",
       "      <th>10yr_return_level_1975</th>\n",
       "      <th>...</th>\n",
       "      <th>25yr_return_level_1975</th>\n",
       "      <th>25yr_return_level_2075</th>\n",
       "      <th>50yr_return_level_1975</th>\n",
       "      <th>50yr_return_level_2075</th>\n",
       "      <th>100yr_return_level_1975</th>\n",
       "      <th>100yr_return_level_2075</th>\n",
       "      <th>10yr_return_level_2075-1975</th>\n",
       "      <th>25yr_return_level_2075-1975</th>\n",
       "      <th>50yr_return_level_2075-1975</th>\n",
       "      <th>100yr_return_level_2075-1975</th>\n",
       "    </tr>\n",
       "  </thead>\n",
       "  <tbody>\n",
       "    <tr>\n",
       "      <th>0</th>\n",
       "      <td>main</td>\n",
       "      <td>LOCA2</td>\n",
       "      <td>CanESM5</td>\n",
       "      <td>r1i1p1f1</td>\n",
       "      <td>ssp585</td>\n",
       "      <td>33.171580</td>\n",
       "      <td>0.067416</td>\n",
       "      <td>1.429404</td>\n",
       "      <td>0.104638</td>\n",
       "      <td>37.723007</td>\n",
       "      <td>...</td>\n",
       "      <td>44.464639</td>\n",
       "      <td>44.464639</td>\n",
       "      <td>38.742559</td>\n",
       "      <td>38.742559</td>\n",
       "      <td>45.484191</td>\n",
       "      <td>45.484191</td>\n",
       "      <td>42.779231</td>\n",
       "      <td>43.798783</td>\n",
       "      <td>44.492405</td>\n",
       "      <td>45.132222</td>\n",
       "    </tr>\n",
       "    <tr>\n",
       "      <th>1</th>\n",
       "      <td>p025</td>\n",
       "      <td>LOCA2</td>\n",
       "      <td>CanESM5</td>\n",
       "      <td>r1i1p1f1</td>\n",
       "      <td>ssp585</td>\n",
       "      <td>32.782160</td>\n",
       "      <td>0.063007</td>\n",
       "      <td>1.225438</td>\n",
       "      <td>0.010916</td>\n",
       "      <td>37.225275</td>\n",
       "      <td>...</td>\n",
       "      <td>43.962142</td>\n",
       "      <td>43.962142</td>\n",
       "      <td>38.076811</td>\n",
       "      <td>38.076811</td>\n",
       "      <td>44.776479</td>\n",
       "      <td>44.776479</td>\n",
       "      <td>42.324678</td>\n",
       "      <td>43.090754</td>\n",
       "      <td>43.597748</td>\n",
       "      <td>44.040538</td>\n",
       "    </tr>\n",
       "    <tr>\n",
       "      <th>2</th>\n",
       "      <td>p975</td>\n",
       "      <td>LOCA2</td>\n",
       "      <td>CanESM5</td>\n",
       "      <td>r1i1p1f1</td>\n",
       "      <td>ssp585</td>\n",
       "      <td>33.622514</td>\n",
       "      <td>0.072488</td>\n",
       "      <td>1.566587</td>\n",
       "      <td>0.206294</td>\n",
       "      <td>38.236890</td>\n",
       "      <td>...</td>\n",
       "      <td>44.905216</td>\n",
       "      <td>44.905216</td>\n",
       "      <td>39.420018</td>\n",
       "      <td>39.420018</td>\n",
       "      <td>46.080483</td>\n",
       "      <td>46.080483</td>\n",
       "      <td>43.193785</td>\n",
       "      <td>44.391105</td>\n",
       "      <td>45.246234</td>\n",
       "      <td>46.145237</td>\n",
       "    </tr>\n",
       "  </tbody>\n",
       "</table>\n",
       "<p>3 rows × 21 columns</p>\n",
       "</div>"
      ],
      "text/plain": [
       "  quantile ensemble      gcm    member     ssp  loc_intcp  loc_trend  \\\n",
       "0     main    LOCA2  CanESM5  r1i1p1f1  ssp585  33.171580   0.067416   \n",
       "1     p025    LOCA2  CanESM5  r1i1p1f1  ssp585  32.782160   0.063007   \n",
       "2     p975    LOCA2  CanESM5  r1i1p1f1  ssp585  33.622514   0.072488   \n",
       "\n",
       "      scale     shape  10yr_return_level_1975  ...  25yr_return_level_1975  \\\n",
       "0  1.429404  0.104638               37.723007  ...               44.464639   \n",
       "1  1.225438  0.010916               37.225275  ...               43.962142   \n",
       "2  1.566587  0.206294               38.236890  ...               44.905216   \n",
       "\n",
       "   25yr_return_level_2075  50yr_return_level_1975  50yr_return_level_2075  \\\n",
       "0               44.464639               38.742559               38.742559   \n",
       "1               43.962142               38.076811               38.076811   \n",
       "2               44.905216               39.420018               39.420018   \n",
       "\n",
       "   100yr_return_level_1975  100yr_return_level_2075  \\\n",
       "0                45.484191                45.484191   \n",
       "1                44.776479                44.776479   \n",
       "2                46.080483                46.080483   \n",
       "\n",
       "   10yr_return_level_2075-1975  25yr_return_level_2075-1975  \\\n",
       "0                    42.779231                    43.798783   \n",
       "1                    42.324678                    43.090754   \n",
       "2                    43.193785                    44.391105   \n",
       "\n",
       "   50yr_return_level_2075-1975  100yr_return_level_2075-1975  \n",
       "0                    44.492405                     45.132222  \n",
       "1                    43.597748                     44.040538  \n",
       "2                    45.246234                     46.145237  \n",
       "\n",
       "[3 rows x 21 columns]"
      ]
     },
     "execution_count": 3,
     "metadata": {},
     "output_type": "execute_result"
    }
   ],
   "source": [
    "%%time\n",
    "gevu.fit_gev_city(\n",
    "    city='nyc',\n",
    "    metric_id='max_tasmax',\n",
    "    ensemble='LOCA2',\n",
    "    gcm='CanESM5',\n",
    "    ssp='ssp585',\n",
    "    member='r1i1p1f1',\n",
    "    hist_slice=None,\n",
    "    proj_slice=None,\n",
    "    fit_method='mle',\n",
    "    stationary=False,\n",
    "    periods_for_level=[10,25,50,100],\n",
    "    years=[1950,2100],\n",
    "    bootstrap=\"parametric\",\n",
    "    return_period_years=[1975,2075],\n",
    "    return_period_diffs=[[1975,2075]],\n",
    "    n_boot=250\n",
    ")"
   ]
  },
  {
   "cell_type": "code",
   "execution_count": 6,
   "id": "53588f28-d1ec-4b72-8ea6-1552d43bfe1d",
   "metadata": {},
   "outputs": [
    {
     "data": {
      "text/plain": [
       "4.511111111111111"
      ]
     },
     "execution_count": 6,
     "metadata": {},
     "output_type": "execute_result"
    }
   ],
   "source": [
    "35*464/60/60"
   ]
  },
  {
   "cell_type": "code",
   "execution_count": 22,
   "id": "79e4a92b-1862-481c-8af2-e4a0aba5e35f",
   "metadata": {},
   "outputs": [],
   "source": [
    "from scipy.stats import genextreme as gev"
   ]
  },
  {
   "cell_type": "code",
   "execution_count": 29,
   "id": "f0e5cec6-1f2e-4537-9e42-62236e88e5be",
   "metadata": {},
   "outputs": [],
   "source": [
    "test = gev.rvs(-0.5, loc=np.arange(100), scale=20, size=(10, 100))"
   ]
  },
  {
   "cell_type": "code",
   "execution_count": 32,
   "id": "8cb24d25-1dd9-415c-bdca-c473f1d416c1",
   "metadata": {},
   "outputs": [],
   "source": [
    "import matplotlib.pyplot as plt"
   ]
  },
  {
   "cell_type": "code",
   "execution_count": 34,
   "id": "c321968f-c256-4c41-b40b-5a20d5c7a9f5",
   "metadata": {},
   "outputs": [
    {
     "data": {
      "text/plain": [
       "[<matplotlib.lines.Line2D at 0x14c578b26de0>]"
      ]
     },
     "execution_count": 34,
     "metadata": {},
     "output_type": "execute_result"
    },
    {
     "data": {
      "image/png": "[encoded data removed]",
      "text/plain": [
       "<Figure size 640x480 with 1 Axes>"
      ]
     },
     "metadata": {},
     "output_type": "display_data"
    }
   ],
   "source": [
    "plt.plot(test[5])"
   ]
  },
  {
   "cell_type": "code",
   "execution_count": 8,
   "id": "ae894945-a487-4896-9a7f-b98674f8378e",
   "metadata": {},
   "outputs": [],
   "source": [
    "df = pd.read_csv(f\"{project_data_path}/metrics/cities/nyc_max_tasmax.csv\")"
   ]
  },
  {
   "cell_type": "code",
   "execution_count": 19,
   "id": "cba5fec7-a72f-49eb-b26a-b8c9f0209b9a",
   "metadata": {},
   "outputs": [
    {
     "data": {
      "text/plain": [
       "46.4"
      ]
     },
     "execution_count": 19,
     "metadata": {},
     "output_type": "execute_result"
    }
   ],
   "source": [
    "464*6/60"
   ]
  },
  {
   "cell_type": "code",
   "execution_count": 15,
   "id": "1ed732b7-7297-49eb-873b-cd5a866c4216",
   "metadata": {},
   "outputs": [
    {
     "data": {
      "text/html": [
       "<div>\n",
       "<style scoped>\n",
       "    .dataframe tbody tr th:only-of-type {\n",
       "        vertical-align: middle;\n",
       "    }\n",
       "\n",
       "    .dataframe tbody tr th {\n",
       "        vertical-align: top;\n",
       "    }\n",
       "\n",
       "    .dataframe thead th {\n",
       "        text-align: right;\n",
       "    }\n",
       "</style>\n",
       "<table border=\"1\" class=\"dataframe\">\n",
       "  <thead>\n",
       "    <tr style=\"text-align: right;\">\n",
       "      <th></th>\n",
       "      <th></th>\n",
       "      <th></th>\n",
       "      <th></th>\n",
       "      <th>time</th>\n",
       "      <th>tasmax</th>\n",
       "    </tr>\n",
       "    <tr>\n",
       "      <th>gcm</th>\n",
       "      <th>member</th>\n",
       "      <th>ssp</th>\n",
       "      <th>ensemble</th>\n",
       "      <th></th>\n",
       "      <th></th>\n",
       "    </tr>\n",
       "  </thead>\n",
       "  <tbody>\n",
       "    <tr>\n",
       "      <th rowspan=\"5\" valign=\"top\">ACCESS-CM2</th>\n",
       "      <th rowspan=\"5\" valign=\"top\">r1i1p1f1</th>\n",
       "      <th rowspan=\"2\" valign=\"top\">ssp245</th>\n",
       "      <th>LOCA2</th>\n",
       "      <td>86</td>\n",
       "      <td>86</td>\n",
       "    </tr>\n",
       "    <tr>\n",
       "      <th>STAR-ESDM</th>\n",
       "      <td>151</td>\n",
       "      <td>151</td>\n",
       "    </tr>\n",
       "    <tr>\n",
       "      <th>ssp370</th>\n",
       "      <th>LOCA2</th>\n",
       "      <td>86</td>\n",
       "      <td>86</td>\n",
       "    </tr>\n",
       "    <tr>\n",
       "      <th rowspan=\"2\" valign=\"top\">ssp585</th>\n",
       "      <th>LOCA2</th>\n",
       "      <td>86</td>\n",
       "      <td>86</td>\n",
       "    </tr>\n",
       "    <tr>\n",
       "      <th>STAR-ESDM</th>\n",
       "      <td>151</td>\n",
       "      <td>151</td>\n",
       "    </tr>\n",
       "    <tr>\n",
       "      <th>...</th>\n",
       "      <th>...</th>\n",
       "      <th>...</th>\n",
       "      <th>...</th>\n",
       "      <td>...</td>\n",
       "      <td>...</td>\n",
       "    </tr>\n",
       "    <tr>\n",
       "      <th>NorESM2-MM</th>\n",
       "      <th>r2i1p1f1</th>\n",
       "      <th>ssp245</th>\n",
       "      <th>LOCA2</th>\n",
       "      <td>86</td>\n",
       "      <td>86</td>\n",
       "    </tr>\n",
       "    <tr>\n",
       "      <th rowspan=\"4\" valign=\"top\">TaiESM1</th>\n",
       "      <th rowspan=\"4\" valign=\"top\">r1i1p1f1</th>\n",
       "      <th rowspan=\"2\" valign=\"top\">ssp245</th>\n",
       "      <th>LOCA2</th>\n",
       "      <td>86</td>\n",
       "      <td>86</td>\n",
       "    </tr>\n",
       "    <tr>\n",
       "      <th>STAR-ESDM</th>\n",
       "      <td>151</td>\n",
       "      <td>151</td>\n",
       "    </tr>\n",
       "    <tr>\n",
       "      <th>ssp370</th>\n",
       "      <th>LOCA2</th>\n",
       "      <td>86</td>\n",
       "      <td>86</td>\n",
       "    </tr>\n",
       "    <tr>\n",
       "      <th>ssp585</th>\n",
       "      <th>STAR-ESDM</th>\n",
       "      <td>151</td>\n",
       "      <td>151</td>\n",
       "    </tr>\n",
       "  </tbody>\n",
       "</table>\n",
       "<p>464 rows × 2 columns</p>\n",
       "</div>"
      ],
      "text/plain": [
       "                                      time  tasmax\n",
       "gcm        member   ssp    ensemble               \n",
       "ACCESS-CM2 r1i1p1f1 ssp245 LOCA2        86      86\n",
       "                           STAR-ESDM   151     151\n",
       "                    ssp370 LOCA2        86      86\n",
       "                    ssp585 LOCA2        86      86\n",
       "                           STAR-ESDM   151     151\n",
       "...                                    ...     ...\n",
       "NorESM2-MM r2i1p1f1 ssp245 LOCA2        86      86\n",
       "TaiESM1    r1i1p1f1 ssp245 LOCA2        86      86\n",
       "                           STAR-ESDM   151     151\n",
       "                    ssp370 LOCA2        86      86\n",
       "                    ssp585 STAR-ESDM   151     151\n",
       "\n",
       "[464 rows x 2 columns]"
      ]
     },
     "execution_count": 15,
     "metadata": {},
     "output_type": "execute_result"
    }
   ],
   "source": [
    "df[df['ssp'] != 'historical'].groupby(['gcm', 'member', 'ssp', 'ensemble']).count()"
   ]
  },
  {
   "cell_type": "code",
   "execution_count": null,
   "id": "af80f002-67f9-4854-bbf5-84165cffaf94",
   "metadata": {},
   "outputs": [],
   "source": [
    "100*"
   ]
  },
  {
   "cell_type": "code",
   "execution_count": 3,
   "id": "af809b6f-dc4a-4cf0-9b32-fa27d7513547",
   "metadata": {},
   "outputs": [
    {
     "ename": "ValueError",
     "evalue": "No objects to concatenate",
     "output_type": "error",
     "traceback": [
      "\u001b[0;31m---------------------------------------------------------------------------\u001b[0m",
      "\u001b[0;31mValueError\u001b[0m                                Traceback (most recent call last)",
      "Cell \u001b[0;32mIn[3], line 1\u001b[0m\n\u001b[0;32m----> 1\u001b[0m \u001b[43mgevu\u001b[49m\u001b[38;5;241;43m.\u001b[39;49m\u001b[43mfit_ensemble_gev_city\u001b[49m\u001b[43m(\u001b[49m\u001b[43mcity\u001b[49m\u001b[38;5;241;43m=\u001b[39;49m\u001b[38;5;124;43m'\u001b[39;49m\u001b[38;5;124;43mnyc\u001b[39;49m\u001b[38;5;124;43m'\u001b[39;49m\u001b[43m,\u001b[49m\n\u001b[1;32m      2\u001b[0m \u001b[43m                            \u001b[49m\u001b[43mmetric_id\u001b[49m\u001b[38;5;241;43m=\u001b[39;49m\u001b[38;5;124;43m'\u001b[39;49m\u001b[38;5;124;43mmax_tasmax\u001b[39;49m\u001b[38;5;124;43m'\u001b[39;49m\u001b[43m,\u001b[49m\n\u001b[1;32m      3\u001b[0m \u001b[43m                            \u001b[49m\u001b[43myears\u001b[49m\u001b[38;5;241;43m=\u001b[39;49m\u001b[43m[\u001b[49m\u001b[38;5;241;43m1950\u001b[39;49m\u001b[43m,\u001b[49m\u001b[38;5;241;43m2100\u001b[39;49m\u001b[43m]\u001b[49m\u001b[43m,\u001b[49m\n\u001b[1;32m      4\u001b[0m \u001b[43m                            \u001b[49m\u001b[43mstationary\u001b[49m\u001b[38;5;241;43m=\u001b[39;49m\u001b[38;5;28;43;01mFalse\u001b[39;49;00m\u001b[43m,\u001b[49m\n\u001b[1;32m      5\u001b[0m \u001b[43m                            \u001b[49m\u001b[43mperiods_for_level\u001b[49m\u001b[38;5;241;43m=\u001b[39;49m\u001b[43m[\u001b[49m\u001b[38;5;241;43m10\u001b[39;49m\u001b[43m,\u001b[49m\u001b[38;5;241;43m25\u001b[39;49m\u001b[43m,\u001b[49m\u001b[38;5;241;43m50\u001b[39;49m\u001b[43m,\u001b[49m\u001b[38;5;241;43m100\u001b[39;49m\u001b[43m]\u001b[49m\u001b[43m,\u001b[49m\n\u001b[1;32m      6\u001b[0m \u001b[43m                            \u001b[49m\u001b[43mfit_method\u001b[49m\u001b[38;5;241;43m=\u001b[39;49m\u001b[38;5;124;43m'\u001b[39;49m\u001b[38;5;124;43mmle\u001b[39;49m\u001b[38;5;124;43m'\u001b[39;49m\n\u001b[1;32m      7\u001b[0m \u001b[43m                          \u001b[49m\u001b[43m)\u001b[49m\n",
      "File \u001b[0;32m/storage/work/dcl5300/current_projects/conus_comparison_lafferty-etal-2024/src/gev_utils.py:1204\u001b[0m, in \u001b[0;36mfit_ensemble_gev_city\u001b[0;34m(city, metric_id, stationary, fit_method, periods_for_level, bootstrap, hist_slice, proj_slice, years, return_period_years, return_period_diffs, store, project_data_path)\u001b[0m\n\u001b[1;32m   1201\u001b[0m             f\u001b[38;5;241m.\u001b[39mwrite(\u001b[38;5;28mstr\u001b[39m(e))\n\u001b[1;32m   1203\u001b[0m \u001b[38;5;66;03m# Concat\u001b[39;00m\n\u001b[0;32m-> 1204\u001b[0m df_out \u001b[38;5;241m=\u001b[39m \u001b[43mpd\u001b[49m\u001b[38;5;241;43m.\u001b[39;49m\u001b[43mconcat\u001b[49m\u001b[43m(\u001b[49m\u001b[43mdf_out\u001b[49m\u001b[43m,\u001b[49m\u001b[43m \u001b[49m\u001b[43mignore_index\u001b[49m\u001b[38;5;241;43m=\u001b[39;49m\u001b[38;5;28;43;01mTrue\u001b[39;49;00m\u001b[43m)\u001b[49m\n\u001b[1;32m   1206\u001b[0m \u001b[38;5;66;03m# Store or return\u001b[39;00m\n\u001b[1;32m   1207\u001b[0m \u001b[38;5;28;01mif\u001b[39;00m store:\n",
      "File \u001b[0;32m/storage/work/dcl5300/current_projects/conus_comparison_lafferty-etal-2024/.venv/lib/python3.12/site-packages/pandas/core/reshape/concat.py:382\u001b[0m, in \u001b[0;36mconcat\u001b[0;34m(objs, axis, join, ignore_index, keys, levels, names, verify_integrity, sort, copy)\u001b[0m\n\u001b[1;32m    379\u001b[0m \u001b[38;5;28;01melif\u001b[39;00m copy \u001b[38;5;129;01mand\u001b[39;00m using_copy_on_write():\n\u001b[1;32m    380\u001b[0m     copy \u001b[38;5;241m=\u001b[39m \u001b[38;5;28;01mFalse\u001b[39;00m\n\u001b[0;32m--> 382\u001b[0m op \u001b[38;5;241m=\u001b[39m \u001b[43m_Concatenator\u001b[49m\u001b[43m(\u001b[49m\n\u001b[1;32m    383\u001b[0m \u001b[43m    \u001b[49m\u001b[43mobjs\u001b[49m\u001b[43m,\u001b[49m\n\u001b[1;32m    384\u001b[0m \u001b[43m    \u001b[49m\u001b[43maxis\u001b[49m\u001b[38;5;241;43m=\u001b[39;49m\u001b[43maxis\u001b[49m\u001b[43m,\u001b[49m\n\u001b[1;32m    385\u001b[0m \u001b[43m    \u001b[49m\u001b[43mignore_index\u001b[49m\u001b[38;5;241;43m=\u001b[39;49m\u001b[43mignore_index\u001b[49m\u001b[43m,\u001b[49m\n\u001b[1;32m    386\u001b[0m \u001b[43m    \u001b[49m\u001b[43mjoin\u001b[49m\u001b[38;5;241;43m=\u001b[39;49m\u001b[43mjoin\u001b[49m\u001b[43m,\u001b[49m\n\u001b[1;32m    387\u001b[0m \u001b[43m    \u001b[49m\u001b[43mkeys\u001b[49m\u001b[38;5;241;43m=\u001b[39;49m\u001b[43mkeys\u001b[49m\u001b[43m,\u001b[49m\n\u001b[1;32m    388\u001b[0m \u001b[43m    \u001b[49m\u001b[43mlevels\u001b[49m\u001b[38;5;241;43m=\u001b[39;49m\u001b[43mlevels\u001b[49m\u001b[43m,\u001b[49m\n\u001b[1;32m    389\u001b[0m \u001b[43m    \u001b[49m\u001b[43mnames\u001b[49m\u001b[38;5;241;43m=\u001b[39;49m\u001b[43mnames\u001b[49m\u001b[43m,\u001b[49m\n\u001b[1;32m    390\u001b[0m \u001b[43m    \u001b[49m\u001b[43mverify_integrity\u001b[49m\u001b[38;5;241;43m=\u001b[39;49m\u001b[43mverify_integrity\u001b[49m\u001b[43m,\u001b[49m\n\u001b[1;32m    391\u001b[0m \u001b[43m    \u001b[49m\u001b[43mcopy\u001b[49m\u001b[38;5;241;43m=\u001b[39;49m\u001b[43mcopy\u001b[49m\u001b[43m,\u001b[49m\n\u001b[1;32m    392\u001b[0m \u001b[43m    \u001b[49m\u001b[43msort\u001b[49m\u001b[38;5;241;43m=\u001b[39;49m\u001b[43msort\u001b[49m\u001b[43m,\u001b[49m\n\u001b[1;32m    393\u001b[0m \u001b[43m\u001b[49m\u001b[43m)\u001b[49m\n\u001b[1;32m    395\u001b[0m \u001b[38;5;28;01mreturn\u001b[39;00m op\u001b[38;5;241m.\u001b[39mget_result()\n",
      "File \u001b[0;32m/storage/work/dcl5300/current_projects/conus_comparison_lafferty-etal-2024/.venv/lib/python3.12/site-packages/pandas/core/reshape/concat.py:445\u001b[0m, in \u001b[0;36m_Concatenator.__init__\u001b[0;34m(self, objs, axis, join, keys, levels, names, ignore_index, verify_integrity, copy, sort)\u001b[0m\n\u001b[1;32m    442\u001b[0m \u001b[38;5;28mself\u001b[39m\u001b[38;5;241m.\u001b[39mverify_integrity \u001b[38;5;241m=\u001b[39m verify_integrity\n\u001b[1;32m    443\u001b[0m \u001b[38;5;28mself\u001b[39m\u001b[38;5;241m.\u001b[39mcopy \u001b[38;5;241m=\u001b[39m copy\n\u001b[0;32m--> 445\u001b[0m objs, keys \u001b[38;5;241m=\u001b[39m \u001b[38;5;28;43mself\u001b[39;49m\u001b[38;5;241;43m.\u001b[39;49m\u001b[43m_clean_keys_and_objs\u001b[49m\u001b[43m(\u001b[49m\u001b[43mobjs\u001b[49m\u001b[43m,\u001b[49m\u001b[43m \u001b[49m\u001b[43mkeys\u001b[49m\u001b[43m)\u001b[49m\n\u001b[1;32m    447\u001b[0m \u001b[38;5;66;03m# figure out what our result ndim is going to be\u001b[39;00m\n\u001b[1;32m    448\u001b[0m ndims \u001b[38;5;241m=\u001b[39m \u001b[38;5;28mself\u001b[39m\u001b[38;5;241m.\u001b[39m_get_ndims(objs)\n",
      "File \u001b[0;32m/storage/work/dcl5300/current_projects/conus_comparison_lafferty-etal-2024/.venv/lib/python3.12/site-packages/pandas/core/reshape/concat.py:507\u001b[0m, in \u001b[0;36m_Concatenator._clean_keys_and_objs\u001b[0;34m(self, objs, keys)\u001b[0m\n\u001b[1;32m    504\u001b[0m     objs_list \u001b[38;5;241m=\u001b[39m \u001b[38;5;28mlist\u001b[39m(objs)\n\u001b[1;32m    506\u001b[0m \u001b[38;5;28;01mif\u001b[39;00m \u001b[38;5;28mlen\u001b[39m(objs_list) \u001b[38;5;241m==\u001b[39m \u001b[38;5;241m0\u001b[39m:\n\u001b[0;32m--> 507\u001b[0m     \u001b[38;5;28;01mraise\u001b[39;00m \u001b[38;5;167;01mValueError\u001b[39;00m(\u001b[38;5;124m\"\u001b[39m\u001b[38;5;124mNo objects to concatenate\u001b[39m\u001b[38;5;124m\"\u001b[39m)\n\u001b[1;32m    509\u001b[0m \u001b[38;5;28;01mif\u001b[39;00m keys \u001b[38;5;129;01mis\u001b[39;00m \u001b[38;5;28;01mNone\u001b[39;00m:\n\u001b[1;32m    510\u001b[0m     objs_list \u001b[38;5;241m=\u001b[39m \u001b[38;5;28mlist\u001b[39m(com\u001b[38;5;241m.\u001b[39mnot_none(\u001b[38;5;241m*\u001b[39mobjs_list))\n",
      "\u001b[0;31mValueError\u001b[0m: No objects to concatenate"
     ]
    }
   ],
   "source": [
    "gevu.fit_ensemble_gev_city(city='nyc',\n",
    "                            metric_id='max_tasmax',\n",
    "                            years=[1950,2100],\n",
    "                            stationary=False,\n",
    "                            periods_for_level=[10,25,50,100],\n",
    "                            fit_method='mle',\n",
    "                           return_period_years=return_period_years,\n",
    "                           return_period_diffs=return_period_diffs\n",
    "                          )"
   ]
  },
  {
   "cell_type": "code",
   "execution_count": 8,
   "id": "141c6f17-ace3-4b92-b9d4-f0072eee35a7",
   "metadata": {},
   "outputs": [
    {
     "ename": "TypeError",
     "evalue": "fit_ensemble_gev_city() missing 1 required positional argument: 'periods_for_level'",
     "output_type": "error",
     "traceback": [
      "\u001b[0;31m---------------------------------------------------------------------------\u001b[0m",
      "\u001b[0;31mTypeError\u001b[0m                                 Traceback (most recent call last)",
      "Cell \u001b[0;32mIn[8], line 21\u001b[0m\n\u001b[1;32m     11\u001b[0m         \u001b[38;5;28;01mfor\u001b[39;00m metric_id \u001b[38;5;129;01min\u001b[39;00m gev_metric_ids:\n\u001b[1;32m     12\u001b[0m             delayed\u001b[38;5;241m.\u001b[39mappend(dask\u001b[38;5;241m.\u001b[39mdelayed(gevu\u001b[38;5;241m.\u001b[39mfit_ensemble_gev_city)\n\u001b[1;32m     13\u001b[0m                            (city\u001b[38;5;241m=\u001b[39mcity,\n\u001b[1;32m     14\u001b[0m                             metric_id\u001b[38;5;241m=\u001b[39mmetric_id,\n\u001b[0;32m   (...)\u001b[0m\n\u001b[1;32m     18\u001b[0m                             fit_method\u001b[38;5;241m=\u001b[39mfit_method)\n\u001b[1;32m     19\u001b[0m                           )\n\u001b[0;32m---> 21\u001b[0m _ \u001b[38;5;241m=\u001b[39m \u001b[43mdask\u001b[49m\u001b[38;5;241;43m.\u001b[39;49m\u001b[43mcompute\u001b[49m\u001b[43m(\u001b[49m\u001b[38;5;241;43m*\u001b[39;49m\u001b[43mdelayed\u001b[49m\u001b[43m)\u001b[49m\n",
      "File \u001b[0;32m/storage/work/dcl5300/current_projects/conus_comparison_lafferty-etal-2024/.venv/lib/python3.12/site-packages/dask/base.py:660\u001b[0m, in \u001b[0;36mcompute\u001b[0;34m(traverse, optimize_graph, scheduler, get, *args, **kwargs)\u001b[0m\n\u001b[1;32m    657\u001b[0m     postcomputes\u001b[38;5;241m.\u001b[39mappend(x\u001b[38;5;241m.\u001b[39m__dask_postcompute__())\n\u001b[1;32m    659\u001b[0m \u001b[38;5;28;01mwith\u001b[39;00m shorten_traceback():\n\u001b[0;32m--> 660\u001b[0m     results \u001b[38;5;241m=\u001b[39m \u001b[43mschedule\u001b[49m\u001b[43m(\u001b[49m\u001b[43mdsk\u001b[49m\u001b[43m,\u001b[49m\u001b[43m \u001b[49m\u001b[43mkeys\u001b[49m\u001b[43m,\u001b[49m\u001b[43m \u001b[49m\u001b[38;5;241;43m*\u001b[39;49m\u001b[38;5;241;43m*\u001b[39;49m\u001b[43mkwargs\u001b[49m\u001b[43m)\u001b[49m\n\u001b[1;32m    662\u001b[0m \u001b[38;5;28;01mreturn\u001b[39;00m repack([f(r, \u001b[38;5;241m*\u001b[39ma) \u001b[38;5;28;01mfor\u001b[39;00m r, (f, a) \u001b[38;5;129;01min\u001b[39;00m \u001b[38;5;28mzip\u001b[39m(results, postcomputes)])\n",
      "File \u001b[0;32m/storage/work/dcl5300/current_projects/conus_comparison_lafferty-etal-2024/.venv/lib/python3.12/site-packages/dask/utils.py:77\u001b[0m, in \u001b[0;36mapply\u001b[0;34m()\u001b[0m\n\u001b[1;32m     46\u001b[0m \u001b[38;5;250m\u001b[39m\u001b[38;5;124;03m\"\"\"Apply a function given its positional and keyword arguments.\u001b[39;00m\n\u001b[1;32m     47\u001b[0m \n\u001b[1;32m     48\u001b[0m \u001b[38;5;124;03mEquivalent to ``func(*args, **kwargs)``\u001b[39;00m\n\u001b[0;32m   (...)\u001b[0m\n\u001b[1;32m     74\u001b[0m \u001b[38;5;124;03m>>> dsk = {'task-name': task}  # adds the task to a low level Dask task graph\u001b[39;00m\n\u001b[1;32m     75\u001b[0m \u001b[38;5;124;03m\"\"\"\u001b[39;00m\n\u001b[1;32m     76\u001b[0m \u001b[38;5;28;01mif\u001b[39;00m kwargs:\n\u001b[0;32m---> 77\u001b[0m     \u001b[38;5;28;01mreturn\u001b[39;00m func(\u001b[38;5;241m*\u001b[39margs, \u001b[38;5;241m*\u001b[39m\u001b[38;5;241m*\u001b[39mkwargs)\n\u001b[1;32m     78\u001b[0m \u001b[38;5;28;01melse\u001b[39;00m:\n\u001b[1;32m     79\u001b[0m     \u001b[38;5;28;01mreturn\u001b[39;00m func(\u001b[38;5;241m*\u001b[39margs)\n",
      "\u001b[0;31mTypeError\u001b[0m: fit_ensemble_gev_city() missing 1 required positional argument: 'periods_for_level'"
     ]
    }
   ],
   "source": [
    "years = [1950,2100]\n",
    "stationary = False\n",
    "fit_method = \"mle\"\n",
    "periods_for_level = [10,25,50,100]\n",
    "return_period_years = [1975, 2075]\n",
    "return_period_diffs = [[1975,2075]]\n",
    "\n",
    "# Loop through all\n",
    "with warnings.catch_warnings(action=\"ignore\"):\n",
    "    for city in city_list:\n",
    "        for metric_id in gev_metric_ids:\n",
    "            delayed.append(dask.delayed(gevu.fit_ensemble_gev_city)\n",
    "                           (city=city,\n",
    "                            metric_id=metric_id,\n",
    "                            years=years,\n",
    "                            stationary=stationary,\n",
    "                            periods_for_level=periods_for_level,\n",
    "                            fit_method=fit_method,\n",
    "                           return_period_years=return_period_years,\n",
    "                           return_period_diffs=return_period_diffs)\n",
    "                          )\n",
    "            \n",
    "_ = dask.compute(*delayed)"
   ]
  },
  {
   "cell_type": "markdown",
   "id": "0e44965b-c6d9-4ea6-998d-d06252293c05",
   "metadata": {},
   "source": [
    "## Fit Bayesian GEV"
   ]
  },
  {
   "cell_type": "markdown",
   "id": "47427ac9-69b6-4722-9ea8-7b986505d751",
   "metadata": {},
   "source": [
    "### Fit across ensemble"
   ]
  },
  {
   "cell_type": "code",
   "execution_count": null,
   "id": "8bf19267-0c3b-435c-bef8-d46e065c55e8",
   "metadata": {},
   "outputs": [],
   "source": [
    "%%time\n",
    "# Fit info: non-stationary\n",
    "future_years = [2015,2100]\n",
    "stationary = False\n",
    "return_periods = [100]\n",
    "\n",
    "# Parallelize with dask delayed\n",
    "delayed = []\n",
    "\n",
    "# Loop thorugh all combos\n",
    "for city in city_list.keys():\n",
    "    for metric_id in gev_metric_ids:\n",
    "        tmp = dask.delayed(gevbu.fit_bayesian_gev_ensemble)(\n",
    "            city=city,\n",
    "            metric_id=metric_id,\n",
    "            years=future_years,\n",
    "            stationary=stationary,\n",
    "            shape_sigma=0.2,\n",
    "            prior_identifier='shape_sigma_02',\n",
    "            return_periods=return_periods,\n",
    "        )\n",
    "        delayed.append(tmp)\n",
    "\n",
    "_ = dask.compute(*delayed)"
   ]
  },
  {
   "cell_type": "code",
   "execution_count": 2,
   "id": "b0a006b6-79fb-46cd-a127-632558337d4a",
   "metadata": {},
   "outputs": [],
   "source": [
    "# %%time\n",
    "# # Fit info: stationary\n",
    "# hist_years = [1950,2014]\n",
    "# future_years = [2050,2100]\n",
    "# stationary = True\n",
    "# return_periods = [100]\n",
    "\n",
    "# # Parallelize with dask delayed\n",
    "# delayed = []\n",
    "\n",
    "# # Loop thorugh all combos\n",
    "# for city in city_list.keys():\n",
    "#     for metric_id in gev_metric_ids:\n",
    "#         for years in [hist_years, future_years]:\n",
    "#             tmp = dask.delayed(gevbu.fit_bayesian_gev_ensemble)(\n",
    "#                     city=city,\n",
    "#                     metric_id=metric_id,\n",
    "#                     years=years,\n",
    "#                     stationary=stationary,\n",
    "#                     return_periods=return_periods,\n",
    "#                     dask=False\n",
    "#             )\n",
    "#             delayed.append(tmp)\n",
    "\n",
    "# _ = dask.compute(*delayed)"
   ]
  },
  {
   "cell_type": "markdown",
   "id": "e11ca430-4a39-4381-9cd1-5112a4ccc7b6",
   "metadata": {},
   "source": [
    "### Gather results"
   ]
  },
  {
   "cell_type": "code",
   "execution_count": 3,
   "id": "8da998a0-fb89-4e4a-9c1c-3364bfcb9e94",
   "metadata": {},
   "outputs": [
    {
     "name": "stdout",
     "output_type": "stream",
     "text": [
      "CPU times: user 2min 39s, sys: 11.7 s, total: 2min 51s\n",
      "Wall time: 15min 58s\n"
     ]
    }
   ],
   "source": [
    "%%time\n",
    "# Loop thorugh all combos and store\n",
    "store_path = f\"{project_data_path}/extreme_value/cities/original_grid/bayes_combined/\"\n",
    "\n",
    "return_periods = [100]\n",
    "\n",
    "prior_identifier = \"shape_sigma_02\"\n",
    "\n",
    "stationary = False\n",
    "stationary_string = \"stat\" if stationary else \"nonstat\"\n",
    "\n",
    "# for city in city_list.keys():\n",
    "for city in ['nyc', 'chicago', 'denver']:\n",
    "    for metric_id in ['max_tasmax', 'max_pr', 'min_tasmin']:\n",
    "    # for metric_id in gev_metric_ids:\n",
    "        for years in [None, [2015,2100]]:\n",
    "            # Check if done\n",
    "            change_identifier = \"\" if years is None else f\"_change_{years[0]}-{years[1]}\"\n",
    "            file_path = f\"{store_path}/{city}_{metric_id}_{stationary_string}_{prior_identifier}{change_identifier}.csv\"\n",
    "            if os.path.exists(file_path):\n",
    "                continue\n",
    "            # Read\n",
    "            df = gevbu.gather_bayesian_gev_results_all(\n",
    "                city = city,\n",
    "                metric_id = metric_id,\n",
    "                return_periods = return_periods,\n",
    "                stationary = stationary,\n",
    "                prior_identifier = prior_identifier,\n",
    "                years = years,\n",
    "            )\n",
    "            # Store\n",
    "            df.to_csv(file_path, index=False)"
   ]
  },
  {
   "cell_type": "code",
   "execution_count": null,
   "id": "fc248112-146c-40de-b1a2-aea4b0c5c01b",
   "metadata": {},
   "outputs": [],
   "source": []
  }
 ],
 "metadata": {
  "kernelspec": {
   "display_name": "Python 3 (ipykernel)",
   "language": "python",
   "name": "python3"
  },
  "language_info": {
   "codemirror_mode": {
    "name": "ipython",
    "version": 3
   },
   "file_extension": ".py",
   "mimetype": "text/x-python",
   "name": "python",
   "nbconvert_exporter": "python",
   "pygments_lexer": "ipython3",
   "version": "3.12.7"
  }
 },
 "nbformat": 4,
 "nbformat_minor": 5
}
