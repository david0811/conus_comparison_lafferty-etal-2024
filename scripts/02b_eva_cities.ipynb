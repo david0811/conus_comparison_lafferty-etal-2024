{
 "cells": [
  {
   "cell_type": "code",
   "execution_count": null,
   "id": "a9d0c8e4-fa17-4bf8-b6c9-b4b782a4fbbf",
   "metadata": {},
   "outputs": [],
   "source": [
    "import os\n",
    "import pandas as pd\n",
    "import dask\n",
    "import gev_bayes_utils as gevbu\n",
    "\n",
    "from utils import city_list, gev_metric_ids\n",
    "from utils import roar_data_path as project_data_path\n",
    "from utils import roar_code_path as project_code_path"
   ]
  },
  {
   "cell_type": "code",
   "execution_count": 2,
   "id": "0c499351-9cc1-40d6-8cd6-6e8a3b70f36f",
   "metadata": {},
   "outputs": [],
   "source": [
    "# ############\n",
    "# ### Dask ###\n",
    "# ############\n",
    "# from dask_jobqueue import SLURMCluster\n",
    "\n",
    "# cluster = SLURMCluster(\n",
    "#     # account=\"pches\",\n",
    "#     account=\"open\",\n",
    "#     cores=3,\n",
    "#     processes=1,\n",
    "#     job_cpu=3,\n",
    "#     memory=\"10GiB\",\n",
    "#     walltime=\"12:00:00\",\n",
    "#     job_script_prologue=[\n",
    "#         f\"export PYTHONPATH={project_code_path}/.venv/lib/python3.12/site-packages:$PYTHONPATH\",  # Put venv first\n",
    "#         \"export JAX_PLATFORM_NAME=cpu\",\n",
    "#         \"export XLA_FLAGS='--xla_force_host_platform_device_count=1'\",\n",
    "#         # Force PyTensor to not use caching at all\n",
    "#         \"export PYTENSOR_FLAGS='cxx=,\",\n",
    "#         \"mode=FAST_COMPILE,\",  # Less aggressive optimization but more stable\n",
    "#         \"allow_gc=True,\",\n",
    "#         \"cache_size=0'\"        # Disable caching completely\n",
    "#     ],\n",
    "#     death_timeout=60,\n",
    "#     local_directory=\"/tmp\"\n",
    "# )\n",
    "\n",
    "# cluster.scale(30)\n",
    "\n",
    "# from dask.distributed import Client\n",
    "# client = Client(cluster)\n",
    "# client"
   ]
  },
  {
   "cell_type": "code",
   "execution_count": 2,
   "id": "1eaa83df-abca-4e08-b4f0-1becc407addb",
   "metadata": {},
   "outputs": [],
   "source": [
    "# ############\n",
    "# ### Dask ###\n",
    "# ############\n",
    "# from dask_jobqueue import SLURMCluster\n",
    "\n",
    "# cluster = SLURMCluster(\n",
    "#     # account=\"pches\",\n",
    "#     account=\"open\",\n",
    "#     cores=1,\n",
    "#     processes=1,\n",
    "#     job_cpu=1,\n",
    "#     memory=\"10GiB\",\n",
    "#     walltime=\"00:30:00\",\n",
    "# )\n",
    "\n",
    "# cluster.scale(20)\n",
    "\n",
    "# from dask.distributed import Client\n",
    "# client = Client(cluster)\n",
    "# client"
   ]
  },
  {
   "cell_type": "markdown",
   "id": "74235fbd-a397-449b-9a79-da81bec8e5dc",
   "metadata": {},
   "source": [
    "## Get city timeseries"
   ]
  },
  {
   "cell_type": "code",
   "execution_count": 3,
   "id": "6296af0e-5ba4-4c0c-a9ba-4a5e1ee83ca7",
   "metadata": {},
   "outputs": [],
   "source": [
    "# # Run for all\n",
    "# for city in city_list.keys():\n",
    "#     for metric_id in gev_metric_ids:\n",
    "#         gevbu.get_city_timeseries_all(city, metric_id)"
   ]
  },
  {
   "cell_type": "markdown",
   "id": "0e44965b-c6d9-4ea6-998d-d06252293c05",
   "metadata": {},
   "source": [
    "## Fit Bayesian GEV"
   ]
  },
  {
   "cell_type": "markdown",
   "id": "47427ac9-69b6-4722-9ea8-7b986505d751",
   "metadata": {},
   "source": [
    "### Fit across ensemble"
   ]
  },
  {
   "cell_type": "code",
   "execution_count": null,
   "id": "8bf19267-0c3b-435c-bef8-d46e065c55e8",
   "metadata": {},
   "outputs": [],
   "source": [
    "%%time\n",
    "# Fit info: non-stationary\n",
    "future_years = [2015,2100]\n",
    "stationary = False\n",
    "return_periods = [100]\n",
    "\n",
    "# Parallelize with dask delayed\n",
    "delayed = []\n",
    "\n",
    "# Loop thorugh all combos\n",
    "for city in city_list.keys():\n",
    "    for metric_id in gev_metric_ids:\n",
    "        tmp = dask.delayed(gevbu.fit_bayesian_gev_ensemble)(\n",
    "            city=city,\n",
    "            metric_id=metric_id,\n",
    "            years=future_years,\n",
    "            stationary=stationary,\n",
    "            shape_sigma=0.2,\n",
    "            prior_identifier='shape_sigma_02',\n",
    "            return_periods=return_periods,\n",
    "        )\n",
    "        delayed.append(tmp)\n",
    "\n",
    "_ = dask.compute(*delayed)"
   ]
  },
  {
   "cell_type": "code",
   "execution_count": 2,
   "id": "b0a006b6-79fb-46cd-a127-632558337d4a",
   "metadata": {},
   "outputs": [],
   "source": [
    "# %%time\n",
    "# # Fit info: stationary\n",
    "# hist_years = [1950,2014]\n",
    "# future_years = [2050,2100]\n",
    "# stationary = True\n",
    "# return_periods = [100]\n",
    "\n",
    "# # Parallelize with dask delayed\n",
    "# delayed = []\n",
    "\n",
    "# # Loop thorugh all combos\n",
    "# for city in city_list.keys():\n",
    "#     for metric_id in gev_metric_ids:\n",
    "#         for years in [hist_years, future_years]:\n",
    "#             tmp = dask.delayed(gevbu.fit_bayesian_gev_ensemble)(\n",
    "#                     city=city,\n",
    "#                     metric_id=metric_id,\n",
    "#                     years=years,\n",
    "#                     stationary=stationary,\n",
    "#                     return_periods=return_periods,\n",
    "#                     dask=False\n",
    "#             )\n",
    "#             delayed.append(tmp)\n",
    "\n",
    "# _ = dask.compute(*delayed)"
   ]
  },
  {
   "cell_type": "markdown",
   "id": "e11ca430-4a39-4381-9cd1-5112a4ccc7b6",
   "metadata": {},
   "source": [
    "### Gather results"
   ]
  },
  {
   "cell_type": "code",
   "execution_count": 4,
   "id": "8da998a0-fb89-4e4a-9c1c-3364bfcb9e94",
   "metadata": {},
   "outputs": [],
   "source": [
    "%%time\n",
    "# Loop thorugh all combos and store\n",
    "store_path = f\"{project_data_path}/extreme_value/cities/original_grid/bayes_combined/\"\n",
    "\n",
    "return_periods = [100]\n",
    "\n",
    "stationary = True\n",
    "stationary_string = \"stat\" if stationary else \"nonstat\"\n",
    "\n",
    "for city in city_list.keys():\n",
    "    for metric_id in gev_metric_ids:\n",
    "        # Check if done\n",
    "        file_path = f\"{store_path}/{city}_{metric_id}_{stationary_string}.csv\"\n",
    "        if os.path.exists(file_path):\n",
    "            continue\n",
    "        # Read\n",
    "        df = gevbu.gather_bayesian_gev_results_all(\n",
    "            city=city,\n",
    "            metric_id=metric_id,\n",
    "            return_periods = return_periods,\n",
    "            stationary=stationary\n",
    "        )\n",
    "        # Store\n",
    "        df.to_csv(file_path, index=False)"
   ]
  },
  {
   "cell_type": "code",
   "execution_count": null,
   "id": "fc248112-146c-40de-b1a2-aea4b0c5c01b",
   "metadata": {},
   "outputs": [],
   "source": []
  }
 ],
 "metadata": {
  "kernelspec": {
   "display_name": "Python 3 (ipykernel)",
   "language": "python",
   "name": "python3"
  },
  "language_info": {
   "codemirror_mode": {
    "name": "ipython",
    "version": 3
   },
   "file_extension": ".py",
   "mimetype": "text/x-python",
   "name": "python",
   "nbconvert_exporter": "python",
   "pygments_lexer": "ipython3",
   "version": "3.12.7"
  }
 },
 "nbformat": 4,
 "nbformat_minor": 5
}
