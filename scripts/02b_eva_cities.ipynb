{
 "cells": [
  {
   "cell_type": "code",
   "execution_count": 1,
   "id": "7b45d71a-fcbf-424b-92d1-583e61b700f4",
   "metadata": {},
   "outputs": [],
   "source": [
    "import os\n",
    "\n",
    "os.environ[\"PYTENSOR_FLAGS\"] = (\n",
    "    f\"base_compiledir=/scratch/{os.environ.get('USER', 'default')}/pytensor_compile\"\n",
    ")\n",
    "\n",
    "# Ensure compile directory exists\n",
    "compile_dir = os.environ[\"PYTENSOR_FLAGS\"].split(\"base_compiledir=\")[1]\n",
    "os.makedirs(compile_dir, exist_ok=True)"
   ]
  },
  {
   "cell_type": "code",
   "execution_count": 2,
   "id": "a9d0c8e4-fa17-4bf8-b6c9-b4b782a4fbbf",
   "metadata": {},
   "outputs": [
    {
     "name": "stderr",
     "output_type": "stream",
     "text": [
      "WARNING (pytensor.tensor.blas): Using NumPy C-API based implementation for BLAS functions.\n"
     ]
    }
   ],
   "source": [
    "import pandas as pd\n",
    "import dask\n",
    "import gev_bayes_utils as gevbu\n",
    "\n",
    "from utils import city_list, gev_metric_ids\n",
    "from utils import roar_data_path as project_data_path"
   ]
  },
  {
   "cell_type": "code",
   "execution_count": null,
   "id": "0c499351-9cc1-40d6-8cd6-6e8a3b70f36f",
   "metadata": {},
   "outputs": [],
   "source": [
    "############\n",
    "### Dask ###\n",
    "############\n",
    "from dask_jobqueue import SLURMCluster\n",
    "\n",
    "cluster = SLURMCluster(\n",
    "    # account=\"pches\",\n",
    "    account=\"open\",\n",
    "    cores=3,\n",
    "    processes=1,\n",
    "    job_cpu=3,\n",
    "    memory=\"10GiB\",\n",
    "    walltime=\"00:40:00\",\n",
    "    # Include environment variables in worker environment\n",
    "    job_script_prologue=[\n",
    "        f\"export PYTENSOR_FLAGS=base_compiledir={compile_dir}\",\n",
    "        f\"export PYTHONPATH=$PYTHONPATH:/storage/work/dcl5300/current_projects/conus_comparison_lafferty-etal-2024/.venv/lib/python3.12/site-packages\",\n",
    "    ],\n",
    ")\n",
    "\n",
    "cluster.scale(10)\n",
    "\n",
    "from dask.distributed import Client\n",
    "client = Client(cluster)\n",
    "client"
   ]
  },
  {
   "cell_type": "markdown",
   "id": "74235fbd-a397-449b-9a79-da81bec8e5dc",
   "metadata": {},
   "source": [
    "## Get city timeseries"
   ]
  },
  {
   "cell_type": "code",
   "execution_count": 6,
   "id": "6296af0e-5ba4-4c0c-a9ba-4a5e1ee83ca7",
   "metadata": {},
   "outputs": [],
   "source": [
    "# Run for all\n",
    "for city in city_list.keys():\n",
    "    for metric_id in gev_metric_ids:\n",
    "        gevbu.get_city_timeseries_all(city, metric_id)"
   ]
  },
  {
   "cell_type": "markdown",
   "id": "0e44965b-c6d9-4ea6-998d-d06252293c05",
   "metadata": {},
   "source": [
    "## Fit Bayesian GEV"
   ]
  },
  {
   "cell_type": "code",
   "execution_count": 5,
   "id": "b0a006b6-79fb-46cd-a127-632558337d4a",
   "metadata": {},
   "outputs": [],
   "source": [
    "# Fit info\n",
    "hist_years = [1950, 2014]\n",
    "future_years = [2050,2100]\n",
    "\n",
    "stationary = True\n",
    "return_periods = [100]\n",
    "\n",
    "# Parallelize with dask delayed\n",
    "delayed = []\n",
    "\n",
    "# Loop thorugh all combos\n",
    "for city in city_list.keys():\n",
    "    for metric_id in ['max_tasmax', 'min_tasmin', 'max_pr']:\n",
    "        for years in [hist_years, future_years]:\n",
    "            tmp = dask.delayed(gevbu.fit_bayesian_gev_ensemble)(\n",
    "                city=city,\n",
    "                metric_id=metric_id,\n",
    "                years=years,\n",
    "                stationary=stationary,\n",
    "                return_periods=return_periods,\n",
    "                dask=False\n",
    "            )\n",
    "            delayed.append(tmp)"
   ]
  },
  {
   "cell_type": "code",
   "execution_count": 6,
   "id": "28b886b8-6925-4ed3-b4d7-a3773285b340",
   "metadata": {},
   "outputs": [
    {
     "ename": "KeyboardInterrupt",
     "evalue": "",
     "output_type": "error",
     "traceback": [
      "\u001b[0;31m---------------------------------------------------------------------------\u001b[0m",
      "\u001b[0;31mKeyboardInterrupt\u001b[0m                         Traceback (most recent call last)",
      "File \u001b[0;32m<timed exec>:1\u001b[0m\n",
      "File \u001b[0;32m/storage/work/dcl5300/current_projects/conus_comparison_lafferty-etal-2024/.venv/lib/python3.12/site-packages/dask/base.py:660\u001b[0m, in \u001b[0;36mcompute\u001b[0;34m(traverse, optimize_graph, scheduler, get, *args, **kwargs)\u001b[0m\n\u001b[1;32m    657\u001b[0m     postcomputes\u001b[38;5;241m.\u001b[39mappend(x\u001b[38;5;241m.\u001b[39m__dask_postcompute__())\n\u001b[1;32m    659\u001b[0m \u001b[38;5;28;01mwith\u001b[39;00m shorten_traceback():\n\u001b[0;32m--> 660\u001b[0m     results \u001b[38;5;241m=\u001b[39m \u001b[43mschedule\u001b[49m\u001b[43m(\u001b[49m\u001b[43mdsk\u001b[49m\u001b[43m,\u001b[49m\u001b[43m \u001b[49m\u001b[43mkeys\u001b[49m\u001b[43m,\u001b[49m\u001b[43m \u001b[49m\u001b[38;5;241;43m*\u001b[39;49m\u001b[38;5;241;43m*\u001b[39;49m\u001b[43mkwargs\u001b[49m\u001b[43m)\u001b[49m\n\u001b[1;32m    662\u001b[0m \u001b[38;5;28;01mreturn\u001b[39;00m repack([f(r, \u001b[38;5;241m*\u001b[39ma) \u001b[38;5;28;01mfor\u001b[39;00m r, (f, a) \u001b[38;5;129;01min\u001b[39;00m \u001b[38;5;28mzip\u001b[39m(results, postcomputes)])\n",
      "File \u001b[0;32m~/.local/share/uv/python/cpython-3.12.7-linux-x86_64-gnu/lib/python3.12/threading.py:655\u001b[0m, in \u001b[0;36mEvent.wait\u001b[0;34m(self, timeout)\u001b[0m\n\u001b[1;32m    653\u001b[0m signaled \u001b[38;5;241m=\u001b[39m \u001b[38;5;28mself\u001b[39m\u001b[38;5;241m.\u001b[39m_flag\n\u001b[1;32m    654\u001b[0m \u001b[38;5;28;01mif\u001b[39;00m \u001b[38;5;129;01mnot\u001b[39;00m signaled:\n\u001b[0;32m--> 655\u001b[0m     signaled \u001b[38;5;241m=\u001b[39m \u001b[38;5;28;43mself\u001b[39;49m\u001b[38;5;241;43m.\u001b[39;49m\u001b[43m_cond\u001b[49m\u001b[38;5;241;43m.\u001b[39;49m\u001b[43mwait\u001b[49m\u001b[43m(\u001b[49m\u001b[43mtimeout\u001b[49m\u001b[43m)\u001b[49m\n\u001b[1;32m    656\u001b[0m \u001b[38;5;28;01mreturn\u001b[39;00m signaled\n",
      "File \u001b[0;32m~/.local/share/uv/python/cpython-3.12.7-linux-x86_64-gnu/lib/python3.12/threading.py:359\u001b[0m, in \u001b[0;36mCondition.wait\u001b[0;34m(self, timeout)\u001b[0m\n\u001b[1;32m    357\u001b[0m \u001b[38;5;28;01melse\u001b[39;00m:\n\u001b[1;32m    358\u001b[0m     \u001b[38;5;28;01mif\u001b[39;00m timeout \u001b[38;5;241m>\u001b[39m \u001b[38;5;241m0\u001b[39m:\n\u001b[0;32m--> 359\u001b[0m         gotit \u001b[38;5;241m=\u001b[39m \u001b[43mwaiter\u001b[49m\u001b[38;5;241;43m.\u001b[39;49m\u001b[43macquire\u001b[49m\u001b[43m(\u001b[49m\u001b[38;5;28;43;01mTrue\u001b[39;49;00m\u001b[43m,\u001b[49m\u001b[43m \u001b[49m\u001b[43mtimeout\u001b[49m\u001b[43m)\u001b[49m\n\u001b[1;32m    360\u001b[0m     \u001b[38;5;28;01melse\u001b[39;00m:\n\u001b[1;32m    361\u001b[0m         gotit \u001b[38;5;241m=\u001b[39m waiter\u001b[38;5;241m.\u001b[39macquire(\u001b[38;5;28;01mFalse\u001b[39;00m)\n",
      "\u001b[0;31mKeyboardInterrupt\u001b[0m: "
     ]
    }
   ],
   "source": [
    "%%time\n",
    "_ = dask.compute(*delayed)"
   ]
  },
  {
   "cell_type": "code",
   "execution_count": null,
   "id": "a0c5e58c-2c62-499e-aec1-99e37156c3c8",
   "metadata": {},
   "outputs": [],
   "source": []
  }
 ],
 "metadata": {
  "kernelspec": {
   "display_name": "Python 3 (ipykernel)",
   "language": "python",
   "name": "python3"
  },
  "language_info": {
   "codemirror_mode": {
    "name": "ipython",
    "version": 3
   },
   "file_extension": ".py",
   "mimetype": "text/x-python",
   "name": "python",
   "nbconvert_exporter": "python",
   "pygments_lexer": "ipython3",
   "version": "3.12.7"
  }
 },
 "nbformat": 4,
 "nbformat_minor": 5
}
