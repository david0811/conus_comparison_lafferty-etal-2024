{
 "cells": [
  {
   "cell_type": "code",
   "execution_count": 1,
   "id": "b4054ed6-6ef0-4bee-8356-9ac60120c037",
   "metadata": {},
   "outputs": [],
   "source": [
    "import os\n",
    "from glob import glob\n",
    "\n",
    "import dask\n",
    "import numpy as np\n",
    "import pandas as pd\n",
    "import xarray as xr\n",
    "\n",
    "from utils import city_list, gev_metric_ids\n",
    "import metric_funcs as mf"
   ]
  },
  {
   "cell_type": "markdown",
   "id": "51d8e6ce-cb21-48ba-a25f-4b8e3ba2dae4",
   "metadata": {},
   "source": [
    "## Preliminaries"
   ]
  },
  {
   "cell_type": "code",
   "execution_count": 2,
   "id": "771cf861-108d-464d-9330-56aa2e734125",
   "metadata": {},
   "outputs": [],
   "source": [
    "################\n",
    "#### Paths #####\n",
    "################\n",
    "# Update these for reproduction\n",
    "from utils import roar_code_path as project_code_path\n",
    "from utils import roar_data_path as project_data_path\n",
    "loca_path = \"/storage/group/pches/default/public/LOCA2\" # raw loca outputs"
   ]
  },
  {
   "cell_type": "code",
   "execution_count": 3,
   "id": "35122b6b-92dc-4124-af47-470e7ad9ee6b",
   "metadata": {},
   "outputs": [],
   "source": [
    "##############\n",
    "### Models ###\n",
    "##############\n",
    "\n",
    "gcms = os.listdir(f\"{loca_path}/\")\n",
    "gcms.remove('training_data')\n",
    "gcms.remove('scripts')\n",
    "\n",
    "loca_all = {}\n",
    "\n",
    "# Loop through gcms\n",
    "for gcm in gcms:\n",
    "    loca_all[gcm] = {}\n",
    "    # Loop through members\n",
    "    members = os.listdir(f\"{loca_path}/{gcm}/0p0625deg/\")\n",
    "    for member in members:\n",
    "        # Append SSPs\n",
    "        ssps = os.listdir(f\"{loca_path}/{gcm}/0p0625deg/{member}/\")\n",
    "        loca_all[gcm][member] = ssps"
   ]
  },
  {
   "cell_type": "code",
   "execution_count": 4,
   "id": "a4a8b04a-29da-4392-8400-175d6eedf4c1",
   "metadata": {},
   "outputs": [
    {
     "name": "stdout",
     "output_type": "stream",
     "text": [
      "# gcm: 27\n",
      "# gcm/expts: 99\n",
      "# gcm/expts/ens: 329\n"
     ]
    }
   ],
   "source": [
    "##############\n",
    "### Models ###\n",
    "##############\n",
    "# Matches website (https://loca.ucsd.edu/loca-version-2-for-north-america-ca-jan-2023/) as of Jan 2023\n",
    "print(f\"# gcm: {len(gcms)}\")\n",
    "print(f\"# gcm/expts: {np.sum([len(np.unique([item for row in [loca_all[gcm][member] for member in loca_all[gcm].keys()] for item in row])) for gcm in gcms])}\")\n",
    "print(f\"# gcm/expts/ens: {np.sum([len(loca_all[gcm][ssp]) for gcm in gcms for ssp in loca_all[gcm]])}\")"
   ]
  },
  {
   "cell_type": "code",
   "execution_count": 5,
   "id": "217a639a-d5c2-4b00-9352-c74126e011ee",
   "metadata": {},
   "outputs": [
    {
     "data": {
      "text/html": [
       "<div>\n",
       "    <div style=\"width: 24px; height: 24px; background-color: #e1e1e1; border: 3px solid #9D9D9D; border-radius: 5px; position: absolute;\"> </div>\n",
       "    <div style=\"margin-left: 48px;\">\n",
       "        <h3 style=\"margin-bottom: 0px;\">Client</h3>\n",
       "        <p style=\"color: #9D9D9D; margin-bottom: 0px;\">Client-848c8815-f6ab-11ef-976b-dd04a802b5c3</p>\n",
       "        <table style=\"width: 100%; text-align: left;\">\n",
       "\n",
       "        <tr>\n",
       "        \n",
       "            <td style=\"text-align: left;\"><strong>Connection method:</strong> Cluster object</td>\n",
       "            <td style=\"text-align: left;\"><strong>Cluster type:</strong> dask_jobqueue.SLURMCluster</td>\n",
       "        \n",
       "        </tr>\n",
       "\n",
       "        \n",
       "            <tr>\n",
       "                <td style=\"text-align: left;\">\n",
       "                    <strong>Dashboard: </strong> <a href=\"/proxy/8787/status\" target=\"_blank\">/proxy/8787/status</a>\n",
       "                </td>\n",
       "                <td style=\"text-align: left;\"></td>\n",
       "            </tr>\n",
       "        \n",
       "\n",
       "        </table>\n",
       "\n",
       "        \n",
       "            <button style=\"margin-bottom: 12px;\" data-commandlinker-command=\"dask:populate-and-launch-layout\" data-commandlinker-args='{\"url\": \"/proxy/8787/status\" }'>\n",
       "                Launch dashboard in JupyterLab\n",
       "            </button>\n",
       "        \n",
       "\n",
       "        \n",
       "            <details>\n",
       "            <summary style=\"margin-bottom: 20px;\"><h3 style=\"display: inline;\">Cluster Info</h3></summary>\n",
       "            <div class=\"jp-RenderedHTMLCommon jp-RenderedHTML jp-mod-trusted jp-OutputArea-output\">\n",
       "    <div style=\"width: 24px; height: 24px; background-color: #e1e1e1; border: 3px solid #9D9D9D; border-radius: 5px; position: absolute;\">\n",
       "    </div>\n",
       "    <div style=\"margin-left: 48px;\">\n",
       "        <h3 style=\"margin-bottom: 0px; margin-top: 0px;\">SLURMCluster</h3>\n",
       "        <p style=\"color: #9D9D9D; margin-bottom: 0px;\">fde00353</p>\n",
       "        <table style=\"width: 100%; text-align: left;\">\n",
       "            <tr>\n",
       "                <td style=\"text-align: left;\">\n",
       "                    <strong>Dashboard:</strong> <a href=\"/proxy/8787/status\" target=\"_blank\">/proxy/8787/status</a>\n",
       "                </td>\n",
       "                <td style=\"text-align: left;\">\n",
       "                    <strong>Workers:</strong> 0\n",
       "                </td>\n",
       "            </tr>\n",
       "            <tr>\n",
       "                <td style=\"text-align: left;\">\n",
       "                    <strong>Total threads:</strong> 0\n",
       "                </td>\n",
       "                <td style=\"text-align: left;\">\n",
       "                    <strong>Total memory:</strong> 0 B\n",
       "                </td>\n",
       "            </tr>\n",
       "            \n",
       "        </table>\n",
       "\n",
       "        <details>\n",
       "            <summary style=\"margin-bottom: 20px;\">\n",
       "                <h3 style=\"display: inline;\">Scheduler Info</h3>\n",
       "            </summary>\n",
       "\n",
       "            <div style=\"\">\n",
       "    <div>\n",
       "        <div style=\"width: 24px; height: 24px; background-color: #FFF7E5; border: 3px solid #FF6132; border-radius: 5px; position: absolute;\"> </div>\n",
       "        <div style=\"margin-left: 48px;\">\n",
       "            <h3 style=\"margin-bottom: 0px;\">Scheduler</h3>\n",
       "            <p style=\"color: #9D9D9D; margin-bottom: 0px;\">Scheduler-ea88a14f-0824-4272-9d39-b9b49374886c</p>\n",
       "            <table style=\"width: 100%; text-align: left;\">\n",
       "                <tr>\n",
       "                    <td style=\"text-align: left;\">\n",
       "                        <strong>Comm:</strong> tcp://10.6.8.28:35225\n",
       "                    </td>\n",
       "                    <td style=\"text-align: left;\">\n",
       "                        <strong>Workers:</strong> 0\n",
       "                    </td>\n",
       "                </tr>\n",
       "                <tr>\n",
       "                    <td style=\"text-align: left;\">\n",
       "                        <strong>Dashboard:</strong> <a href=\"/proxy/8787/status\" target=\"_blank\">/proxy/8787/status</a>\n",
       "                    </td>\n",
       "                    <td style=\"text-align: left;\">\n",
       "                        <strong>Total threads:</strong> 0\n",
       "                    </td>\n",
       "                </tr>\n",
       "                <tr>\n",
       "                    <td style=\"text-align: left;\">\n",
       "                        <strong>Started:</strong> Just now\n",
       "                    </td>\n",
       "                    <td style=\"text-align: left;\">\n",
       "                        <strong>Total memory:</strong> 0 B\n",
       "                    </td>\n",
       "                </tr>\n",
       "            </table>\n",
       "        </div>\n",
       "    </div>\n",
       "\n",
       "    <details style=\"margin-left: 48px;\">\n",
       "        <summary style=\"margin-bottom: 20px;\">\n",
       "            <h3 style=\"display: inline;\">Workers</h3>\n",
       "        </summary>\n",
       "\n",
       "        \n",
       "\n",
       "    </details>\n",
       "</div>\n",
       "\n",
       "        </details>\n",
       "    </div>\n",
       "</div>\n",
       "            </details>\n",
       "        \n",
       "\n",
       "    </div>\n",
       "</div>"
      ],
      "text/plain": [
       "<Client: 'tcp://10.6.8.28:35225' processes=0 threads=0, memory=0 B>"
      ]
     },
     "execution_count": 5,
     "metadata": {},
     "output_type": "execute_result"
    },
    {
     "name": "stderr",
     "output_type": "stream",
     "text": [
      "2025-03-01 10:57:39,915 - distributed.scheduler - ERROR - Couldn't gather keys: {('store-map-937886fe56751b585e21986b76d745a8', 15, 0, 0): 'waiting', ('store-map-937886fe56751b585e21986b76d745a8', 18, 0, 0): 'waiting', ('store-map-937886fe56751b585e21986b76d745a8', 1, 0, 0): 'waiting', ('store-map-937886fe56751b585e21986b76d745a8', 10, 0, 0): 'waiting'}\n"
     ]
    }
   ],
   "source": [
    "############\n",
    "### Dask ###\n",
    "############\n",
    "from dask_jobqueue import SLURMCluster\n",
    "\n",
    "cluster = SLURMCluster(\n",
    "    # account=\"pches\",\n",
    "    account=\"open\",\n",
    "    cores=1,\n",
    "    memory=\"10GiB\",\n",
    "    walltime=\"6:00:00\"\n",
    ")\n",
    "\n",
    "cluster.scale(jobs=20)  # ask for jobs\n",
    "\n",
    "from dask.distributed import Client\n",
    "\n",
    "client = Client(cluster)\n",
    "\n",
    "client"
   ]
  },
  {
   "cell_type": "markdown",
   "id": "4d589149-34f5-4733-91bc-43581cc52b88",
   "metadata": {
    "tags": []
   },
   "source": [
    "# Calculate metrics"
   ]
  },
  {
   "cell_type": "code",
   "execution_count": 6,
   "id": "53668a26-60e8-4c2e-a0c8-52546707ff0f",
   "metadata": {},
   "outputs": [],
   "source": [
    "## File path function\n",
    "def make_loca_file_path(loca_path, gcm, member, ssp, var):\n",
    "    \"\"\"\n",
    "    Returns list of file paths for a given downscaled LOCA output.\n",
    "    \"\"\"\n",
    "    out_path = f\"{loca_path}/{gcm}/0p0625deg/{member}/{ssp}/{var}\"\n",
    "\n",
    "    if os.path.isdir(out_path):\n",
    "         # Take latest version if possible\n",
    "        files = glob(f\"{out_path}/*_v2024*\")\n",
    "        # Check earlier version if empty\n",
    "        if len(files) == 0:\n",
    "            files = glob(f\"{out_path}/*_v2022*\")\n",
    "            \n",
    "        return files\n",
    "    else:\n",
    "        return []\n",
    "    \n",
    "## Unit conversion\n",
    "def convert_units(ds):\n",
    "    # Convert units\n",
    "    for var in ds.keys():\n",
    "        if ds[var].attrs['units'] == 'K':\n",
    "            ds[var] = ds[var] - 273.15    \n",
    "            ds[var].attrs[\"units\"] = 'C'\n",
    "        elif ds[var].attrs['units'] == 'kg m-2 s-1':\n",
    "            ds[var] = ds[var] * 86400\n",
    "            ds[var].attrs[\"units\"] = 'mm/day'\n",
    "    \n",
    "    return ds"
   ]
  },
  {
   "cell_type": "code",
   "execution_count": 7,
   "id": "08ab8e17-ee65-407d-bd8b-fe64a1ac2149",
   "metadata": {},
   "outputs": [],
   "source": [
    "###############################\n",
    "# Metric calulcation function #\n",
    "###############################\n",
    "def calculate_metric(metric_func, var_id, needed_vars, gcm, member, ssp, loca_path, out_path):\n",
    "    \"\"\"\n",
    "    Inputs: selected gcm, member, ssp, variable, and metric to calculate (from LOCA)\n",
    "    Outputs: calculated (annual) metric\n",
    "    \"\"\" \n",
    "    # Get all file paths\n",
    "    files = {}\n",
    "    for var in needed_vars:\n",
    "        files[var] = make_loca_file_path(loca_path, gcm, member, ssp, var)\n",
    "        \n",
    "    # Loop through LOCA2 time slices\n",
    "    if ssp == \"historical\":\n",
    "        time_slices = [\"1950-2014\"]\n",
    "    else:\n",
    "        time_slices = [\"2015-2044\", \"2045-2074\", \"2075-2100\"]\n",
    "        \n",
    "    for time_slice in time_slices:\n",
    "        try:\n",
    "            # Check if done\n",
    "            save_path = out_path.replace('.nc', f'_{time_slice}.nc')\n",
    "            if os.path.isfile(save_path):\n",
    "                continue\n",
    "            # Load\n",
    "            files_to_load = [xr.open_dataset(file, chunks='auto') for var in needed_vars for file in files[var] if time_slice in file]\n",
    "            ds_in = xr.merge(files_to_load, combine_attrs='drop_conflicts')\n",
    "            # Convert units\n",
    "            ds_in = convert_units(ds_in)\n",
    "            \n",
    "            # Calculate metric\n",
    "            ds_out = metric_func(ds_in, var_id)\n",
    "    \n",
    "            # Store\n",
    "            ds_out.to_netcdf(save_path)\n",
    "            \n",
    "        # Log if error\n",
    "        except Exception as e:\n",
    "            except_path = f\"{project_code_path}/scripts/logs\"\n",
    "            with open(f\"{except_path}/metric_calcs/LOCA2_{gcm}_{member}_{ssp}_{var_id}_{time_slice}.txt\", \"w\") as f:\n",
    "                f.write(str(e))"
   ]
  },
  {
   "cell_type": "code",
   "execution_count": 8,
   "id": "aa93b14a-9413-4e9a-b508-596d9f2e7701",
   "metadata": {
    "tags": []
   },
   "outputs": [
    {
     "name": "stdout",
     "output_type": "stream",
     "text": [
      "CPU times: user 409 ms, sys: 120 ms, total: 529 ms\n",
      "Wall time: 13.6 s\n"
     ]
    }
   ],
   "source": [
    "%%time\n",
    "#############\n",
    "## CDD sum ##\n",
    "#############\n",
    "var_id = \"cdd\"\n",
    "metric_func = mf.calculate_dd_sum\n",
    "needed_vars = ['tasmin', 'tasmax']\n",
    "\n",
    "out_path = lambda gcm, ssp, member: f\"{project_data_path}/metrics/LOCA2/sum_{var_id}_{gcm}_{member}_{ssp}.nc\"\n",
    "\n",
    "# Loop through gcms\n",
    "for gcm in gcms:\n",
    "    # Loop through members\n",
    "    for member in loca_all[gcm].keys():\n",
    "        # Loop through SSPs\n",
    "        for ssp in loca_all[gcm][member]:\n",
    "            # Calculate metric\n",
    "            calculate_metric(metric_func = metric_func,\n",
    "                             var_id = var_id,\n",
    "                             gcm = gcm,\n",
    "                             ssp = ssp,\n",
    "                             member=member,\n",
    "                             needed_vars = needed_vars,\n",
    "                             loca_path = loca_path,\n",
    "                             out_path = out_path(gcm, ssp, member))"
   ]
  },
  {
   "cell_type": "code",
   "execution_count": 9,
   "id": "94102ab2-1d6d-40a9-a731-6f84a3b7364b",
   "metadata": {
    "tags": []
   },
   "outputs": [
    {
     "name": "stdout",
     "output_type": "stream",
     "text": [
      "CPU times: user 200 ms, sys: 42.7 ms, total: 243 ms\n",
      "Wall time: 6.49 s\n"
     ]
    }
   ],
   "source": [
    "%%time\n",
    "#############\n",
    "## CDD max ##\n",
    "#############\n",
    "var_id = \"cdd\"\n",
    "metric_func = mf.calculate_dd_max\n",
    "needed_vars = ['tasmin', 'tasmax']\n",
    "\n",
    "out_path = lambda gcm, ssp, member: f\"{project_data_path}/metrics/LOCA2/max_{var_id}_{gcm}_{member}_{ssp}.nc\"\n",
    "\n",
    "# Loop through gcms\n",
    "for gcm in gcms:\n",
    "    # Loop through members\n",
    "    for member in loca_all[gcm].keys():\n",
    "        # Loop through SSPs\n",
    "        for ssp in loca_all[gcm][member]:\n",
    "            # Calculate metric\n",
    "            calculate_metric(metric_func = metric_func,\n",
    "                             var_id = var_id,\n",
    "                             gcm = gcm,\n",
    "                             ssp = ssp,\n",
    "                             member=member,\n",
    "                             needed_vars = needed_vars,\n",
    "                             loca_path = loca_path,\n",
    "                             out_path = out_path(gcm, ssp, member))"
   ]
  },
  {
   "cell_type": "code",
   "execution_count": 10,
   "id": "be290303-3555-40bb-9576-1c8164c4d041",
   "metadata": {},
   "outputs": [
    {
     "name": "stdout",
     "output_type": "stream",
     "text": [
      "CPU times: user 203 ms, sys: 42.5 ms, total: 246 ms\n",
      "Wall time: 6.98 s\n"
     ]
    }
   ],
   "source": [
    "%%time\n",
    "#############\n",
    "## HDD sum ##\n",
    "#############\n",
    "var_id = \"hdd\"\n",
    "metric_func = mf.calculate_dd_sum\n",
    "needed_vars = ['tasmin', 'tasmax']\n",
    "\n",
    "out_path = lambda gcm, ssp, member: f\"{project_data_path}/metrics/LOCA2/sum_{var_id}_{gcm}_{member}_{ssp}.nc\"\n",
    "\n",
    "# Parallelize over dask delayed\n",
    "delayed = []\n",
    "\n",
    "# Loop through gcms\n",
    "for gcm in gcms:\n",
    "    # Loop through members\n",
    "    for member in loca_all[gcm].keys():\n",
    "        # Loop through SSPs\n",
    "        for ssp in loca_all[gcm][member]:\n",
    "            # Calculate metric\n",
    "            calculate_metric(metric_func = metric_func,\n",
    "                             var_id = var_id,\n",
    "                             gcm = gcm,\n",
    "                             ssp = ssp,\n",
    "                             member=member,\n",
    "                             needed_vars = needed_vars,\n",
    "                             loca_path = loca_path,\n",
    "                             out_path = out_path(gcm, ssp, member))"
   ]
  },
  {
   "cell_type": "code",
   "execution_count": 11,
   "id": "4e2936f8-6af0-494a-94a5-ed501836fa49",
   "metadata": {},
   "outputs": [
    {
     "name": "stdout",
     "output_type": "stream",
     "text": [
      "CPU times: user 201 ms, sys: 55.7 ms, total: 256 ms\n",
      "Wall time: 6.85 s\n"
     ]
    }
   ],
   "source": [
    "%%time\n",
    "#############\n",
    "## HDD max ##\n",
    "#############\n",
    "var_id = \"hdd\"\n",
    "metric_func = mf.calculate_dd_max\n",
    "needed_vars = ['tasmin', 'tasmax']\n",
    "\n",
    "out_path = lambda gcm, ssp, member: f\"{project_data_path}/metrics/LOCA2/max_{var_id}_{gcm}_{member}_{ssp}.nc\"\n",
    "\n",
    "# Parallelize over dask delayed\n",
    "delayed = []\n",
    "\n",
    "# Loop through gcms\n",
    "for gcm in gcms:\n",
    "    # Loop through members\n",
    "    for member in loca_all[gcm].keys():\n",
    "        # Loop through SSPs\n",
    "        for ssp in loca_all[gcm][member]:\n",
    "            # Calculate metric\n",
    "            calculate_metric(metric_func = metric_func,\n",
    "                             var_id = var_id,\n",
    "                             gcm = gcm,\n",
    "                             ssp = ssp,\n",
    "                             member=member,\n",
    "                             needed_vars = needed_vars,\n",
    "                             loca_path = loca_path,\n",
    "                             out_path = out_path(gcm, ssp, member))"
   ]
  },
  {
   "cell_type": "code",
   "execution_count": 12,
   "id": "323103d9-bcb2-4818-b152-2c0d7b1cc643",
   "metadata": {},
   "outputs": [
    {
     "name": "stdout",
     "output_type": "stream",
     "text": [
      "CPU times: user 2.14 s, sys: 314 ms, total: 2.46 s\n",
      "Wall time: 41.8 s\n"
     ]
    }
   ],
   "source": [
    "%%time\n",
    "#########################\n",
    "## Average Temperature ##\n",
    "#########################\n",
    "var_id = \"tas\"\n",
    "metric_func = mf.calculate_avg\n",
    "needed_vars = ['tasmin', 'tasmax']\n",
    "\n",
    "out_path = lambda gcm, ssp, member: f\"{project_data_path}/metrics/LOCA2/avg_{var_id}_{gcm}_{member}_{ssp}.nc\"\n",
    "\n",
    "# Parallelize over dask delayed\n",
    "delayed = []\n",
    "\n",
    "# Loop through gcms\n",
    "for gcm in gcms:\n",
    "    # Loop through members\n",
    "    for member in loca_all[gcm].keys():\n",
    "        # Loop through SSPs\n",
    "        for ssp in loca_all[gcm][member]:\n",
    "            # Calculate metric\n",
    "            calculate_metric(metric_func = metric_func,\n",
    "                             var_id = var_id,\n",
    "                             gcm = gcm,\n",
    "                             ssp = ssp,\n",
    "                             member=member,\n",
    "                             needed_vars = needed_vars,\n",
    "                             loca_path = loca_path,\n",
    "                             out_path = out_path(gcm, ssp, member))"
   ]
  },
  {
   "cell_type": "code",
   "execution_count": 13,
   "id": "3b372ced-7e4e-4c31-8483-93bc4a8b206c",
   "metadata": {},
   "outputs": [
    {
     "name": "stdout",
     "output_type": "stream",
     "text": [
      "CPU times: user 139 ms, sys: 38.1 ms, total: 177 ms\n",
      "Wall time: 4.83 s\n"
     ]
    }
   ],
   "source": [
    "%%time\n",
    "#########################\n",
    "## Maximum Temperature ##\n",
    "#########################\n",
    "var_id = \"tasmax\"\n",
    "metric_func = mf.calculate_max\n",
    "needed_vars = ['tasmax']\n",
    "\n",
    "out_path = lambda gcm, ssp, member: f\"{project_data_path}/metrics/LOCA2/max_{var_id}_{gcm}_{member}_{ssp}.nc\"\n",
    "\n",
    "# Parallelize over dask delayed\n",
    "delayed = []\n",
    "\n",
    "# Loop through gcms\n",
    "for gcm in gcms:\n",
    "    # Loop through members\n",
    "    for member in loca_all[gcm].keys():\n",
    "        # Loop through SSPs\n",
    "        for ssp in loca_all[gcm][member]:\n",
    "            # Calculate metric\n",
    "            calculate_metric(metric_func = metric_func,\n",
    "                             var_id = var_id,\n",
    "                             gcm = gcm,\n",
    "                             ssp = ssp,\n",
    "                             member=member,\n",
    "                             needed_vars = needed_vars,\n",
    "                             loca_path = loca_path,\n",
    "                             out_path = out_path(gcm, ssp, member))"
   ]
  },
  {
   "cell_type": "code",
   "execution_count": 14,
   "id": "109bf0a4-8f05-4cfd-b7ab-c900cbd78de1",
   "metadata": {
    "tags": []
   },
   "outputs": [
    {
     "name": "stdout",
     "output_type": "stream",
     "text": [
      "CPU times: user 128 ms, sys: 42.2 ms, total: 171 ms\n",
      "Wall time: 5.32 s\n"
     ]
    }
   ],
   "source": [
    "%%time\n",
    "#########################\n",
    "## Minimum Temperature ##\n",
    "#########################\n",
    "var_id = \"tasmin\"\n",
    "metric_func = mf.calculate_min\n",
    "needed_vars = ['tasmin']\n",
    "\n",
    "out_path = lambda gcm, ssp, member: f\"{project_data_path}/metrics/LOCA2/min_{var_id}_{gcm}_{member}_{ssp}.nc\"\n",
    "\n",
    "# Parallelize over dask delayed\n",
    "delayed = []\n",
    "\n",
    "# Loop through gcms\n",
    "for gcm in gcms:\n",
    "    # Loop through members\n",
    "    for member in loca_all[gcm].keys():\n",
    "        # Loop through SSPs\n",
    "        for ssp in loca_all[gcm][member]:\n",
    "            # Calculate metric\n",
    "            calculate_metric(metric_func = metric_func,\n",
    "                             var_id = var_id,\n",
    "                             gcm = gcm,\n",
    "                             ssp = ssp,\n",
    "                             member=member,\n",
    "                             needed_vars = needed_vars,\n",
    "                             loca_path = loca_path,\n",
    "                             out_path = out_path(gcm, ssp, member))"
   ]
  },
  {
   "cell_type": "code",
   "execution_count": 15,
   "id": "f3d58eea-bcc4-4dba-847d-fb7d30085237",
   "metadata": {
    "tags": []
   },
   "outputs": [
    {
     "name": "stdout",
     "output_type": "stream",
     "text": [
      "CPU times: user 166 ms, sys: 46.5 ms, total: 213 ms\n",
      "Wall time: 6.85 s\n"
     ]
    }
   ],
   "source": [
    "%%time\n",
    "#########################\n",
    "## Maximum Precip ##\n",
    "#########################\n",
    "var_id = \"pr\"\n",
    "metric_func = mf.calculate_max\n",
    "needed_vars = ['pr']\n",
    "\n",
    "out_path = lambda gcm, ssp, member: f\"{project_data_path}/metrics/LOCA2/max_{var_id}_{gcm}_{member}_{ssp}.nc\"\n",
    "\n",
    "# Parallelize over dask delayed\n",
    "delayed = []\n",
    "\n",
    "# Loop through gcms\n",
    "for gcm in gcms:\n",
    "    # Loop through members\n",
    "    for member in loca_all[gcm].keys():\n",
    "        # Loop through SSPs\n",
    "        for ssp in loca_all[gcm][member]:\n",
    "            # Calculate metric\n",
    "            calculate_metric(metric_func = metric_func,\n",
    "                             var_id = var_id,\n",
    "                             gcm = gcm,\n",
    "                             ssp = ssp,\n",
    "                             member=member,\n",
    "                             needed_vars = needed_vars,\n",
    "                             loca_path = loca_path,\n",
    "                             out_path = out_path(gcm, ssp, member))"
   ]
  },
  {
   "cell_type": "code",
   "execution_count": 16,
   "id": "b42e89a5-8366-41ef-a8fa-4490c7fa3d80",
   "metadata": {
    "tags": []
   },
   "outputs": [
    {
     "name": "stdout",
     "output_type": "stream",
     "text": [
      "CPU times: user 11min 29s, sys: 30.3 s, total: 11min 59s\n",
      "Wall time: 1h 38min 37s\n"
     ]
    }
   ],
   "source": [
    "%%time\n",
    "################\n",
    "## Sum Precip ##\n",
    "################\n",
    "var_id = \"pr\"\n",
    "metric_func = mf.calculate_sum\n",
    "needed_vars = ['pr']\n",
    "\n",
    "out_path = lambda gcm, ssp, member: f\"{project_data_path}/metrics/LOCA2/sum_{var_id}_{gcm}_{member}_{ssp}.nc\"\n",
    "\n",
    "# Parallelize over dask delayed\n",
    "delayed = []\n",
    "\n",
    "# Loop through gcms\n",
    "for gcm in gcms:\n",
    "    # Loop through members\n",
    "    for member in loca_all[gcm].keys():\n",
    "        # Loop through SSPs\n",
    "        for ssp in loca_all[gcm][member]:\n",
    "            # Calculate metric\n",
    "            calculate_metric(metric_func = metric_func,\n",
    "                             var_id = var_id,\n",
    "                             gcm = gcm,\n",
    "                             ssp = ssp,\n",
    "                             member=member,\n",
    "                             needed_vars = needed_vars,\n",
    "                             loca_path = loca_path,\n",
    "                             out_path = out_path(gcm, ssp, member))"
   ]
  },
  {
   "cell_type": "code",
   "execution_count": 17,
   "id": "d1514ff4-91bf-4d73-b34d-760fdbe2dec0",
   "metadata": {},
   "outputs": [],
   "source": [
    "client.shutdown()"
   ]
  },
  {
   "cell_type": "markdown",
   "id": "d8c8eec1-f087-4845-bad5-d1e6b77dba17",
   "metadata": {
    "jp-MarkdownHeadingCollapsed": true
   },
   "source": [
    "# OLD"
   ]
  },
  {
   "cell_type": "code",
   "execution_count": 9,
   "id": "a36193b8-c6cf-4982-b714-fd27026632d1",
   "metadata": {
    "tags": []
   },
   "outputs": [],
   "source": [
    "# # Calculates summary indices for CIL-GDPCIR ensemble for given SSP\n",
    "# def get_raw_data(metric_id, ssp, years, lat, lon, out_path, out_str):\n",
    "#     \"\"\"\n",
    "#     \"\"\"\n",
    "#     def read_and_process(metric, gcm, member, ssp, years, lat, lon):\n",
    "#         # Read\n",
    "#         files = glob(f\"{project_data_path}/metrics/LOCA2/{metric_id}_{gcm}_{member}_{ssp}_*.nc\")\n",
    "#         ds_tmp = xr.concat([xr.open_dataset(file) for file in files], dim='time')\n",
    "#         ds_tmp['time'] = ds_tmp[\"time\"].dt.year\n",
    "\n",
    "#         # Time slice\n",
    "#         if years is not None:\n",
    "#             ds_sel = ds_tmp.sel(time=slice(years[0],years[1]))\n",
    "#         else:\n",
    "#             ds_sel = ds_tmp.copy()\n",
    "    \n",
    "#         # Location selection\n",
    "#         if lon < 0:\n",
    "#             lon = 360 + lon\n",
    "#         ds_sel = ds_sel.sel(lat=lat, lon=lon, method='nearest')\n",
    "        \n",
    "#         # Construct dataframe\n",
    "#         df_tmp = ds_sel.to_dataframe().dropna().drop(columns=[\"lat\", \"lon\"]).reset_index()\n",
    "#         df_tmp[\"ssp\"] = ssp\n",
    "#         df_tmp[\"gcm\"] = gcm\n",
    "#         df_tmp[\"member\"] = member\n",
    "\n",
    "#         # Return \n",
    "#         return df_tmp\n",
    "\n",
    "#     # Check if done\n",
    "#     if not os.path.isfile(f\"{out_path}/{out_str}.csv\"):\n",
    "#         df_delayed = []\n",
    "#         # Loop through gcms\n",
    "#         for gcm in gcms:\n",
    "#             # Loop through members\n",
    "#             for member in loca_all[gcm].keys():\n",
    "#                 # Some missing combinations as reported above\n",
    "#                 check = glob(f\"{project_data_path}/metrics/LOCA2/{metric_id}_{gcm}_{member}_{ssp}_*.nc\")\n",
    "#                 if len(check) > 0:\n",
    "#                     df_tmp = dask.delayed(read_and_process)(metric_id, gcm, member, ssp, years, lat, lon)\n",
    "#                     df_delayed.append(df_tmp)\n",
    "        \n",
    "#         # Compute and store\n",
    "#         df_out = dask.compute(*df_delayed)\n",
    "#         pd.concat(df_out).to_csv(f\"{out_path}/{out_str}.csv\", index=False)"
   ]
  },
  {
   "cell_type": "code",
   "execution_count": 11,
   "id": "c3b3deea-fe60-4085-9109-38193861fc6b",
   "metadata": {
    "tags": []
   },
   "outputs": [
    {
     "name": "stdout",
     "output_type": "stream",
     "text": [
      "CPU times: user 2min 40s, sys: 21.7 s, total: 3min 1s\n",
      "Wall time: 9min 24s\n"
     ]
    }
   ],
   "source": [
    "# %%time\n",
    "# # Compute and store timeseries\n",
    "# ssps = ['historical', 'ssp245', 'ssp370', 'ssp585']\n",
    "\n",
    "# # Loop through cities\n",
    "# for city in city_list:\n",
    "#     lat, lon = city_list[city]\n",
    "#     # Loop through SSPs\n",
    "#     for ssp in ssps:\n",
    "#         # Loop through metrics\n",
    "#         for metric_id in metric_ids:\n",
    "#             # Compute\n",
    "#             get_raw_data(metric_id = metric_id,\n",
    "#                          ssp = ssp,\n",
    "#                          years = None,\n",
    "#                          lat = lat,\n",
    "#                          lon = lon,\n",
    "#                          out_path=f\"{project_data_path}/timeseries/original_grids/\",\n",
    "#                          out_str=f\"{metric_id}_LOCA2_{ssp}_{city}\")"
   ]
  },
  {
   "cell_type": "code",
   "execution_count": null,
   "id": "933f4975-5c26-4d3d-bb62-88812be5eb3d",
   "metadata": {},
   "outputs": [],
   "source": []
  }
 ],
 "metadata": {
  "kernelspec": {
   "display_name": "Python 3 (ipykernel)",
   "language": "python",
   "name": "python3"
  },
  "language_info": {
   "codemirror_mode": {
    "name": "ipython",
    "version": 3
   },
   "file_extension": ".py",
   "mimetype": "text/x-python",
   "name": "python",
   "nbconvert_exporter": "python",
   "pygments_lexer": "ipython3",
   "version": "3.12.7"
  }
 },
 "nbformat": 4,
 "nbformat_minor": 5
}
