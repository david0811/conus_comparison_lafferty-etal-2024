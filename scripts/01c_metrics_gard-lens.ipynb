{
 "cells": [
  {
   "cell_type": "code",
   "execution_count": 1,
   "id": "fa575179-9fdc-4c81-939c-0ba9c373f63e",
   "metadata": {},
   "outputs": [],
   "source": [
    "import os\n",
    "from glob import glob\n",
    "\n",
    "import dask\n",
    "import numpy as np\n",
    "import pandas as pd\n",
    "import xarray as xr\n",
    "\n",
    "import metric_funcs as mf"
   ]
  },
  {
   "cell_type": "markdown",
   "id": "4d589149-34f5-4733-91bc-43581cc52b88",
   "metadata": {},
   "source": [
    "## Calculate metrics "
   ]
  },
  {
   "cell_type": "markdown",
   "id": "f1e4e0c4-2675-4f0a-8208-c1b1e80fc9d5",
   "metadata": {},
   "source": [
    "### Preliminaries"
   ]
  },
  {
   "cell_type": "code",
   "execution_count": 2,
   "id": "771cf861-108d-464d-9330-56aa2e734125",
   "metadata": {},
   "outputs": [],
   "source": [
    "################\n",
    "#### Paths #####\n",
    "################\n",
    "# NOTE: this is run on a different system from other datasets\n",
    "# Update these for reproduction\n",
    "from utils import hopper_code_path as project_code_path\n",
    "from utils import hopper_data_path as project_data_path\n",
    "\n",
    "gard_path = \"/home/shared/vs498_0001/GARD-LENS\" # GARD-LENS raw\n",
    "gard_gcms = ['canesm5', 'cesm2', 'ecearth3']"
   ]
  },
  {
   "cell_type": "code",
   "execution_count": 3,
   "id": "a6e8f297-8882-4e89-a857-ea0b80bff67c",
   "metadata": {},
   "outputs": [],
   "source": [
    "# Check all same\n",
    "gardlens_info = {}\n",
    "\n",
    "for gcm in gard_gcms: \n",
    "    t_mean_files = glob(f\"{gard_path}/t_mean/GARDLENS_{gcm}_*.nc\")\n",
    "    t_range_files = glob(f\"{gard_path}/t_range/GARDLENS_{gcm}_*.nc\")\n",
    "    pcp_files = glob(f\"{gard_path}/pcp/GARDLENS_{gcm}_*.nc\")\n",
    "    assert len(t_mean_files) == len(t_range_files)\n",
    "    assert len(t_mean_files) == len(pcp_files)"
   ]
  },
  {
   "cell_type": "code",
   "execution_count": 4,
   "id": "9e41746c-cb5a-4525-a476-916478224739",
   "metadata": {},
   "outputs": [],
   "source": [
    "# Get all model members\n",
    "models_members = glob(f\"{gard_path}/t_mean/GARDLENS_*.nc\")\n",
    "models_members = [file.split('GARDLENS')[1].split('t_')[0][1:-1] for file in models_members]"
   ]
  },
  {
   "cell_type": "code",
   "execution_count": 5,
   "id": "86fb2b63-5356-449f-aef2-8f471e4dc014",
   "metadata": {},
   "outputs": [],
   "source": [
    "###############################\n",
    "# Metric calulcation function #\n",
    "###############################\n",
    "def calculate_metric(metric_func, var_id, model_member, needed_vars, gard_path, out_path):\n",
    "    \"\"\"\n",
    "    Inputs: selected model, member, variable, and metric to calculate (from GARD-LENS)\n",
    "    Outputs: calculated (annual) metric\n",
    "    \"\"\"\n",
    "    try:\n",
    "        # Check if done\n",
    "        if os.path.isfile(out_path):\n",
    "            # print(f\"{model_member} already done.\")\n",
    "            return None\n",
    "\n",
    "        # Read\n",
    "        if model_member.split('_')[0] == 'ecearth3':\n",
    "            time_range = '1970_2100'\n",
    "        else:\n",
    "            time_range = '1950_2100'\n",
    "            \n",
    "        # Read\n",
    "        ds_tmp = xr.merge([xr.open_dataset(f\"{gard_path}/{var}/GARDLENS_{model_member}_{var}_{time_range}_CONUS.nc\", chunks='auto') for var in needed_vars])\n",
    "    \n",
    "        # Calculate metric\n",
    "        ds_out = metric_func(ds_tmp, var_id)\n",
    "    \n",
    "        # Store\n",
    "        ds_out.to_netcdf(out_path)\n",
    "        print(f\"{model_member}\")\n",
    "            \n",
    "    # Log if error\n",
    "    except Exception as e:\n",
    "        except_path = f\"{project_code_path}/scripts/logs\"\n",
    "        with open(f\"{except_path}/{model_member}_{var_id}_GARDLENS.txt\", \"w\") as f:\n",
    "            f.write(str(e))"
   ]
  },
  {
   "cell_type": "code",
   "execution_count": null,
   "id": "47ac2871-6b51-4eec-9d8f-8b2dcb7dd863",
   "metadata": {},
   "outputs": [],
   "source": [
    "############\n",
    "### Dask ###\n",
    "############\n",
    "from dask.distributed import LocalCluster\n",
    "cluster = LocalCluster(n_workers = 20)\n",
    "client = cluster.get_client()\n",
    "client"
   ]
  },
  {
   "cell_type": "markdown",
   "id": "eda48be9-75ee-4bf6-acd8-43262b695532",
   "metadata": {},
   "source": [
    "### Calculations"
   ]
  },
  {
   "cell_type": "code",
   "execution_count": 7,
   "id": "032177ae-6816-45b1-8f35-270b65bc5400",
   "metadata": {},
   "outputs": [
    {
     "name": "stdout",
     "output_type": "stream",
     "text": [
      "CPU times: user 2.83 ms, sys: 2.15 ms, total: 4.98 ms\n",
      "Wall time: 14.8 ms\n"
     ]
    }
   ],
   "source": [
    "%%time\n",
    "##############################\n",
    "# Average temperature\n",
    "##############################\n",
    "var_id = 'tas'\n",
    "metric_func = mf.calculate_avg\n",
    "needed_vars = ['t_mean']\n",
    "\n",
    "out_path = lambda model_member: f'{project_data_path}/metrics/GARD-LENS/avg_{var_id}_{model_member}_ssp370.nc'\n",
    "\n",
    "for model_member in models_members:\n",
    "    # Calculate metric\n",
    "    calculate_metric(metric_func = metric_func,\n",
    "                     var_id = var_id,\n",
    "                     model_member = model_member,\n",
    "                     needed_vars = needed_vars,\n",
    "                     gard_path = gard_path,\n",
    "                     out_path = out_path(model_member))"
   ]
  },
  {
   "cell_type": "code",
   "execution_count": 8,
   "id": "32f00675-1ff3-4d7f-be1d-4c508efc6a24",
   "metadata": {},
   "outputs": [
    {
     "name": "stdout",
     "output_type": "stream",
     "text": [
      "cesm2_1251_14\n",
      "canesm5_r20i1p2f1\n",
      "ecearth3_r113i1p1f1\n",
      "ecearth3_r150i1p1f1\n",
      "CPU times: user 43.3 s, sys: 14.9 s, total: 58.2 s\n",
      "Wall time: 14min 53s\n"
     ]
    }
   ],
   "source": [
    "%%time\n",
    "##############################\n",
    "# Maximum temperature: avg\n",
    "##############################\n",
    "var_id = 'tasmax'\n",
    "metric_func = mf.calculate_avg\n",
    "needed_vars = ['t_mean', 't_range']\n",
    "\n",
    "out_path = lambda model_member: f'{project_data_path}/metrics/GARD-LENS/avg_{var_id}_{model_member}_ssp370.nc'\n",
    "\n",
    "for model_member in models_members:\n",
    "    # Calculate metric\n",
    "    calculate_metric(metric_func = metric_func,\n",
    "                     var_id = var_id,\n",
    "                     model_member = model_member,\n",
    "                     needed_vars = needed_vars,\n",
    "                     gard_path = gard_path,\n",
    "                     out_path = out_path(model_member))"
   ]
  },
  {
   "cell_type": "code",
   "execution_count": 9,
   "id": "b50815b3-e496-4778-a529-516aced60cc4",
   "metadata": {},
   "outputs": [
    {
     "name": "stdout",
     "output_type": "stream",
     "text": [
      "CPU times: user 9.36 ms, sys: 4.44 ms, total: 13.8 ms\n",
      "Wall time: 45.4 ms\n"
     ]
    }
   ],
   "source": [
    "%%time\n",
    "##############################\n",
    "# Maximum temperature: max\n",
    "##############################\n",
    "var_id = 'tasmax'\n",
    "metric_func = mf.calculate_max\n",
    "needed_vars = ['t_mean', 't_range']\n",
    "\n",
    "out_path = lambda model_member: f'{project_data_path}/metrics/GARD-LENS/max_{var_id}_{model_member}_ssp370.nc'\n",
    "\n",
    "for model_member in models_members:\n",
    "    # Calculate metric\n",
    "    calculate_metric(metric_func = metric_func,\n",
    "                     var_id = var_id,\n",
    "                     model_member = model_member,\n",
    "                     needed_vars = needed_vars,\n",
    "                     gard_path = gard_path,\n",
    "                     out_path = out_path(model_member))"
   ]
  },
  {
   "cell_type": "code",
   "execution_count": 10,
   "id": "891df1c7-80f7-4b39-b275-1e0050e0cfae",
   "metadata": {},
   "outputs": [
    {
     "name": "stdout",
     "output_type": "stream",
     "text": [
      "canesm5_r15i1p1f1\n",
      "ecearth3_r126i1p1f1\n"
     ]
    },
    {
     "name": "stderr",
     "output_type": "stream",
     "text": [
      "Type = File(72057594037928008) name='/'2025-03-24 12:11:54,555 - distributed.client - WARNING - Couldn't gather 1 keys, rescheduling (('store-map-b1a5964f07353fc00840118eb5d2aa43', 0, 0, 1),)\n"
     ]
    },
    {
     "name": "stdout",
     "output_type": "stream",
     "text": [
      "canesm5_r16i1p1f1\n",
      "canesm5_r3i1p1f1\n",
      "ecearth3_r117i1p1f1\n",
      "cesm2_1281_13\n",
      "CPU times: user 1min 13s, sys: 24.6 s, total: 1min 38s\n",
      "Wall time: 24min 15s\n"
     ]
    }
   ],
   "source": [
    "%%time\n",
    "##############################\n",
    "# Minimum temperature: avg\n",
    "##############################\n",
    "var_id = 'tasmin'\n",
    "metric_func = mf.calculate_avg\n",
    "needed_vars = ['t_mean', 't_range']\n",
    "\n",
    "out_path = lambda model_member: f'{project_data_path}/metrics/GARD-LENS/avg_{var_id}_{model_member}_ssp370.nc'\n",
    "\n",
    "for model_member in models_members:\n",
    "    # Calculate metric\n",
    "    calculate_metric(metric_func = metric_func,\n",
    "                     var_id = var_id,\n",
    "                     model_member = model_member,\n",
    "                     needed_vars = needed_vars,\n",
    "                     gard_path = gard_path,\n",
    "                     out_path = out_path(model_member))"
   ]
  },
  {
   "cell_type": "code",
   "execution_count": 11,
   "id": "9ec09b99-46a8-4766-877b-8f05240c2a89",
   "metadata": {},
   "outputs": [
    {
     "name": "stdout",
     "output_type": "stream",
     "text": [
      "CPU times: user 25 ms, sys: 5.31 ms, total: 30.3 ms\n",
      "Wall time: 120 ms\n"
     ]
    }
   ],
   "source": [
    "%%time\n",
    "##############################\n",
    "# Minimum temperature: min\n",
    "##############################\n",
    "var_id = 'tasmin'\n",
    "metric_func = mf.calculate_min\n",
    "needed_vars = ['t_mean', 't_range']\n",
    "\n",
    "out_path = lambda model_member: f'{project_data_path}/metrics/GARD-LENS/min_{var_id}_{model_member}_ssp370.nc'\n",
    "\n",
    "for model_member in models_members:\n",
    "    # Calculate metric\n",
    "    calculate_metric(metric_func = metric_func,\n",
    "                     var_id = var_id,\n",
    "                     model_member = model_member,\n",
    "                     needed_vars = needed_vars,\n",
    "                     gard_path = gard_path,\n",
    "                     out_path = out_path(model_member))"
   ]
  },
  {
   "cell_type": "code",
   "execution_count": 12,
   "id": "9f3587d7-f5c6-4ed3-b387-97b80d7d5e54",
   "metadata": {},
   "outputs": [
    {
     "name": "stdout",
     "output_type": "stream",
     "text": [
      "CPU times: user 5.53 ms, sys: 3.48 ms, total: 9 ms\n",
      "Wall time: 48.3 ms\n"
     ]
    }
   ],
   "source": [
    "%%time\n",
    "#################\n",
    "# Maximum precip\n",
    "#################\n",
    "var_id = 'pr'\n",
    "metric_func = mf.calculate_max\n",
    "needed_vars = ['pcp']\n",
    "\n",
    "out_path = lambda model_member: f'{project_data_path}/metrics/GARD-LENS/max_{var_id}_{model_member}_ssp370.nc'\n",
    "\n",
    "for model_member in models_members:\n",
    "    # Calculate metric\n",
    "    calculate_metric(metric_func = metric_func,\n",
    "                     var_id = var_id,\n",
    "                     model_member = model_member,\n",
    "                     needed_vars = needed_vars,\n",
    "                     gard_path = gard_path,\n",
    "                     out_path = out_path(model_member))"
   ]
  },
  {
   "cell_type": "code",
   "execution_count": 13,
   "id": "531ecd91-ebb4-474c-807f-165080177b57",
   "metadata": {},
   "outputs": [
    {
     "name": "stdout",
     "output_type": "stream",
     "text": [
      "CPU times: user 5.28 ms, sys: 2.78 ms, total: 8.06 ms\n",
      "Wall time: 56.4 ms\n"
     ]
    }
   ],
   "source": [
    "%%time\n",
    "#################\n",
    "# Sum precip\n",
    "#################\n",
    "var_id = 'pr'\n",
    "metric_func = mf.calculate_sum\n",
    "needed_vars = ['pcp']\n",
    "\n",
    "out_path = lambda model_member: f'{project_data_path}/metrics/GARD-LENS/sum_{var_id}_{model_member}_ssp370.nc'\n",
    "\n",
    "for model_member in models_members:\n",
    "    # Calculate metric\n",
    "    calculate_metric(metric_func = metric_func,\n",
    "                     var_id = var_id,\n",
    "                     model_member = model_member,\n",
    "                     needed_vars = needed_vars,\n",
    "                     gard_path = gard_path,\n",
    "                     out_path = out_path(model_member))"
   ]
  },
  {
   "cell_type": "code",
   "execution_count": 14,
   "id": "b26d711b-2945-43c8-a8fd-32bf225a450c",
   "metadata": {},
   "outputs": [
    {
     "name": "stdout",
     "output_type": "stream",
     "text": [
      "CPU times: user 1.11 ms, sys: 3.56 ms, total: 4.66 ms\n",
      "Wall time: 15.9 ms\n"
     ]
    }
   ],
   "source": [
    "%%time\n",
    "##############################\n",
    "# Cooling degree days: max\n",
    "##############################\n",
    "var_id = 'cdd'\n",
    "metric_func = mf.calculate_dd_max\n",
    "needed_vars = ['t_mean', 't_range']\n",
    "\n",
    "out_path = lambda model_member: f'{project_data_path}/metrics/GARD-LENS/max_{var_id}_{model_member}_ssp370.nc'\n",
    "\n",
    "for model_member in models_members:\n",
    "    # Calculate metric\n",
    "    calculate_metric(metric_func = metric_func,\n",
    "                     var_id = var_id,\n",
    "                     model_member = model_member,\n",
    "                     needed_vars = needed_vars,\n",
    "                     gard_path = gard_path,\n",
    "                     out_path = out_path(model_member))"
   ]
  },
  {
   "cell_type": "code",
   "execution_count": 15,
   "id": "7eed3f0c-fbd6-4337-a8eb-0be55e665402",
   "metadata": {},
   "outputs": [
    {
     "name": "stdout",
     "output_type": "stream",
     "text": [
      "CPU times: user 15.3 ms, sys: 7.28 ms, total: 22.6 ms\n",
      "Wall time: 110 ms\n"
     ]
    }
   ],
   "source": [
    "%%time\n",
    "##############################\n",
    "# Cooling degree days: sum\n",
    "##############################\n",
    "var_id = 'cdd'\n",
    "metric_func = mf.calculate_dd_sum\n",
    "needed_vars = ['t_mean', 't_range']\n",
    "\n",
    "out_path = lambda model_member: f'{project_data_path}/metrics/GARD-LENS/sum_{var_id}_{model_member}_ssp370.nc'\n",
    "\n",
    "for model_member in models_members:\n",
    "    # Calculate metric\n",
    "    calculate_metric(metric_func = metric_func,\n",
    "                     var_id = var_id,\n",
    "                     model_member = model_member,\n",
    "                     needed_vars = needed_vars,\n",
    "                     gard_path = gard_path,\n",
    "                     out_path = out_path(model_member))"
   ]
  },
  {
   "cell_type": "code",
   "execution_count": 16,
   "id": "c9f0ba28-6cfa-4e33-a270-1ad30555f3bd",
   "metadata": {},
   "outputs": [
    {
     "name": "stdout",
     "output_type": "stream",
     "text": [
      "CPU times: user 9.95 ms, sys: 7.18 ms, total: 17.1 ms\n",
      "Wall time: 94.7 ms\n"
     ]
    }
   ],
   "source": [
    "%%time\n",
    "##############################\n",
    "# Heating degree days: max\n",
    "##############################\n",
    "var_id = 'hdd'\n",
    "metric_func = mf.calculate_dd_max\n",
    "needed_vars = ['t_mean', 't_range']\n",
    "\n",
    "out_path = lambda model_member: f'{project_data_path}/metrics/GARD-LENS/max_{var_id}_{model_member}_ssp370.nc'\n",
    "\n",
    "for model_member in models_members:\n",
    "    # Calculate metric\n",
    "    calculate_metric(metric_func = metric_func,\n",
    "                     var_id = var_id,\n",
    "                     model_member = model_member,\n",
    "                     needed_vars = needed_vars,\n",
    "                     gard_path = gard_path,\n",
    "                     out_path = out_path(model_member))"
   ]
  },
  {
   "cell_type": "code",
   "execution_count": 17,
   "id": "ccdfbc5b-c026-49a8-8128-f4b75631449a",
   "metadata": {},
   "outputs": [
    {
     "name": "stdout",
     "output_type": "stream",
     "text": [
      "CPU times: user 4.84 ms, sys: 1.27 ms, total: 6.11 ms\n",
      "Wall time: 34.5 ms\n"
     ]
    }
   ],
   "source": [
    "%%time\n",
    "##############################\n",
    "# Heating degree days: sum\n",
    "##############################\n",
    "var_id = 'hdd'\n",
    "metric_func = mf.calculate_dd_sum\n",
    "needed_vars = ['t_mean', 't_range']\n",
    "\n",
    "out_path = lambda model_member: f'{project_data_path}/metrics/GARD-LENS/sum_{var_id}_{model_member}_ssp370.nc'\n",
    "\n",
    "for model_member in models_members:\n",
    "    # Calculate metric\n",
    "    calculate_metric(metric_func = metric_func,\n",
    "                     var_id = var_id,\n",
    "                     model_member = model_member,\n",
    "                     needed_vars = needed_vars,\n",
    "                     gard_path = gard_path,\n",
    "                     out_path = out_path(model_member))"
   ]
  },
  {
   "cell_type": "code",
   "execution_count": null,
   "id": "e40c89fb-a957-419e-94ad-a0d3abc016a2",
   "metadata": {},
   "outputs": [],
   "source": []
  },
  {
   "cell_type": "code",
   "execution_count": null,
   "id": "5a304ddc-227b-41f3-a941-3ae158cbdeb9",
   "metadata": {},
   "outputs": [],
   "source": []
  }
 ],
 "metadata": {
  "kernelspec": {
   "display_name": "Python 3 (ipykernel)",
   "language": "python",
   "name": "python3"
  },
  "language_info": {
   "codemirror_mode": {
    "name": "ipython",
    "version": 3
   },
   "file_extension": ".py",
   "mimetype": "text/x-python",
   "name": "python",
   "nbconvert_exporter": "python",
   "pygments_lexer": "ipython3",
   "version": "3.12.6"
  }
 },
 "nbformat": 4,
 "nbformat_minor": 5
}
