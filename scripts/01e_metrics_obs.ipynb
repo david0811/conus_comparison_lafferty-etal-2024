{
 "cells": [
  {
   "cell_type": "code",
   "execution_count": 1,
   "id": "b3ff4ba1-bbba-4cf2-b84b-b2ac033bff53",
   "metadata": {},
   "outputs": [
    {
     "ename": "KeyboardInterrupt",
     "evalue": "",
     "output_type": "error",
     "traceback": [
      "\u001b[0;31m---------------------------------------------------------------------------\u001b[0m",
      "\u001b[0;31mKeyboardInterrupt\u001b[0m                         Traceback (most recent call last)",
      "Cell \u001b[0;32mIn[1], line 7\u001b[0m\n\u001b[1;32m      5\u001b[0m \u001b[38;5;28;01mimport\u001b[39;00m \u001b[38;5;21;01mdask\u001b[39;00m\n\u001b[1;32m      6\u001b[0m \u001b[38;5;28;01mimport\u001b[39;00m \u001b[38;5;21;01mnumpy\u001b[39;00m \u001b[38;5;28;01mas\u001b[39;00m \u001b[38;5;21;01mnp\u001b[39;00m\n\u001b[0;32m----> 7\u001b[0m \u001b[38;5;28;01mimport\u001b[39;00m \u001b[38;5;21;01mpandas\u001b[39;00m \u001b[38;5;28;01mas\u001b[39;00m \u001b[38;5;21;01mpd\u001b[39;00m\n\u001b[1;32m      8\u001b[0m \u001b[38;5;28;01mimport\u001b[39;00m \u001b[38;5;21;01mxarray\u001b[39;00m \u001b[38;5;28;01mas\u001b[39;00m \u001b[38;5;21;01mxr\u001b[39;00m\n\u001b[1;32m     10\u001b[0m \u001b[38;5;28;01mfrom\u001b[39;00m \u001b[38;5;21;01mutils\u001b[39;00m \u001b[38;5;28;01mimport\u001b[39;00m city_list, gev_metric_ids\n",
      "File \u001b[0;32m~/projects/conus_comparison_lafferty-etal-2024/.venv/lib/python3.12/site-packages/pandas/__init__.py:49\u001b[0m\n\u001b[1;32m     46\u001b[0m \u001b[38;5;66;03m# let init-time option registration happen\u001b[39;00m\n\u001b[1;32m     47\u001b[0m \u001b[38;5;28;01mimport\u001b[39;00m \u001b[38;5;21;01mpandas\u001b[39;00m\u001b[38;5;21;01m.\u001b[39;00m\u001b[38;5;21;01mcore\u001b[39;00m\u001b[38;5;21;01m.\u001b[39;00m\u001b[38;5;21;01mconfig_init\u001b[39;00m  \u001b[38;5;66;03m# pyright: ignore[reportUnusedImport] # noqa: F401\u001b[39;00m\n\u001b[0;32m---> 49\u001b[0m \u001b[38;5;28;01mfrom\u001b[39;00m \u001b[38;5;21;01mpandas\u001b[39;00m\u001b[38;5;21;01m.\u001b[39;00m\u001b[38;5;21;01mcore\u001b[39;00m\u001b[38;5;21;01m.\u001b[39;00m\u001b[38;5;21;01mapi\u001b[39;00m \u001b[38;5;28;01mimport\u001b[39;00m (\n\u001b[1;32m     50\u001b[0m     \u001b[38;5;66;03m# dtype\u001b[39;00m\n\u001b[1;32m     51\u001b[0m     ArrowDtype,\n\u001b[1;32m     52\u001b[0m     Int8Dtype,\n\u001b[1;32m     53\u001b[0m     Int16Dtype,\n\u001b[1;32m     54\u001b[0m     Int32Dtype,\n\u001b[1;32m     55\u001b[0m     Int64Dtype,\n\u001b[1;32m     56\u001b[0m     UInt8Dtype,\n\u001b[1;32m     57\u001b[0m     UInt16Dtype,\n\u001b[1;32m     58\u001b[0m     UInt32Dtype,\n\u001b[1;32m     59\u001b[0m     UInt64Dtype,\n\u001b[1;32m     60\u001b[0m     Float32Dtype,\n\u001b[1;32m     61\u001b[0m     Float64Dtype,\n\u001b[1;32m     62\u001b[0m     CategoricalDtype,\n\u001b[1;32m     63\u001b[0m     PeriodDtype,\n\u001b[1;32m     64\u001b[0m     IntervalDtype,\n\u001b[1;32m     65\u001b[0m     DatetimeTZDtype,\n\u001b[1;32m     66\u001b[0m     StringDtype,\n\u001b[1;32m     67\u001b[0m     BooleanDtype,\n\u001b[1;32m     68\u001b[0m     \u001b[38;5;66;03m# missing\u001b[39;00m\n\u001b[1;32m     69\u001b[0m     NA,\n\u001b[1;32m     70\u001b[0m     isna,\n\u001b[1;32m     71\u001b[0m     isnull,\n\u001b[1;32m     72\u001b[0m     notna,\n\u001b[1;32m     73\u001b[0m     notnull,\n\u001b[1;32m     74\u001b[0m     \u001b[38;5;66;03m# indexes\u001b[39;00m\n\u001b[1;32m     75\u001b[0m     Index,\n\u001b[1;32m     76\u001b[0m     CategoricalIndex,\n\u001b[1;32m     77\u001b[0m     RangeIndex,\n\u001b[1;32m     78\u001b[0m     MultiIndex,\n\u001b[1;32m     79\u001b[0m     IntervalIndex,\n\u001b[1;32m     80\u001b[0m     TimedeltaIndex,\n\u001b[1;32m     81\u001b[0m     DatetimeIndex,\n\u001b[1;32m     82\u001b[0m     PeriodIndex,\n\u001b[1;32m     83\u001b[0m     IndexSlice,\n\u001b[1;32m     84\u001b[0m     \u001b[38;5;66;03m# tseries\u001b[39;00m\n\u001b[1;32m     85\u001b[0m     NaT,\n\u001b[1;32m     86\u001b[0m     Period,\n\u001b[1;32m     87\u001b[0m     period_range,\n\u001b[1;32m     88\u001b[0m     Timedelta,\n\u001b[1;32m     89\u001b[0m     timedelta_range,\n\u001b[1;32m     90\u001b[0m     Timestamp,\n\u001b[1;32m     91\u001b[0m     date_range,\n\u001b[1;32m     92\u001b[0m     bdate_range,\n\u001b[1;32m     93\u001b[0m     Interval,\n\u001b[1;32m     94\u001b[0m     interval_range,\n\u001b[1;32m     95\u001b[0m     DateOffset,\n\u001b[1;32m     96\u001b[0m     \u001b[38;5;66;03m# conversion\u001b[39;00m\n\u001b[1;32m     97\u001b[0m     to_numeric,\n\u001b[1;32m     98\u001b[0m     to_datetime,\n\u001b[1;32m     99\u001b[0m     to_timedelta,\n\u001b[1;32m    100\u001b[0m     \u001b[38;5;66;03m# misc\u001b[39;00m\n\u001b[1;32m    101\u001b[0m     Flags,\n\u001b[1;32m    102\u001b[0m     Grouper,\n\u001b[1;32m    103\u001b[0m     factorize,\n\u001b[1;32m    104\u001b[0m     unique,\n\u001b[1;32m    105\u001b[0m     value_counts,\n\u001b[1;32m    106\u001b[0m     NamedAgg,\n\u001b[1;32m    107\u001b[0m     array,\n\u001b[1;32m    108\u001b[0m     Categorical,\n\u001b[1;32m    109\u001b[0m     set_eng_float_format,\n\u001b[1;32m    110\u001b[0m     Series,\n\u001b[1;32m    111\u001b[0m     DataFrame,\n\u001b[1;32m    112\u001b[0m )\n\u001b[1;32m    114\u001b[0m \u001b[38;5;28;01mfrom\u001b[39;00m \u001b[38;5;21;01mpandas\u001b[39;00m\u001b[38;5;21;01m.\u001b[39;00m\u001b[38;5;21;01mcore\u001b[39;00m\u001b[38;5;21;01m.\u001b[39;00m\u001b[38;5;21;01mdtypes\u001b[39;00m\u001b[38;5;21;01m.\u001b[39;00m\u001b[38;5;21;01mdtypes\u001b[39;00m \u001b[38;5;28;01mimport\u001b[39;00m SparseDtype\n\u001b[1;32m    116\u001b[0m \u001b[38;5;28;01mfrom\u001b[39;00m \u001b[38;5;21;01mpandas\u001b[39;00m\u001b[38;5;21;01m.\u001b[39;00m\u001b[38;5;21;01mtseries\u001b[39;00m\u001b[38;5;21;01m.\u001b[39;00m\u001b[38;5;21;01mapi\u001b[39;00m \u001b[38;5;28;01mimport\u001b[39;00m infer_freq\n",
      "File \u001b[0;32m~/projects/conus_comparison_lafferty-etal-2024/.venv/lib/python3.12/site-packages/pandas/core/api.py:47\u001b[0m\n\u001b[1;32m     45\u001b[0m \u001b[38;5;28;01mfrom\u001b[39;00m \u001b[38;5;21;01mpandas\u001b[39;00m\u001b[38;5;21;01m.\u001b[39;00m\u001b[38;5;21;01mcore\u001b[39;00m\u001b[38;5;21;01m.\u001b[39;00m\u001b[38;5;21;01mconstruction\u001b[39;00m \u001b[38;5;28;01mimport\u001b[39;00m array\n\u001b[1;32m     46\u001b[0m \u001b[38;5;28;01mfrom\u001b[39;00m \u001b[38;5;21;01mpandas\u001b[39;00m\u001b[38;5;21;01m.\u001b[39;00m\u001b[38;5;21;01mcore\u001b[39;00m\u001b[38;5;21;01m.\u001b[39;00m\u001b[38;5;21;01mflags\u001b[39;00m \u001b[38;5;28;01mimport\u001b[39;00m Flags\n\u001b[0;32m---> 47\u001b[0m \u001b[38;5;28;01mfrom\u001b[39;00m \u001b[38;5;21;01mpandas\u001b[39;00m\u001b[38;5;21;01m.\u001b[39;00m\u001b[38;5;21;01mcore\u001b[39;00m\u001b[38;5;21;01m.\u001b[39;00m\u001b[38;5;21;01mgroupby\u001b[39;00m \u001b[38;5;28;01mimport\u001b[39;00m (\n\u001b[1;32m     48\u001b[0m     Grouper,\n\u001b[1;32m     49\u001b[0m     NamedAgg,\n\u001b[1;32m     50\u001b[0m )\n\u001b[1;32m     51\u001b[0m \u001b[38;5;28;01mfrom\u001b[39;00m \u001b[38;5;21;01mpandas\u001b[39;00m\u001b[38;5;21;01m.\u001b[39;00m\u001b[38;5;21;01mcore\u001b[39;00m\u001b[38;5;21;01m.\u001b[39;00m\u001b[38;5;21;01mindexes\u001b[39;00m\u001b[38;5;21;01m.\u001b[39;00m\u001b[38;5;21;01mapi\u001b[39;00m \u001b[38;5;28;01mimport\u001b[39;00m (\n\u001b[1;32m     52\u001b[0m     CategoricalIndex,\n\u001b[1;32m     53\u001b[0m     DatetimeIndex,\n\u001b[0;32m   (...)\u001b[0m\n\u001b[1;32m     59\u001b[0m     TimedeltaIndex,\n\u001b[1;32m     60\u001b[0m )\n\u001b[1;32m     61\u001b[0m \u001b[38;5;28;01mfrom\u001b[39;00m \u001b[38;5;21;01mpandas\u001b[39;00m\u001b[38;5;21;01m.\u001b[39;00m\u001b[38;5;21;01mcore\u001b[39;00m\u001b[38;5;21;01m.\u001b[39;00m\u001b[38;5;21;01mindexes\u001b[39;00m\u001b[38;5;21;01m.\u001b[39;00m\u001b[38;5;21;01mdatetimes\u001b[39;00m \u001b[38;5;28;01mimport\u001b[39;00m (\n\u001b[1;32m     62\u001b[0m     bdate_range,\n\u001b[1;32m     63\u001b[0m     date_range,\n\u001b[1;32m     64\u001b[0m )\n",
      "File \u001b[0;32m~/projects/conus_comparison_lafferty-etal-2024/.venv/lib/python3.12/site-packages/pandas/core/groupby/__init__.py:1\u001b[0m\n\u001b[0;32m----> 1\u001b[0m \u001b[38;5;28;01mfrom\u001b[39;00m \u001b[38;5;21;01mpandas\u001b[39;00m\u001b[38;5;21;01m.\u001b[39;00m\u001b[38;5;21;01mcore\u001b[39;00m\u001b[38;5;21;01m.\u001b[39;00m\u001b[38;5;21;01mgroupby\u001b[39;00m\u001b[38;5;21;01m.\u001b[39;00m\u001b[38;5;21;01mgeneric\u001b[39;00m \u001b[38;5;28;01mimport\u001b[39;00m (\n\u001b[1;32m      2\u001b[0m     DataFrameGroupBy,\n\u001b[1;32m      3\u001b[0m     NamedAgg,\n\u001b[1;32m      4\u001b[0m     SeriesGroupBy,\n\u001b[1;32m      5\u001b[0m )\n\u001b[1;32m      6\u001b[0m \u001b[38;5;28;01mfrom\u001b[39;00m \u001b[38;5;21;01mpandas\u001b[39;00m\u001b[38;5;21;01m.\u001b[39;00m\u001b[38;5;21;01mcore\u001b[39;00m\u001b[38;5;21;01m.\u001b[39;00m\u001b[38;5;21;01mgroupby\u001b[39;00m\u001b[38;5;21;01m.\u001b[39;00m\u001b[38;5;21;01mgroupby\u001b[39;00m \u001b[38;5;28;01mimport\u001b[39;00m GroupBy\n\u001b[1;32m      7\u001b[0m \u001b[38;5;28;01mfrom\u001b[39;00m \u001b[38;5;21;01mpandas\u001b[39;00m\u001b[38;5;21;01m.\u001b[39;00m\u001b[38;5;21;01mcore\u001b[39;00m\u001b[38;5;21;01m.\u001b[39;00m\u001b[38;5;21;01mgroupby\u001b[39;00m\u001b[38;5;21;01m.\u001b[39;00m\u001b[38;5;21;01mgrouper\u001b[39;00m \u001b[38;5;28;01mimport\u001b[39;00m Grouper\n",
      "File \u001b[0;32m~/projects/conus_comparison_lafferty-etal-2024/.venv/lib/python3.12/site-packages/pandas/core/groupby/generic.py:68\u001b[0m\n\u001b[1;32m     60\u001b[0m \u001b[38;5;28;01mfrom\u001b[39;00m \u001b[38;5;21;01mpandas\u001b[39;00m\u001b[38;5;21;01m.\u001b[39;00m\u001b[38;5;21;01mcore\u001b[39;00m\u001b[38;5;21;01m.\u001b[39;00m\u001b[38;5;21;01mapply\u001b[39;00m \u001b[38;5;28;01mimport\u001b[39;00m (\n\u001b[1;32m     61\u001b[0m     GroupByApply,\n\u001b[1;32m     62\u001b[0m     maybe_mangle_lambdas,\n\u001b[0;32m   (...)\u001b[0m\n\u001b[1;32m     65\u001b[0m     warn_alias_replacement,\n\u001b[1;32m     66\u001b[0m )\n\u001b[1;32m     67\u001b[0m \u001b[38;5;28;01mimport\u001b[39;00m \u001b[38;5;21;01mpandas\u001b[39;00m\u001b[38;5;21;01m.\u001b[39;00m\u001b[38;5;21;01mcore\u001b[39;00m\u001b[38;5;21;01m.\u001b[39;00m\u001b[38;5;21;01mcommon\u001b[39;00m \u001b[38;5;28;01mas\u001b[39;00m \u001b[38;5;21;01mcom\u001b[39;00m\n\u001b[0;32m---> 68\u001b[0m \u001b[38;5;28;01mfrom\u001b[39;00m \u001b[38;5;21;01mpandas\u001b[39;00m\u001b[38;5;21;01m.\u001b[39;00m\u001b[38;5;21;01mcore\u001b[39;00m\u001b[38;5;21;01m.\u001b[39;00m\u001b[38;5;21;01mframe\u001b[39;00m \u001b[38;5;28;01mimport\u001b[39;00m DataFrame\n\u001b[1;32m     69\u001b[0m \u001b[38;5;28;01mfrom\u001b[39;00m \u001b[38;5;21;01mpandas\u001b[39;00m\u001b[38;5;21;01m.\u001b[39;00m\u001b[38;5;21;01mcore\u001b[39;00m\u001b[38;5;21;01m.\u001b[39;00m\u001b[38;5;21;01mgroupby\u001b[39;00m \u001b[38;5;28;01mimport\u001b[39;00m (\n\u001b[1;32m     70\u001b[0m     base,\n\u001b[1;32m     71\u001b[0m     ops,\n\u001b[1;32m     72\u001b[0m )\n\u001b[1;32m     73\u001b[0m \u001b[38;5;28;01mfrom\u001b[39;00m \u001b[38;5;21;01mpandas\u001b[39;00m\u001b[38;5;21;01m.\u001b[39;00m\u001b[38;5;21;01mcore\u001b[39;00m\u001b[38;5;21;01m.\u001b[39;00m\u001b[38;5;21;01mgroupby\u001b[39;00m\u001b[38;5;21;01m.\u001b[39;00m\u001b[38;5;21;01mgroupby\u001b[39;00m \u001b[38;5;28;01mimport\u001b[39;00m (\n\u001b[1;32m     74\u001b[0m     GroupBy,\n\u001b[1;32m     75\u001b[0m     GroupByPlot,\n\u001b[0;32m   (...)\u001b[0m\n\u001b[1;32m     79\u001b[0m     _transform_template,\n\u001b[1;32m     80\u001b[0m )\n",
      "File \u001b[0;32m~/projects/conus_comparison_lafferty-etal-2024/.venv/lib/python3.12/site-packages/pandas/core/frame.py:149\u001b[0m\n\u001b[1;32m    143\u001b[0m \u001b[38;5;28;01mfrom\u001b[39;00m \u001b[38;5;21;01mpandas\u001b[39;00m\u001b[38;5;21;01m.\u001b[39;00m\u001b[38;5;21;01mcore\u001b[39;00m\u001b[38;5;21;01m.\u001b[39;00m\u001b[38;5;21;01marrays\u001b[39;00m\u001b[38;5;21;01m.\u001b[39;00m\u001b[38;5;21;01msparse\u001b[39;00m \u001b[38;5;28;01mimport\u001b[39;00m SparseFrameAccessor\n\u001b[1;32m    144\u001b[0m \u001b[38;5;28;01mfrom\u001b[39;00m \u001b[38;5;21;01mpandas\u001b[39;00m\u001b[38;5;21;01m.\u001b[39;00m\u001b[38;5;21;01mcore\u001b[39;00m\u001b[38;5;21;01m.\u001b[39;00m\u001b[38;5;21;01mconstruction\u001b[39;00m \u001b[38;5;28;01mimport\u001b[39;00m (\n\u001b[1;32m    145\u001b[0m     ensure_wrapped_if_datetimelike,\n\u001b[1;32m    146\u001b[0m     sanitize_array,\n\u001b[1;32m    147\u001b[0m     sanitize_masked_array,\n\u001b[1;32m    148\u001b[0m )\n\u001b[0;32m--> 149\u001b[0m \u001b[38;5;28;01mfrom\u001b[39;00m \u001b[38;5;21;01mpandas\u001b[39;00m\u001b[38;5;21;01m.\u001b[39;00m\u001b[38;5;21;01mcore\u001b[39;00m\u001b[38;5;21;01m.\u001b[39;00m\u001b[38;5;21;01mgeneric\u001b[39;00m \u001b[38;5;28;01mimport\u001b[39;00m (\n\u001b[1;32m    150\u001b[0m     NDFrame,\n\u001b[1;32m    151\u001b[0m     make_doc,\n\u001b[1;32m    152\u001b[0m )\n\u001b[1;32m    153\u001b[0m \u001b[38;5;28;01mfrom\u001b[39;00m \u001b[38;5;21;01mpandas\u001b[39;00m\u001b[38;5;21;01m.\u001b[39;00m\u001b[38;5;21;01mcore\u001b[39;00m\u001b[38;5;21;01m.\u001b[39;00m\u001b[38;5;21;01mindexers\u001b[39;00m \u001b[38;5;28;01mimport\u001b[39;00m check_key_length\n\u001b[1;32m    154\u001b[0m \u001b[38;5;28;01mfrom\u001b[39;00m \u001b[38;5;21;01mpandas\u001b[39;00m\u001b[38;5;21;01m.\u001b[39;00m\u001b[38;5;21;01mcore\u001b[39;00m\u001b[38;5;21;01m.\u001b[39;00m\u001b[38;5;21;01mindexes\u001b[39;00m\u001b[38;5;21;01m.\u001b[39;00m\u001b[38;5;21;01mapi\u001b[39;00m \u001b[38;5;28;01mimport\u001b[39;00m (\n\u001b[1;32m    155\u001b[0m     DatetimeIndex,\n\u001b[1;32m    156\u001b[0m     Index,\n\u001b[0;32m   (...)\u001b[0m\n\u001b[1;32m    160\u001b[0m     ensure_index_from_sequences,\n\u001b[1;32m    161\u001b[0m )\n",
      "File \u001b[0;32m~/projects/conus_comparison_lafferty-etal-2024/.venv/lib/python3.12/site-packages/pandas/core/generic.py:175\u001b[0m\n\u001b[1;32m    165\u001b[0m \u001b[38;5;28;01mfrom\u001b[39;00m \u001b[38;5;21;01mpandas\u001b[39;00m\u001b[38;5;21;01m.\u001b[39;00m\u001b[38;5;21;01mcore\u001b[39;00m\u001b[38;5;21;01m.\u001b[39;00m\u001b[38;5;21;01mflags\u001b[39;00m \u001b[38;5;28;01mimport\u001b[39;00m Flags\n\u001b[1;32m    166\u001b[0m \u001b[38;5;28;01mfrom\u001b[39;00m \u001b[38;5;21;01mpandas\u001b[39;00m\u001b[38;5;21;01m.\u001b[39;00m\u001b[38;5;21;01mcore\u001b[39;00m\u001b[38;5;21;01m.\u001b[39;00m\u001b[38;5;21;01mindexes\u001b[39;00m\u001b[38;5;21;01m.\u001b[39;00m\u001b[38;5;21;01mapi\u001b[39;00m \u001b[38;5;28;01mimport\u001b[39;00m (\n\u001b[1;32m    167\u001b[0m     DatetimeIndex,\n\u001b[1;32m    168\u001b[0m     Index,\n\u001b[0;32m   (...)\u001b[0m\n\u001b[1;32m    173\u001b[0m     ensure_index,\n\u001b[1;32m    174\u001b[0m )\n\u001b[0;32m--> 175\u001b[0m \u001b[38;5;28;01mfrom\u001b[39;00m \u001b[38;5;21;01mpandas\u001b[39;00m\u001b[38;5;21;01m.\u001b[39;00m\u001b[38;5;21;01mcore\u001b[39;00m\u001b[38;5;21;01m.\u001b[39;00m\u001b[38;5;21;01minternals\u001b[39;00m \u001b[38;5;28;01mimport\u001b[39;00m (\n\u001b[1;32m    176\u001b[0m     ArrayManager,\n\u001b[1;32m    177\u001b[0m     BlockManager,\n\u001b[1;32m    178\u001b[0m     SingleArrayManager,\n\u001b[1;32m    179\u001b[0m )\n\u001b[1;32m    180\u001b[0m \u001b[38;5;28;01mfrom\u001b[39;00m \u001b[38;5;21;01mpandas\u001b[39;00m\u001b[38;5;21;01m.\u001b[39;00m\u001b[38;5;21;01mcore\u001b[39;00m\u001b[38;5;21;01m.\u001b[39;00m\u001b[38;5;21;01minternals\u001b[39;00m\u001b[38;5;21;01m.\u001b[39;00m\u001b[38;5;21;01mconstruction\u001b[39;00m \u001b[38;5;28;01mimport\u001b[39;00m (\n\u001b[1;32m    181\u001b[0m     mgr_to_mgr,\n\u001b[1;32m    182\u001b[0m     ndarray_to_mgr,\n\u001b[1;32m    183\u001b[0m )\n\u001b[1;32m    184\u001b[0m \u001b[38;5;28;01mfrom\u001b[39;00m \u001b[38;5;21;01mpandas\u001b[39;00m\u001b[38;5;21;01m.\u001b[39;00m\u001b[38;5;21;01mcore\u001b[39;00m\u001b[38;5;21;01m.\u001b[39;00m\u001b[38;5;21;01mmethods\u001b[39;00m\u001b[38;5;21;01m.\u001b[39;00m\u001b[38;5;21;01mdescribe\u001b[39;00m \u001b[38;5;28;01mimport\u001b[39;00m describe_ndframe\n",
      "File \u001b[0;32m<frozen importlib._bootstrap>:1360\u001b[0m, in \u001b[0;36m_find_and_load\u001b[0;34m(name, import_)\u001b[0m\n",
      "File \u001b[0;32m<frozen importlib._bootstrap>:1331\u001b[0m, in \u001b[0;36m_find_and_load_unlocked\u001b[0;34m(name, import_)\u001b[0m\n",
      "File \u001b[0;32m<frozen importlib._bootstrap>:935\u001b[0m, in \u001b[0;36m_load_unlocked\u001b[0;34m(spec)\u001b[0m\n",
      "File \u001b[0;32m<frozen importlib._bootstrap_external>:991\u001b[0m, in \u001b[0;36mexec_module\u001b[0;34m(self, module)\u001b[0m\n",
      "File \u001b[0;32m<frozen importlib._bootstrap_external>:1087\u001b[0m, in \u001b[0;36mget_code\u001b[0;34m(self, fullname)\u001b[0m\n",
      "File \u001b[0;32m<frozen importlib._bootstrap_external>:1187\u001b[0m, in \u001b[0;36mget_data\u001b[0;34m(self, path)\u001b[0m\n",
      "\u001b[0;31mKeyboardInterrupt\u001b[0m: "
     ]
    }
   ],
   "source": [
    "import os\n",
    "from glob import glob\n",
    "import warnings\n",
    "\n",
    "import dask\n",
    "import numpy as np\n",
    "import pandas as pd\n",
    "import xarray as xr\n",
    "\n",
    "from utils import city_list, gev_metric_ids\n",
    "import metric_funcs as mf"
   ]
  },
  {
   "cell_type": "code",
   "execution_count": 2,
   "id": "5b01c03a-10b5-4230-a763-1eb51f6e18ab",
   "metadata": {},
   "outputs": [],
   "source": [
    "# #################\n",
    "# # Dask (hopper)\n",
    "# #################\n",
    "# from dask.distributed import LocalCluster\n",
    "# cluster = LocalCluster(n_workers = 20, threads_per_worker=1, processes=True)\n",
    "# client = cluster.get_client()\n",
    "# client"
   ]
  },
  {
   "cell_type": "code",
   "execution_count": 3,
   "id": "a3b4a413-419a-45da-b50c-59e1b541ff3b",
   "metadata": {},
   "outputs": [],
   "source": [
    "# ############\n",
    "# ### Dask ###\n",
    "# ############\n",
    "# from dask_jobqueue import SLURMCluster\n",
    "\n",
    "# cluster = SLURMCluster(\n",
    "#     account=\"pches_cr_default\",\n",
    "#     queue='basic',\n",
    "#     cores=1,\n",
    "#     processes=1,\n",
    "#     memory=\"30GiB\",\n",
    "#     walltime=\"01:00:00\",\n",
    "# )\n",
    "\n",
    "# cluster.scale(jobs=10)  # ask for jobs\n",
    "\n",
    "# from dask.distributed import Client\n",
    "# client = Client(cluster)\n",
    "# client"
   ]
  },
  {
   "cell_type": "markdown",
   "id": "962707b2-03a7-45e6-91e2-5eba0364a70a",
   "metadata": {},
   "source": [
    "### GMET"
   ]
  },
  {
   "cell_type": "code",
   "execution_count": 4,
   "id": "fbe6e186-d92d-4fce-8213-c583469315ef",
   "metadata": {},
   "outputs": [],
   "source": [
    "## Paths \n",
    "# Update these for reproduction\n",
    "from utils import hopper_code_path as project_code_path\n",
    "from utils import hopper_data_path as project_data_path\n",
    "\n",
    "gmet_path = \"/home/fs01/dcl257/data/gmet\"\n",
    "\n",
    "store_path = f\"{project_data_path}/metrics/obs/gmet/\""
   ]
  },
  {
   "cell_type": "code",
   "execution_count": 5,
   "id": "16839c4a-678c-44e3-8703-fc7bba74be8c",
   "metadata": {},
   "outputs": [
    {
     "name": "stdout",
     "output_type": "stream",
     "text": [
      "CPU times: user 3h 16min 3s, sys: 1h 2min 57s, total: 4h 19min\n",
      "Wall time: 5h 36min 58s\n"
     ]
    }
   ],
   "source": [
    "%%time\n",
    "# Loop through ensemble members\n",
    "for ens_member in range(1, 101):\n",
    "    # Read\n",
    "    ens_member_str = str(ens_member).zfill(3)\n",
    "    if len(glob(f\"{store_path}/*_{ens_member_str}.nc\")) < 3:\n",
    "        files = glob(f\"{gmet_path}/conus_daily_eighth_*_{ens_member_str}.nc4\")\n",
    "        ds = xr.concat([xr.open_dataset(file) for file in files], dim='time').sortby('time')\n",
    "    \n",
    "    # max tasmax\n",
    "    out_path = f\"{store_path}/max_tasmax_gmet_{ens_member_str}.nc\"\n",
    "    if not os.path.exists(out_path):\n",
    "        ds_tasmax = mf.calculate_max(ds, 'tasmax')\n",
    "        ds_tasmax.to_netcdf(out_path)\n",
    "        del ds_tasmax\n",
    "\n",
    "    # min tasmin\n",
    "    out_path = f\"{store_path}/min_tasmin_gmet_{ens_member_str}.nc\"\n",
    "    if not os.path.exists(out_path):\n",
    "        ds_tasmin = mf.calculate_min(ds, 'tasmin')\n",
    "        ds_tasmin.to_netcdf(out_path)\n",
    "        del ds_tasmin\n",
    "\n",
    "    # max pr\n",
    "    out_path = f\"{store_path}/max_pr_gmet_{ens_member_str}.nc\"\n",
    "    if not os.path.exists(out_path):\n",
    "        ds_pr = mf.calculate_max(ds, 'pr')\n",
    "        ds_pr.to_netcdf(out_path)\n",
    "        del ds_pr\n",
    "\n",
    "    # Clean up\n",
    "    if 'ds' in locals():\n",
    "        del ds"
   ]
  },
  {
   "cell_type": "markdown",
   "id": "66b617eb-1c91-44e9-a93a-1e936de87dce",
   "metadata": {},
   "source": [
    "## Livneh-unsplit"
   ]
  },
  {
   "cell_type": "code",
   "execution_count": 11,
   "id": "a99973b0-0d9d-41af-81a7-9c5e3ccd9238",
   "metadata": {},
   "outputs": [],
   "source": [
    "## Paths \n",
    "# Update these for reproduction\n",
    "from utils import roar_code_path as project_code_path\n",
    "from utils import roar_data_path as project_data_path\n",
    "\n",
    "livneh_path = \"/storage/group/pches/default/users/dcl5300/livneh_unsplit\"\n",
    "\n",
    "store_path = f\"{project_data_path}/metrics/obs/livneh_unsplit/\""
   ]
  },
  {
   "cell_type": "code",
   "execution_count": null,
   "id": "b589cf59-91b5-4dd3-9d1a-5889a637c6fd",
   "metadata": {},
   "outputs": [],
   "source": [
    "# Read all: temperature\n",
    "with warnings.catch_warnings():\n",
    "    warnings.simplefilter(\"ignore\")\n",
    "    ds = xr.open_mfdataset(f\"{livneh_path}/temperature_wind/*.nc\")\n",
    "\n",
    "# max tasmax\n",
    "ds_tasmax = ds[['Tmax']].resample(time='YE').max().compute()\n",
    "ds_tasmax.rename({'Tmax':'tasmax'}).to_netcdf(f\"{store_path}/max_tasmax_livneh_unsplit.nc\")\n",
    "\n",
    "# min tasmin\n",
    "ds_tasmax = ds[['Tmin']].resample(time='YE').min().compute()\n",
    "ds_tasmax.rename({'Tmin':'tasmin'}).to_netcdf(f\"{store_path}/min_tasmin_livneh_unsplit.nc\")\n",
    "\n",
    "# max cdd\n",
    "ds_cdd = mf.calculate_dd_max(ds.rename({'Tmin':'tasmin', 'Tmax':'tasmax'}),\n",
    "                            var_id = 'cdd')\n",
    "ds_cdd.to_netcdf(f\"{store_path}/max_cdd_livneh_unsplit.nc\")\n",
    "\n",
    "# max hdd\n",
    "ds_hdd = mf.calculate_dd_max(ds.rename({'Tmin':'tasmin', 'Tmax':'tasmax'}),\n",
    "                             var_id = 'hdd')\n",
    "ds_hdd.to_netcdf(f\"{store_path}/max_hdd_livneh_unsplit.nc\")"
   ]
  },
  {
   "cell_type": "code",
   "execution_count": 18,
   "id": "33503ded-0bd1-4815-a65d-6cac22e563f5",
   "metadata": {},
   "outputs": [],
   "source": [
    "# Read all: precip\n",
    "with warnings.catch_warnings():\n",
    "    warnings.simplefilter(\"ignore\")\n",
    "    ds = xr.open_mfdataset(f\"{livneh_path}/precipitation/*.nc\")\n",
    "\n",
    "# max pr\n",
    "ds_pr = ds[['PRCP']].resample(Time='YE').max().compute()\n",
    "ds_pr.rename({'PRCP':'pr', 'Time':'time'}).to_netcdf(f\"{store_path}/max_pr_livneh_unsplit.nc\")"
   ]
  },
  {
   "cell_type": "markdown",
   "id": "a25b5c2f-bd8b-4000-9041-2683c6cc8c5f",
   "metadata": {},
   "source": [
    "## NClimGrid"
   ]
  },
  {
   "cell_type": "code",
   "execution_count": 3,
   "id": "d237c1d0-f089-4910-a379-58222f49d66b",
   "metadata": {},
   "outputs": [],
   "source": [
    "## Paths \n",
    "# Update these for reproduction\n",
    "from utils import roar_code_path as project_code_path\n",
    "from utils import roar_data_path as project_data_path\n",
    "\n",
    "nclimgrid_path = \"/storage/group/pches/default/users/dcl5300/nClimGrid-Daily/ncei_daily_grids\"\n",
    "nclimgrid_years = os.listdir(nclimgrid_path)\n",
    "nclimgrid_files = glob(f'{nclimgrid_path}/**/*.nc', recursive=True)\n",
    "\n",
    "store_path = f\"{project_data_path}/metrics/obs/NClimGrid/\""
   ]
  },
  {
   "cell_type": "code",
   "execution_count": 4,
   "id": "f822665e-2b5b-4575-b887-12e4da78cc21",
   "metadata": {},
   "outputs": [],
   "source": [
    "def calculate_metric(year, metric_func, var_id,\n",
    "                     nclimgrid_path = nclimgrid_path):\n",
    "    # Read year\n",
    "    files = glob(f'{nclimgrid_path}/{year}/*.nc')\n",
    "    ds = xr.concat([xr.load_dataset(file) for file in files], dim='time')\n",
    "\n",
    "    # Calculate metric\n",
    "    ds = metric_func(ds, var_id)\n",
    "\n",
    "    return ds"
   ]
  },
  {
   "cell_type": "code",
   "execution_count": 10,
   "id": "de6d90ba-a2c4-4f6e-a102-dc4cd7f5116d",
   "metadata": {},
   "outputs": [],
   "source": [
    "# max tasmax\n",
    "metric_func = mf.calculate_max\n",
    "var_id = 'tasmax'\n",
    "\n",
    "# Loop through years\n",
    "ds_out = []\n",
    "for year in nclimgrid_years:\n",
    "    ds_tmp = dask.delayed(calculate_metric)(year=year, \n",
    "                                            metric_func=metric_func,\n",
    "                                            var_id=var_id)\n",
    "    ds_out.append(ds_tmp)\n",
    "\n",
    "ds_out = xr.concat(dask.compute(*ds_out), dim='time')\n",
    "\n",
    "# Store\n",
    "ds_out.to_netcdf(f\"{store_path}/max_{var_id_out}_nclimgrid.nc\")"
   ]
  },
  {
   "cell_type": "code",
   "execution_count": 15,
   "id": "3219a629-134a-42d9-81c6-2d550519c348",
   "metadata": {},
   "outputs": [],
   "source": [
    "# min tasmin\n",
    "metric_func = mf.calculate_min\n",
    "var_id = 'tasmin'\n",
    "\n",
    "# Loop through years\n",
    "ds_out = []\n",
    "for year in nclimgrid_years:\n",
    "    ds_tmp = dask.delayed(calculate_metric)(year=year, \n",
    "                                            metric_func=metric_func,\n",
    "                                            var_id=var_id)\n",
    "    ds_out.append(ds_tmp)\n",
    "\n",
    "ds_out = xr.concat(dask.compute(*ds_out), dim='time')\n",
    "\n",
    "# Store\n",
    "ds_out.to_netcdf(f\"{store_path}/min_{var_id_out}_nclimgrid.nc\")"
   ]
  },
  {
   "cell_type": "code",
   "execution_count": 16,
   "id": "27286186-3425-46d9-a948-10bb0dd61a84",
   "metadata": {},
   "outputs": [],
   "source": [
    "# max pr\n",
    "metric_func = mf.calculate_max\n",
    "var_id = 'pr'\n",
    "\n",
    "# Loop through years\n",
    "ds_out = []\n",
    "for year in nclimgrid_years:\n",
    "    ds_tmp = dask.delayed(calculate_metric)(year=year, \n",
    "                                            metric_func=metric_func,\n",
    "                                            var_id=var_id)\n",
    "    ds_out.append(ds_tmp)\n",
    "\n",
    "ds_out = xr.concat(dask.compute(*ds_out), dim='time')\n",
    "\n",
    "# Store\n",
    "ds_out.to_netcdf(f\"{store_path}/max_{var_id_out}_nclimgrid.nc\")"
   ]
  },
  {
   "cell_type": "code",
   "execution_count": 5,
   "id": "38a08324-6a64-4cc4-b1ed-c78aa459efe7",
   "metadata": {},
   "outputs": [],
   "source": [
    "# max cdd\n",
    "metric_func = mf.calculate_dd_max\n",
    "var_id = 'cdd'\n",
    "\n",
    "# Loop through years\n",
    "ds_out = []\n",
    "for year in nclimgrid_years:\n",
    "    ds_tmp = dask.delayed(calculate_metric)(year=year, \n",
    "                                            metric_func=metric_func,\n",
    "                                            var_id=var_id)\n",
    "    ds_out.append(ds_tmp)\n",
    "\n",
    "ds_out = xr.concat(dask.compute(*ds_out), dim='time')\n",
    "\n",
    "# Store\n",
    "ds_out.to_netcdf(f\"{store_path}/max_{var_id}_nclimgrid.nc\")"
   ]
  },
  {
   "cell_type": "code",
   "execution_count": 6,
   "id": "73934f4f-807d-4f25-a0eb-e1fa8f142f46",
   "metadata": {},
   "outputs": [],
   "source": [
    "# max cdd\n",
    "metric_func = mf.calculate_dd_max\n",
    "var_id = 'hdd'\n",
    "\n",
    "# Loop through years\n",
    "ds_out = []\n",
    "for year in nclimgrid_years:\n",
    "    ds_tmp = dask.delayed(calculate_metric)(year=year, \n",
    "                                            metric_func=metric_func,\n",
    "                                            var_id=var_id)\n",
    "    ds_out.append(ds_tmp)\n",
    "\n",
    "ds_out = xr.concat(dask.compute(*ds_out), dim='time')\n",
    "\n",
    "# Store\n",
    "ds_out.to_netcdf(f\"{store_path}/max_{var_id}_nclimgrid.nc\")"
   ]
  },
  {
   "cell_type": "code",
   "execution_count": null,
   "id": "c7d02da6-7bd0-4a1f-9da4-0344738abf4e",
   "metadata": {},
   "outputs": [],
   "source": []
  }
 ],
 "metadata": {
  "kernelspec": {
   "display_name": "Python 3 (ipykernel)",
   "language": "python",
   "name": "python3"
  },
  "language_info": {
   "codemirror_mode": {
    "name": "ipython",
    "version": 3
   },
   "file_extension": ".py",
   "mimetype": "text/x-python",
   "name": "python",
   "nbconvert_exporter": "python",
   "pygments_lexer": "ipython3",
   "version": "3.12.6"
  }
 },
 "nbformat": 4,
 "nbformat_minor": 5
}
