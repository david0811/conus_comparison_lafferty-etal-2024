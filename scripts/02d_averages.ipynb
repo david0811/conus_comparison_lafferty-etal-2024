{
 "cells": [
  {
   "cell_type": "code",
   "execution_count": 2,
   "id": "6043c4c3-bbab-42e0-bce7-cce5cb122c93",
   "metadata": {
    "tags": []
   },
   "outputs": [],
   "source": [
    "import os\n",
    "from glob import glob\n",
    "import numpy as np\n",
    "import pandas as pd\n",
    "import xarray as xr\n",
    "import dask\n",
    "import avg_utils as au\n",
    "from regridding import regrid\n",
    "from utils import loca_gard_mapping, city_list, trend_metric_ids"
   ]
  },
  {
   "cell_type": "code",
   "execution_count": 3,
   "id": "1930b48e-6b76-49c7-b5a2-8afff744898a",
   "metadata": {},
   "outputs": [],
   "source": [
    "################\n",
    "#### Paths #####\n",
    "################\n",
    "# Update these for reproduction\n",
    "\n",
    "project_data_path = \"/storage/group/pches/default/users/dcl5300/conus_comparison_lafferty-etal-2024\"\n",
    "project_code_path = \"/storage/home/dcl5300/work/current_projects/conus_comparison_lafferty-etal-2024\""
   ]
  },
  {
   "cell_type": "code",
   "execution_count": 3,
   "id": "2937d69e-5935-4952-acee-d340d557a889",
   "metadata": {},
   "outputs": [
    {
     "data": {
      "text/html": [
       "<div>\n",
       "    <div style=\"width: 24px; height: 24px; background-color: #e1e1e1; border: 3px solid #9D9D9D; border-radius: 5px; position: absolute;\"> </div>\n",
       "    <div style=\"margin-left: 48px;\">\n",
       "        <h3 style=\"margin-bottom: 0px;\">Client</h3>\n",
       "        <p style=\"color: #9D9D9D; margin-bottom: 0px;\">Client-86f93745-0f3b-11f0-b0d3-d9aebb9510d8</p>\n",
       "        <table style=\"width: 100%; text-align: left;\">\n",
       "\n",
       "        <tr>\n",
       "        \n",
       "            <td style=\"text-align: left;\"><strong>Connection method:</strong> Cluster object</td>\n",
       "            <td style=\"text-align: left;\"><strong>Cluster type:</strong> dask_jobqueue.SLURMCluster</td>\n",
       "        \n",
       "        </tr>\n",
       "\n",
       "        \n",
       "            <tr>\n",
       "                <td style=\"text-align: left;\">\n",
       "                    <strong>Dashboard: </strong> <a href=\"/proxy/8787/status\" target=\"_blank\">/proxy/8787/status</a>\n",
       "                </td>\n",
       "                <td style=\"text-align: left;\"></td>\n",
       "            </tr>\n",
       "        \n",
       "\n",
       "        </table>\n",
       "\n",
       "        \n",
       "            <button style=\"margin-bottom: 12px;\" data-commandlinker-command=\"dask:populate-and-launch-layout\" data-commandlinker-args='{\"url\": \"/proxy/8787/status\" }'>\n",
       "                Launch dashboard in JupyterLab\n",
       "            </button>\n",
       "        \n",
       "\n",
       "        \n",
       "            <details>\n",
       "            <summary style=\"margin-bottom: 20px;\"><h3 style=\"display: inline;\">Cluster Info</h3></summary>\n",
       "            <div class=\"jp-RenderedHTMLCommon jp-RenderedHTML jp-mod-trusted jp-OutputArea-output\">\n",
       "    <div style=\"width: 24px; height: 24px; background-color: #e1e1e1; border: 3px solid #9D9D9D; border-radius: 5px; position: absolute;\">\n",
       "    </div>\n",
       "    <div style=\"margin-left: 48px;\">\n",
       "        <h3 style=\"margin-bottom: 0px; margin-top: 0px;\">SLURMCluster</h3>\n",
       "        <p style=\"color: #9D9D9D; margin-bottom: 0px;\">bf676589</p>\n",
       "        <table style=\"width: 100%; text-align: left;\">\n",
       "            <tr>\n",
       "                <td style=\"text-align: left;\">\n",
       "                    <strong>Dashboard:</strong> <a href=\"/proxy/8787/status\" target=\"_blank\">/proxy/8787/status</a>\n",
       "                </td>\n",
       "                <td style=\"text-align: left;\">\n",
       "                    <strong>Workers:</strong> 0\n",
       "                </td>\n",
       "            </tr>\n",
       "            <tr>\n",
       "                <td style=\"text-align: left;\">\n",
       "                    <strong>Total threads:</strong> 0\n",
       "                </td>\n",
       "                <td style=\"text-align: left;\">\n",
       "                    <strong>Total memory:</strong> 0 B\n",
       "                </td>\n",
       "            </tr>\n",
       "            \n",
       "        </table>\n",
       "\n",
       "        <details>\n",
       "            <summary style=\"margin-bottom: 20px;\">\n",
       "                <h3 style=\"display: inline;\">Scheduler Info</h3>\n",
       "            </summary>\n",
       "\n",
       "            <div style=\"\">\n",
       "    <div>\n",
       "        <div style=\"width: 24px; height: 24px; background-color: #FFF7E5; border: 3px solid #FF6132; border-radius: 5px; position: absolute;\"> </div>\n",
       "        <div style=\"margin-left: 48px;\">\n",
       "            <h3 style=\"margin-bottom: 0px;\">Scheduler</h3>\n",
       "            <p style=\"color: #9D9D9D; margin-bottom: 0px;\">Scheduler-5975f4a0-98a1-4e76-9947-922f3b5d6d19</p>\n",
       "            <table style=\"width: 100%; text-align: left;\">\n",
       "                <tr>\n",
       "                    <td style=\"text-align: left;\">\n",
       "                        <strong>Comm:</strong> tcp://10.6.8.221:39699\n",
       "                    </td>\n",
       "                    <td style=\"text-align: left;\">\n",
       "                        <strong>Workers:</strong> 0\n",
       "                    </td>\n",
       "                </tr>\n",
       "                <tr>\n",
       "                    <td style=\"text-align: left;\">\n",
       "                        <strong>Dashboard:</strong> <a href=\"/proxy/8787/status\" target=\"_blank\">/proxy/8787/status</a>\n",
       "                    </td>\n",
       "                    <td style=\"text-align: left;\">\n",
       "                        <strong>Total threads:</strong> 0\n",
       "                    </td>\n",
       "                </tr>\n",
       "                <tr>\n",
       "                    <td style=\"text-align: left;\">\n",
       "                        <strong>Started:</strong> Just now\n",
       "                    </td>\n",
       "                    <td style=\"text-align: left;\">\n",
       "                        <strong>Total memory:</strong> 0 B\n",
       "                    </td>\n",
       "                </tr>\n",
       "            </table>\n",
       "        </div>\n",
       "    </div>\n",
       "\n",
       "    <details style=\"margin-left: 48px;\">\n",
       "        <summary style=\"margin-bottom: 20px;\">\n",
       "            <h3 style=\"display: inline;\">Workers</h3>\n",
       "        </summary>\n",
       "\n",
       "        \n",
       "\n",
       "    </details>\n",
       "</div>\n",
       "\n",
       "        </details>\n",
       "    </div>\n",
       "</div>\n",
       "            </details>\n",
       "        \n",
       "\n",
       "    </div>\n",
       "</div>"
      ],
      "text/plain": [
       "<Client: 'tcp://10.6.8.221:39699' processes=0 threads=0, memory=0 B>"
      ]
     },
     "execution_count": 3,
     "metadata": {},
     "output_type": "execute_result"
    }
   ],
   "source": [
    "############\n",
    "### Dask ###\n",
    "############\n",
    "from dask_jobqueue import SLURMCluster\n",
    "\n",
    "cluster = SLURMCluster(\n",
    "    # account=\"pches\",\n",
    "    account=\"open\",\n",
    "    cores=1,\n",
    "    memory=\"10GiB\",\n",
    "    walltime=\"00:30:00\",\n",
    ")\n",
    "\n",
    "cluster.scale(jobs=30)  # ask for jobs\n",
    "\n",
    "from dask.distributed import Client\n",
    "\n",
    "client = Client(cluster)\n",
    "\n",
    "client"
   ]
  },
  {
   "cell_type": "markdown",
   "id": "52099a4f-9476-4fa5-9a39-cfd4f2e8376d",
   "metadata": {},
   "source": [
    "## Calculate averages"
   ]
  },
  {
   "cell_type": "code",
   "execution_count": 11,
   "id": "87ed4b57-c5db-491d-aff7-98a873efefc5",
   "metadata": {},
   "outputs": [],
   "source": [
    "# Fit all\n",
    "proj_year_groups = [[2040,2060], [2080,2100]]\n",
    "hist_year_groups = [None, [1950,2014]]\n",
    "\n",
    "for metric_id in trend_metric_ids:\n",
    "    for proj_years in proj_year_groups:\n",
    "        for hist_years in hist_year_groups:\n",
    "            au.avg_calc_all(metric_id = metric_id,\n",
    "                            proj_years = proj_years,\n",
    "                            hist_years = hist_years)"
   ]
  },
  {
   "cell_type": "markdown",
   "id": "ea4d1e8b-95a6-49f3-bd22-82cdcfb6d326",
   "metadata": {},
   "source": [
    "## Regridding"
   ]
  },
  {
   "cell_type": "code",
   "execution_count": 4,
   "id": "54738eff-da84-4f03-b262-97fb7cf2f707",
   "metadata": {},
   "outputs": [
    {
     "name": "stdout",
     "output_type": "stream",
     "text": [
      "CPU times: user 2min 33s, sys: 19.9 s, total: 2min 53s\n",
      "Wall time: 8min 17s\n"
     ]
    }
   ],
   "source": [
    "%%time\n",
    "# Regrid to LOCA using NN\n",
    "method = \"nearest\"\n",
    "target = \"LOCA2\"\n",
    "\n",
    "for metric_id in trend_metric_ids:\n",
    "    # Save path\n",
    "    store_path = f\"{project_data_path}/averages/loca_grid/{metric_id}\"\n",
    "    # Get all files\n",
    "    files = glob(f\"{project_data_path}/averages/original_grid/{metric_id}/STAR-ESDM*\") + \\\n",
    "            glob(f\"{project_data_path}/averages/original_grid/{metric_id}/GARD-LENS*\")\n",
    "\n",
    "    # Loop through\n",
    "    for file in files:\n",
    "        # Check if done\n",
    "        file_name = file.split('/')[-1]\n",
    "        store_name = file_name.replace(\".nc\", f\"_{method}.nc\")\n",
    "        if not os.path.exists(f\"{store_path}/{store_name}\"):\n",
    "            try:\n",
    "                # Regrid and store\n",
    "                ds_tmp = xr.open_dataset(file)\n",
    "                ds_out = regrid(ds_tmp, method=method, target=target)\n",
    "                ds_out.to_netcdf(f\"{store_path}/{store_name}\")\n",
    "                del ds_out, ds_tmp\n",
    "            except Exception as e:\n",
    "                print(file)\n",
    "                print(e)"
   ]
  },
  {
   "cell_type": "code",
   "execution_count": 6,
   "id": "8b136e4a-33f5-4f3d-b68a-3db8f1bd4f26",
   "metadata": {},
   "outputs": [
    {
     "name": "stdout",
     "output_type": "stream",
     "text": [
      "CPU times: user 2min 51s, sys: 19.8 s, total: 3min 11s\n",
      "Wall time: 9min 27s\n"
     ]
    }
   ],
   "source": [
    "%%time\n",
    "# Regrid to GARD-LENS using NN\n",
    "method = \"nearest\"\n",
    "target = \"GARD-LENS\"\n",
    "\n",
    "for metric_id in trend_metric_ids:\n",
    "    # Save path\n",
    "    store_path = f\"{project_data_path}/averages/gard_grid/{metric_id}\"\n",
    "    # Get all files\n",
    "    files = glob(f\"{project_data_path}/averages/original_grid/{metric_id}/STAR-ESDM*\") + \\\n",
    "            glob(f\"{project_data_path}/averages/original_grid/{metric_id}/LOCA2*\")\n",
    "\n",
    "    # Loop through\n",
    "    for file in files:\n",
    "        # Check if done\n",
    "        file_name = file.split('/')[-1]\n",
    "        store_name = file_name.replace(\".nc\", f\"_{method}.nc\")\n",
    "        if not os.path.exists(f\"{store_path}/{store_name}\"):\n",
    "            try:\n",
    "                # Regrid and store\n",
    "                ds_tmp = xr.open_dataset(file)\n",
    "                ds_out = regrid(ds_tmp, method=method, target=target)\n",
    "                ds_out.to_netcdf(f\"{store_path}/{store_name}\")\n",
    "                del ds_out, ds_tmp\n",
    "            except Exception as e:\n",
    "                print(file)\n",
    "                print(e)"
   ]
  },
  {
   "cell_type": "code",
   "execution_count": 7,
   "id": "367286f8-2f29-4013-90a3-0f08b2524e7e",
   "metadata": {},
   "outputs": [
    {
     "name": "stdout",
     "output_type": "stream",
     "text": [
      "CPU times: user 4min 31s, sys: 54.7 s, total: 5min 25s\n",
      "Wall time: 17min 39s\n"
     ]
    }
   ],
   "source": [
    "%%time\n",
    "# Regrid to GARD-LENS using NN\n",
    "method = \"nearest\"\n",
    "target = \"STAR-ESDM\"\n",
    "\n",
    "for metric_id in trend_metric_ids:\n",
    "    # Save path\n",
    "    store_path = f\"{project_data_path}/averages/star_grid/{metric_id}\"\n",
    "    # Get all files\n",
    "    files = glob(f\"{project_data_path}/averages/original_grid/{metric_id}/GARD-LENS*\") + \\\n",
    "            glob(f\"{project_data_path}/averages/original_grid/{metric_id}/LOCA2*\")\n",
    "\n",
    "    # Loop through\n",
    "    for file in files:\n",
    "        # Check if done\n",
    "        file_name = file.split('/')[-1]\n",
    "        store_name = file_name.replace(\".nc\", f\"_{method}.nc\")\n",
    "        if not os.path.exists(f\"{store_path}/{store_name}\"):\n",
    "            try:\n",
    "                # Regrid and store\n",
    "                ds_tmp = xr.open_dataset(file)\n",
    "                ds_out = regrid(ds_tmp, method=method, target=target)\n",
    "                ds_out.to_netcdf(f\"{store_path}/{store_name}\")\n",
    "                del ds_out, ds_tmp\n",
    "            except Exception as e:\n",
    "                print(file)\n",
    "                print(e)"
   ]
  }
 ],
 "metadata": {
  "kernelspec": {
   "display_name": "Python 3 (ipykernel)",
   "language": "python",
   "name": "python3"
  },
  "language_info": {
   "codemirror_mode": {
    "name": "ipython",
    "version": 3
   },
   "file_extension": ".py",
   "mimetype": "text/x-python",
   "name": "python",
   "nbconvert_exporter": "python",
   "pygments_lexer": "ipython3",
   "version": "3.12.7"
  }
 },
 "nbformat": 4,
 "nbformat_minor": 5
}
