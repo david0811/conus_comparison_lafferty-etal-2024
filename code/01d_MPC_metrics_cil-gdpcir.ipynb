{
 "cells": [
  {
   "cell_type": "code",
   "execution_count": 1,
   "id": "d35e6a91-5f45-445a-8e78-53fa1dbfa401",
   "metadata": {},
   "outputs": [],
   "source": [
    "###############################################\n",
    "### TO RUN ON MICROSOFT PLANETARY COMPUTER ####\n",
    "###############################################"
   ]
  },
  {
   "cell_type": "code",
   "execution_count": 1,
   "id": "de8b0cb3-6059-43c0-87ee-cb343c13e526",
   "metadata": {
    "tags": []
   },
   "outputs": [],
   "source": [
    "import collections\n",
    "import getpass\n",
    "import io\n",
    "\n",
    "import azure.storage.blob\n",
    "import fsspec\n",
    "import numpy as np\n",
    "import pandas as pd\n",
    "import planetary_computer\n",
    "import pystac\n",
    "import pystac_client\n",
    "import requests\n",
    "import xarray as xr\n",
    "import zarr\n",
    "\n",
    "# import regionmask"
   ]
  },
  {
   "cell_type": "code",
   "execution_count": 4,
   "id": "27086cd8-9a0c-49bd-871c-8150e4831f3b",
   "metadata": {
    "tags": []
   },
   "outputs": [],
   "source": [
    "#################\n",
    "# Data access\n",
    "#################\n",
    "\n",
    "# Complete catalog\n",
    "catalog = pystac_client.Client.open(\"https://planetarycomputer.microsoft.com/api/stac/v1\")\n",
    "\n",
    "\n",
    "# function to grab variables and all SSPs for singe model\n",
    "def grab_model(model_id, vars_to_grab, subset_US):\n",
    "    # Search across all licences in CIL-GDPCIR\n",
    "    search = catalog.search(\n",
    "        collections=[\"cil-gdpcir-cc0\", \"cil-gdpcir-cc-by\", \"cil-gdpcir-cc-by-sa\"],\n",
    "        query={\"cmip6:source_id\": {\"eq\": model_id}, \"cmip6:experiment_id\": {\"neq\": \"historical\"}},  # omit historical\n",
    "    )\n",
    "    ensemble = search.item_collection()\n",
    "\n",
    "    # Grab all into one dataset\n",
    "    ds_ssp = []\n",
    "\n",
    "    for item in ensemble:\n",
    "        signed = planetary_computer.sign(item)\n",
    "        ds_vars = []\n",
    "        for variable_id in vars_to_grab:\n",
    "            asset = signed.assets[variable_id]\n",
    "            ds_tmp = xr.open_dataset(asset.href, **asset.extra_fields[\"xarray:open_kwargs\"])\n",
    "            ds_tmp = ds_tmp.assign_coords(ssp=ds_tmp.attrs[\"experiment_id\"])\n",
    "            ds_vars.append(ds_tmp)\n",
    "        ds_ssp.append(xr.merge(ds_vars))\n",
    "\n",
    "    ds_out = xr.concat(ds_ssp, dim=\"ssp\")\n",
    "    \n",
    "    # Subset US if desired\n",
    "    if subset_US:\n",
    "        ds_out = ds_out.sel(lon=slice(-130,-50), lat=slice(20,60))\n",
    "\n",
    "    return ds_out"
   ]
  },
  {
   "cell_type": "code",
   "execution_count": 5,
   "id": "6f34ccd3-6d61-4dea-a54c-8e9ff22d52a8",
   "metadata": {
    "tags": []
   },
   "outputs": [],
   "source": [
    "# Get all models\n",
    "models = []\n",
    "for license in [\"cil-gdpcir-cc0\", \"cil-gdpcir-cc-by\", \"cil-gdpcir-cc-by-sa\"]:\n",
    "    collection = catalog.get_collection(license)\n",
    "    models_tmp = collection.summaries.to_dict()['cmip6:source_id']\n",
    "    models.append(models_tmp)\n",
    "    \n",
    "models = np.hstack(models)"
   ]
  },
  {
   "cell_type": "code",
   "execution_count": 6,
   "id": "32e5f78d-502d-4d43-bd80-01802ed831c4",
   "metadata": {
    "tags": []
   },
   "outputs": [
    {
     "name": "stdout",
     "output_type": "stream",
     "text": [
      "https://pccompute.westeurope.cloudapp.azure.com/compute/services/dask-gateway/clusters/prod.82f79b92a1d648a788af1d4037732aa0/status\n"
     ]
    }
   ],
   "source": [
    "#########\n",
    "# Dask\n",
    "#########\n",
    "import dask_gateway\n",
    "\n",
    "gateway = dask_gateway.Gateway()\n",
    "\n",
    "# cluster options\n",
    "cluster_options = gateway.cluster_options()\n",
    "cluster_options[\"worker_memory\"] = 30\n",
    "cluster_options[\"worker_cores\"] = 1\n",
    "\n",
    "# start cluster\n",
    "cluster = gateway.new_cluster(cluster_options)\n",
    "client = cluster.get_client()\n",
    "cluster.scale(30)\n",
    "\n",
    "# dashboard link\n",
    "print(cluster.dashboard_link)"
   ]
  },
  {
   "cell_type": "code",
   "execution_count": 7,
   "id": "4cf3ec95-02ea-434e-ae27-cf1555f61f7a",
   "metadata": {
    "tags": []
   },
   "outputs": [
    {
     "name": "stdout",
     "output_type": "stream",
     "text": [
      "FGOALS-g3\n",
      "INM-CM4-8\n",
      "INM-CM5-0\n",
      "BCC-CSM2-MR\n",
      "ACCESS-ESM1-5\n",
      "ACCESS-CM2\n",
      "MIROC-ES2L\n",
      "MIROC6\n",
      "NorESM2-LM\n",
      "NorESM2-MM\n",
      "GFDL-CM4\n",
      "GFDL-ESM4\n",
      "NESM3\n",
      "MPI-ESM1-2-HR\n",
      "HadGEM3-GC31-LL\n",
      "UKESM1-0-LL\n",
      "MPI-ESM1-2-LR\n",
      "EC-Earth3\n",
      "EC-Earth3-AerChem\n",
      "EC-Earth3-CC\n",
      "EC-Earth3-Veg\n",
      "EC-Earth3-Veg-LR\n",
      "CMCC-CM2-SR5\n",
      "CMCC-ESM2\n",
      "CanESM5\n",
      "CPU times: user 3min 54s, sys: 14.3 s, total: 4min 8s\n",
      "Wall time: 1h 41min 38s\n"
     ]
    },
    {
     "name": "stderr",
     "output_type": "stream",
     "text": [
      "2024-01-02 19:15:12,166 - distributed.client - ERROR - Failed to reconnect to scheduler after 30.00 seconds, closing client\n"
     ]
    }
   ],
   "source": [
    "%%time\n",
    "#########################\n",
    "### Calculate metrics ###\n",
    "#########################\n",
    "# loop through models: RUNTIME IS AROUND 10 MINS PER MODEL WITH 30 DASK WORKERS\n",
    "for model in models:\n",
    "    # FGOALS-g3 missing pr\n",
    "    if model == 'FGOALS-g3':\n",
    "        # load data (lazy)\n",
    "        ds = grab_model(model, [\"tasmin\", \"tasmax\"], True)\n",
    "    else:\n",
    "        ds = grab_model(model, [\"tasmin\", \"tasmax\", \"pr\"], True)\n",
    "    \n",
    "    # unit conversions\n",
    "    ds[\"tasmax\"] = ds[\"tasmax\"] - 273.15  # K -> C\n",
    "    ds[\"tasmin\"] = ds[\"tasmin\"] - 273.15  # K -> C\n",
    "\n",
    "    # compute\n",
    "    ds[\"tas\"] = (ds[\"tasmax\"] + ds[\"tasmin\"]) / 2.0\n",
    "    \n",
    "    ds_tas_avg = ds[\"tas\"].resample(time=\"1Y\").mean()\n",
    "    ds_tasmax_max = ds[\"tasmax\"].resample(time=\"1Y\").max()\n",
    "\n",
    "    if model != 'FGOALS-g3':\n",
    "        ds_pr_sum = ds[\"pr\"].resample(time=\"1Y\").sum()\n",
    "        ds_pr_max = ds[\"pr\"].resample(time=\"1Y\").max()\n",
    "    \n",
    "    # merge\n",
    "    if model == 'FGOALS-g3':\n",
    "        ds_final = xr.Dataset({\"tas_avg\": ds_tas_avg,\n",
    "                               \"tasmax_max\": ds_tasmax_max})\n",
    "    else:\n",
    "        ds_final = xr.Dataset({\"tas_avg\": ds_tas_avg,\n",
    "                               \"pr_sum\": ds_pr_sum,\n",
    "                               \"tasmax_max\": ds_tasmax_max,\n",
    "                               \"pr_max\": ds_pr_max})\n",
    "\n",
    "    # storage options\n",
    "    ds_final = ds_final.chunk({\"ssp\": 1, \"time\": 10, \"lat\": 720, \"lon\": 1440})\n",
    "\n",
    "    compressor = zarr.Blosc(cname=\"zstd\", clevel=3)\n",
    "    encoding = {vname: {\"compressor\": compressor} for vname in ds_final.data_vars}\n",
    "\n",
    "    store = zarr.ABSStore(client=container_client, prefix=model)\n",
    "\n",
    "    # store\n",
    "    ds_final.to_zarr(store=store, encoding=encoding, consolidated=True, mode=\"w\")\n",
    "    print(model)"
   ]
  },
  {
   "cell_type": "code",
   "execution_count": null,
   "id": "74427af0-64b9-4ff9-9d12-562829499208",
   "metadata": {},
   "outputs": [],
   "source": []
  }
 ],
 "metadata": {
  "kernelspec": {
   "display_name": "Python 3 (ipykernel)",
   "language": "python",
   "name": "python3"
  },
  "language_info": {
   "codemirror_mode": {
    "name": "ipython",
    "version": 3
   },
   "file_extension": ".py",
   "mimetype": "text/x-python",
   "name": "python",
   "nbconvert_exporter": "python",
   "pygments_lexer": "ipython3",
   "version": "3.11.7"
  }
 },
 "nbformat": 4,
 "nbformat_minor": 5
}
