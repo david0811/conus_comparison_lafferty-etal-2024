{
 "cells": [
  {
   "cell_type": "code",
   "execution_count": 1,
   "id": "fa575179-9fdc-4c81-939c-0ba9c373f63e",
   "metadata": {},
   "outputs": [],
   "source": [
    "import os\n",
    "from glob import glob\n",
    "\n",
    "import dask\n",
    "import numpy as np\n",
    "import pandas as pd\n",
    "import xarray as xr\n",
    "import xesmf as xe\n",
    "\n",
    "from utils import city_list"
   ]
  },
  {
   "cell_type": "markdown",
   "id": "51d8e6ce-cb21-48ba-a25f-4b8e3ba2dae4",
   "metadata": {},
   "source": [
    "## Preliminaries"
   ]
  },
  {
   "cell_type": "code",
   "execution_count": 2,
   "id": "771cf861-108d-464d-9330-56aa2e734125",
   "metadata": {},
   "outputs": [],
   "source": [
    "################\n",
    "#### Paths #####\n",
    "################\n",
    "# Update these for reproduction\n",
    "\n",
    "project_data_path = \"/storage/group/pches/default/users/dcl5300/conus_comparison_lafferty-etal-2024/\"\n",
    "project_code_path = \"/storage/home/dcl5300/work/current_projects/conus_comparison_lafferty-etal-2024/\"\n",
    "gard_path = \"/storage/group/pches/default/public/GARD-LENS\" # GARD-LENS summary stats\n",
    "gard_gcms = ['canesm5', 'cesmlens2', 'ecearth3']"
   ]
  },
  {
   "cell_type": "code",
   "execution_count": 3,
   "id": "699a5a57-e4f4-4b18-a25e-be4a0cd062a5",
   "metadata": {},
   "outputs": [
    {
     "data": {
      "text/plain": [
       "{np.str_('canesm5'): np.int64(50),\n",
       " np.str_('cesmlens2'): np.int64(100),\n",
       " np.str_('ecearth3'): np.int64(50)}"
      ]
     },
     "execution_count": 3,
     "metadata": {},
     "output_type": "execute_result"
    }
   ],
   "source": [
    "# Check dims\n",
    "ds = xr.open_dataset(f'{gard_path}/GARDLENS_pcp_stats_CONUS.nc', chunks='auto')\n",
    "gcms = ds.isel(year=100)['gcm'].to_numpy()\n",
    "unique, counts = np.unique(gcms, return_counts=True)\n",
    "dict(zip(unique, counts))"
   ]
  },
  {
   "cell_type": "code",
   "execution_count": 4,
   "id": "a866ece8-49d9-4448-b248-83aac7f0e50b",
   "metadata": {},
   "outputs": [
    {
     "data": {
      "text/plain": [
       "{np.str_('canesm5'): np.int64(50),\n",
       " np.str_('cesmlens2'): np.int64(100),\n",
       " np.str_('ecearth3'): np.int64(50)}"
      ]
     },
     "execution_count": 4,
     "metadata": {},
     "output_type": "execute_result"
    }
   ],
   "source": [
    "# Check dims\n",
    "ds = xr.open_dataset(f'{gard_path}/GARDLENS_t_mean_stats_CONUS.nc', chunks='auto')\n",
    "gcms = ds.isel(year=100)['gcm'].to_numpy()\n",
    "unique, counts = np.unique(gcms, return_counts=True)\n",
    "dict(zip(unique, counts))"
   ]
  },
  {
   "cell_type": "code",
   "execution_count": 5,
   "id": "a52b473c-6616-4e79-91b4-c90ae396b723",
   "metadata": {},
   "outputs": [],
   "source": [
    "# Get unique combinations\n",
    "ds = xr.open_dataset(f'{gard_path}/GARDLENS_t_mean_stats_CONUS.nc').isel(year=0)\n",
    "gard_info = {}\n",
    "for gcm in gcms:\n",
    "    gard_info.update({gcm: ds.where(ds.gcm == gcm, drop=True)['ens'].to_numpy()})"
   ]
  },
  {
   "cell_type": "code",
   "execution_count": 6,
   "id": "c0da5da7-a308-449a-85ec-14f217abeaf9",
   "metadata": {},
   "outputs": [
    {
     "data": {
      "text/html": [
       "<div>\n",
       "    <div style=\"width: 24px; height: 24px; background-color: #e1e1e1; border: 3px solid #9D9D9D; border-radius: 5px; position: absolute;\"> </div>\n",
       "    <div style=\"margin-left: 48px;\">\n",
       "        <h3 style=\"margin-bottom: 0px;\">Client</h3>\n",
       "        <p style=\"color: #9D9D9D; margin-bottom: 0px;\">Client-3f744dce-8bed-11ef-bfeb-00000311fe80</p>\n",
       "        <table style=\"width: 100%; text-align: left;\">\n",
       "\n",
       "        <tr>\n",
       "        \n",
       "            <td style=\"text-align: left;\"><strong>Connection method:</strong> Cluster object</td>\n",
       "            <td style=\"text-align: left;\"><strong>Cluster type:</strong> dask_jobqueue.SLURMCluster</td>\n",
       "        \n",
       "        </tr>\n",
       "\n",
       "        \n",
       "            <tr>\n",
       "                <td style=\"text-align: left;\">\n",
       "                    <strong>Dashboard: </strong> <a href=\"/proxy/8787/status\" target=\"_blank\">/proxy/8787/status</a>\n",
       "                </td>\n",
       "                <td style=\"text-align: left;\"></td>\n",
       "            </tr>\n",
       "        \n",
       "\n",
       "        </table>\n",
       "\n",
       "        \n",
       "            <button style=\"margin-bottom: 12px;\" data-commandlinker-command=\"dask:populate-and-launch-layout\" data-commandlinker-args='{\"url\": \"/proxy/8787/status\" }'>\n",
       "                Launch dashboard in JupyterLab\n",
       "            </button>\n",
       "        \n",
       "\n",
       "        \n",
       "            <details>\n",
       "            <summary style=\"margin-bottom: 20px;\"><h3 style=\"display: inline;\">Cluster Info</h3></summary>\n",
       "            <div class=\"jp-RenderedHTMLCommon jp-RenderedHTML jp-mod-trusted jp-OutputArea-output\">\n",
       "    <div style=\"width: 24px; height: 24px; background-color: #e1e1e1; border: 3px solid #9D9D9D; border-radius: 5px; position: absolute;\">\n",
       "    </div>\n",
       "    <div style=\"margin-left: 48px;\">\n",
       "        <h3 style=\"margin-bottom: 0px; margin-top: 0px;\">SLURMCluster</h3>\n",
       "        <p style=\"color: #9D9D9D; margin-bottom: 0px;\">2466cf36</p>\n",
       "        <table style=\"width: 100%; text-align: left;\">\n",
       "            <tr>\n",
       "                <td style=\"text-align: left;\">\n",
       "                    <strong>Dashboard:</strong> <a href=\"/proxy/8787/status\" target=\"_blank\">/proxy/8787/status</a>\n",
       "                </td>\n",
       "                <td style=\"text-align: left;\">\n",
       "                    <strong>Workers:</strong> 0\n",
       "                </td>\n",
       "            </tr>\n",
       "            <tr>\n",
       "                <td style=\"text-align: left;\">\n",
       "                    <strong>Total threads:</strong> 0\n",
       "                </td>\n",
       "                <td style=\"text-align: left;\">\n",
       "                    <strong>Total memory:</strong> 0 B\n",
       "                </td>\n",
       "            </tr>\n",
       "            \n",
       "        </table>\n",
       "\n",
       "        <details>\n",
       "            <summary style=\"margin-bottom: 20px;\">\n",
       "                <h3 style=\"display: inline;\">Scheduler Info</h3>\n",
       "            </summary>\n",
       "\n",
       "            <div style=\"\">\n",
       "    <div>\n",
       "        <div style=\"width: 24px; height: 24px; background-color: #FFF7E5; border: 3px solid #FF6132; border-radius: 5px; position: absolute;\"> </div>\n",
       "        <div style=\"margin-left: 48px;\">\n",
       "            <h3 style=\"margin-bottom: 0px;\">Scheduler</h3>\n",
       "            <p style=\"color: #9D9D9D; margin-bottom: 0px;\">Scheduler-9ddcbb5b-6b49-4a0b-afe7-8671d228a581</p>\n",
       "            <table style=\"width: 100%; text-align: left;\">\n",
       "                <tr>\n",
       "                    <td style=\"text-align: left;\">\n",
       "                        <strong>Comm:</strong> tcp://10.6.0.156:38211\n",
       "                    </td>\n",
       "                    <td style=\"text-align: left;\">\n",
       "                        <strong>Workers:</strong> 0\n",
       "                    </td>\n",
       "                </tr>\n",
       "                <tr>\n",
       "                    <td style=\"text-align: left;\">\n",
       "                        <strong>Dashboard:</strong> <a href=\"/proxy/8787/status\" target=\"_blank\">/proxy/8787/status</a>\n",
       "                    </td>\n",
       "                    <td style=\"text-align: left;\">\n",
       "                        <strong>Total threads:</strong> 0\n",
       "                    </td>\n",
       "                </tr>\n",
       "                <tr>\n",
       "                    <td style=\"text-align: left;\">\n",
       "                        <strong>Started:</strong> Just now\n",
       "                    </td>\n",
       "                    <td style=\"text-align: left;\">\n",
       "                        <strong>Total memory:</strong> 0 B\n",
       "                    </td>\n",
       "                </tr>\n",
       "            </table>\n",
       "        </div>\n",
       "    </div>\n",
       "\n",
       "    <details style=\"margin-left: 48px;\">\n",
       "        <summary style=\"margin-bottom: 20px;\">\n",
       "            <h3 style=\"display: inline;\">Workers</h3>\n",
       "        </summary>\n",
       "\n",
       "        \n",
       "\n",
       "    </details>\n",
       "</div>\n",
       "\n",
       "        </details>\n",
       "    </div>\n",
       "</div>\n",
       "            </details>\n",
       "        \n",
       "\n",
       "    </div>\n",
       "</div>"
      ],
      "text/plain": [
       "<Client: 'tcp://10.6.0.156:38211' processes=0 threads=0, memory=0 B>"
      ]
     },
     "execution_count": 6,
     "metadata": {},
     "output_type": "execute_result"
    }
   ],
   "source": [
    "############\n",
    "### Dask ###\n",
    "############\n",
    "from dask_jobqueue import SLURMCluster\n",
    "\n",
    "cluster = SLURMCluster(\n",
    "    # account=\"pches\",\n",
    "    account=\"open\",\n",
    "    cores=1,\n",
    "    memory=\"30GiB\",\n",
    "    walltime=\"01:00:00\"\n",
    ")\n",
    "\n",
    "cluster.scale(jobs=20)  # ask for jobs\n",
    "\n",
    "from dask.distributed import Client\n",
    "\n",
    "client = Client(cluster)\n",
    "\n",
    "client"
   ]
  },
  {
   "cell_type": "markdown",
   "id": "4d589149-34f5-4733-91bc-43581cc52b88",
   "metadata": {},
   "source": [
    "# Calculate metrics "
   ]
  },
  {
   "cell_type": "code",
   "execution_count": 7,
   "id": "86fb2b63-5356-449f-aef2-8f471e4dc014",
   "metadata": {},
   "outputs": [],
   "source": [
    "####################\n",
    "# ALREADY DONE\n",
    "####################"
   ]
  },
  {
   "cell_type": "markdown",
   "id": "4504436c-95ab-487a-a476-7772e37969e8",
   "metadata": {
    "tags": []
   },
   "source": [
    "# Regrid"
   ]
  },
  {
   "cell_type": "code",
   "execution_count": 8,
   "id": "4c57f1ac-7c60-4c2b-9a33-46a567eab6ce",
   "metadata": {},
   "outputs": [],
   "source": [
    "# We use LOCA grid as target\n",
    "loca_lat_grid = np.linspace(23.90625, 53.46875, 474)\n",
    "loca_lon_grid = np.linspace(234.53125, 293.46875, 944)\n",
    "    \n",
    "ds_out = xr.Dataset({\"lat\": ([\"lat\"], loca_lat_grid,\n",
    "                             {\"standard_name\": \"latitude\", \"units\": \"degrees_north\"}),\n",
    "                     \"lon\": ([\"lon\"], loca_lon_grid,\n",
    "                             {\"standard_name\": \"longitude\", \"units\": \"degrees_east\"})\n",
    "                    })\n",
    "    \n",
    "# Add mask from LOCA output\n",
    "loca_nans = np.load(f'{project_code_path}/code/utils/LOCA2_NaNs.npy')\n",
    "ds_out[\"mask\"] = xr.DataArray(~loca_nans, dims=['lat','lon'])\n",
    "    \n",
    "# GARD-LENS grid to construct regridder\n",
    "example_file = f'{gard_path}/GARDLENS_t_mean_stats_CONUS.nc'\n",
    "ds_in = xr.open_dataset(example_file).isel(year=0, n_ens=0)\n",
    "    \n",
    "# Regridder\n",
    "conservative_regridder = xe.Regridder(ds_in, ds_out, \"conservative\")\n",
    "# nn_s2d_regridder = xe.Regridder(ds_in, ds_out, \"nearest_s2d\")"
   ]
  },
  {
   "cell_type": "code",
   "execution_count": 9,
   "id": "1ee16853-37ae-47c4-a42e-eb39a780df94",
   "metadata": {},
   "outputs": [],
   "source": [
    "# Some small preprocessing for GARD-LENS\n",
    "def _preprocess(ds, gard_stat_id, metric_id):\n",
    "    # Re-index\n",
    "    with dask.config.set(**{'array.slicing.split_large_chunks': False}):\n",
    "        ds = ds.set_index(n_ens=['gcm', 'scen', 'ens']).unstack('n_ens')\n",
    "        ds = ds.rename({'gcm':'model', 'scen':'ssp', 'ens':'member'})\n",
    "    # Rename\n",
    "    ds = ds.rename({gard_stat_id: metric_id})[[metric_id]]\n",
    "\n",
    "    return ds\n",
    "\n",
    "# Regridding function\n",
    "def regrid_gard(ds_in, gard_var_id, gard_stat_id, model, member, metric_id, regridder, regridder_name, out_path):\n",
    "    # Check if done\n",
    "    if not os.path.exists(f\"{out_path}/{regridder_name}/{metric_id}_{model}_{member}_ssp370.nc\"):\n",
    "        # Select GCM and member\n",
    "        ds_in = ds_in.where((ds_in.gcm == model) & (ds_in.ens == member), drop=True)\n",
    "    \n",
    "        # Tidy\n",
    "        ds_in = _preprocess(ds_in, gard_stat_id, metric_id)\n",
    "    \n",
    "        # Regrid\n",
    "        # NOTE: use high NaN threshold to try to not introduce NaNs\n",
    "        # not already present in the LOCA2 grid\n",
    "        ds_out = regridder(ds_in, skipna=True, na_thres=0.99)\n",
    "        \n",
    "        # Store\n",
    "        # comp = dict(zlib=True, complevel=5)\n",
    "        # encoding = {var: comp for var in ds_out.data_vars}\n",
    "        ds_out.to_netcdf(f\"{out_path}/{regridder_name}/{metric_id}_{model}_{member}_ssp370.nc\")"
   ]
  },
  {
   "cell_type": "code",
   "execution_count": 10,
   "id": "743f0ba7-3315-4e7a-aa58-4f5ace6b5372",
   "metadata": {},
   "outputs": [],
   "source": [
    "# Run it\n",
    "out_path = f\"{project_data_path}/metrics_regridded/GARD-LENS/\"\n",
    "\n",
    "#####################\n",
    "# avg tas\n",
    "gard_var_id = 't_mean'\n",
    "gard_stat_id = 'mean'\n",
    "metric_id = 'avg_tas'\n",
    "\n",
    "ds_in = xr.open_dataset(f'{gard_path}/GARDLENS_{gard_var_id}_stats_CONUS.nc')\n",
    "\n",
    "for model in gard_info.keys():\n",
    "    for member in gard_info[model]:\n",
    "        regrid_gard(ds_in = ds_in,\n",
    "                    gard_var_id = gard_var_id, \n",
    "                    gard_stat_id = gard_stat_id,\n",
    "                    model = model,\n",
    "                    member = member,\n",
    "                    metric_id = metric_id,\n",
    "                    regridder = conservative_regridder,\n",
    "                    regridder_name = 'conservative',\n",
    "                    out_path = out_path)\n",
    "\n",
    "#####################\n",
    "# max precip\n",
    "gard_var_id = 'pcp'\n",
    "gard_stat_id = 'max'\n",
    "metric_id = 'max_pr'\n",
    "\n",
    "ds_in = xr.open_dataset(f'{gard_path}/GARDLENS_{gard_var_id}_stats_CONUS.nc')\n",
    "\n",
    "for model in gard_info.keys():\n",
    "    for member in gard_info[model]:\n",
    "        regrid_gard(ds_in = ds_in,\n",
    "                    gard_var_id = gard_var_id, \n",
    "                    gard_stat_id = gard_stat_id,\n",
    "                    model = model,\n",
    "                    member = member,\n",
    "                    metric_id = metric_id,\n",
    "                    regridder = conservative_regridder,\n",
    "                    regridder_name = 'conservative',\n",
    "                    out_path = out_path)\n",
    "\n",
    "#####################\n",
    "# sum precip\n",
    "gard_var_id = 'pcp'\n",
    "gard_stat_id = 'sum'\n",
    "metric_id = 'sum_pr'\n",
    "\n",
    "ds_in = xr.open_dataset(f'{gard_path}/GARDLENS_{gard_var_id}_stats_CONUS.nc')\n",
    "\n",
    "for model in gard_info.keys():\n",
    "    for member in gard_info[model]:\n",
    "        regrid_gard(ds_in = ds_in,\n",
    "                    gard_var_id = gard_var_id, \n",
    "                    gard_stat_id = gard_stat_id,\n",
    "                    model = model,\n",
    "                    member = member,\n",
    "                    metric_id = metric_id,\n",
    "                    regridder = conservative_regridder,\n",
    "                    regridder_name = 'conservative',\n",
    "                    out_path = out_path)"
   ]
  },
  {
   "cell_type": "markdown",
   "id": "d8c8eec1-f087-4845-bad5-d1e6b77dba17",
   "metadata": {
    "tags": []
   },
   "source": [
    "# Summaries"
   ]
  },
  {
   "cell_type": "markdown",
   "id": "4995933f-220f-41e8-a1bd-1533e2ad182c",
   "metadata": {
    "jp-MarkdownHeadingCollapsed": true,
    "tags": []
   },
   "source": [
    "## Indices"
   ]
  },
  {
   "cell_type": "code",
   "execution_count": 17,
   "id": "4dd7c3f2-c956-43a5-bb25-ec5118be150c",
   "metadata": {},
   "outputs": [],
   "source": [
    "# Calculates summary indices for GARD-LENS model ensemble for given SSP\n",
    "def get_summary_indices(metric_id, model, years, out_path, out_str):\n",
    "    \"\"\"\n",
    "    Current summary indices calculated: mean, 99th quantile, 99% quantile range\n",
    "    `years` define the window over which all outputs are pooled. \n",
    "    \"\"\"\n",
    "    \n",
    "    # Check if done\n",
    "    if not os.path.isfile(f\"{out_path}/{out_str}.nc\"):\n",
    "        # Read all\n",
    "        ds = xr.open_mfdataset(f\"{project_data_path}/metrics_regridded/GARD-LENS/conservative/{metric_id}_{model}_*.nc\", chunks='auto')\n",
    "\n",
    "        # Time slice\n",
    "        ds = ds.rename({'year':'time'})\n",
    "        ds_sel = ds.sel(time=slice(years[0],years[1]))\n",
    "    \n",
    "        ## Summary indices\n",
    "        # Mean\n",
    "        ds_mean = ds_sel.mean(dim=['member', 'time']).assign_coords(indice = 'mean')\n",
    "        # Quantiles\n",
    "        ds_qlow = ds_sel.chunk(dict(member=-1)).quantile(0.005, dim=['member', 'time'])\n",
    "        ds_qhigh = ds_sel.chunk(dict(member=-1)).quantile(0.995, dim=['member', 'time'])\n",
    "        ds_qrange = (ds_qhigh - ds_qlow).assign_coords(indice = '99range')\n",
    "    \n",
    "        ds_q99 = ds_sel.chunk(dict(member=-1)).quantile(0.99, dim=['member', 'time']).assign_coords(indice = 'q99')\n",
    "\n",
    "        # Store\n",
    "        ds_out = xr.concat([ds_mean, ds_qrange, ds_q99], dim='indice')\n",
    "        ds_out.to_netcdf(f\"{out_path}/{out_str}.nc\")"
   ]
  },
  {
   "cell_type": "code",
   "execution_count": null,
   "id": "411bbf90-bb33-4e74-ad70-148a01dbfb81",
   "metadata": {},
   "outputs": [],
   "source": [
    "%%time\n",
    "ssp = 'ssp370'\n",
    "\n",
    "for years in [[2020,2040], [2050,2070], [2080,2100]]:\n",
    "    for metric_id in ['avg_tas', 'max_pr', 'sum_pr']:\n",
    "        for model in gard_info.keys():\n",
    "            get_summary_indices(metric_id = metric_id,\n",
    "                                model = model,\n",
    "                                years = years,\n",
    "                                out_path=f\"{project_data_path}/summary_indices\",\n",
    "                                out_str=f\"GARD-LENS_{model}_{ssp}_{years[0]}-{years[1]}_{metric_id}\")"
   ]
  },
  {
   "cell_type": "markdown",
   "id": "6f5e13ff-3f65-450c-a540-48a1e8e57519",
   "metadata": {},
   "source": [
    "## Timeseries"
   ]
  },
  {
   "cell_type": "markdown",
   "id": "5bd9750c-571f-4295-b44a-34382cf021a2",
   "metadata": {
    "tags": []
   },
   "source": [
    "### Raw"
   ]
  },
  {
   "cell_type": "code",
   "execution_count": 6,
   "id": "378a4d4d-f1fe-4dce-8f2d-d2a69d7677b7",
   "metadata": {
    "tags": []
   },
   "outputs": [],
   "source": [
    "# Some small preprocessing for GARD-LENS\n",
    "def _preprocess(ds, gard_stat_id, metric_id):\n",
    "    # Re-index\n",
    "    with dask.config.set(**{'array.slicing.split_large_chunks': False}):\n",
    "        ds = ds.set_index(n_ens=['gcm', 'scen', 'ens']).unstack('n_ens')\n",
    "        ds = ds.rename({'gcm':'model', 'scen':'ssp', 'ens':'member'})\n",
    "    # Rename\n",
    "    ds = ds.rename({gard_stat_id: metric_id})[[metric_id]]\n",
    "\n",
    "    return ds"
   ]
  },
  {
   "cell_type": "code",
   "execution_count": 50,
   "id": "88eff00e-ec47-4b94-8d2f-2b9983fd4679",
   "metadata": {
    "tags": []
   },
   "outputs": [],
   "source": [
    "# Calculates summary indices for GARD-LENS ensemble for given GCM\n",
    "def get_raw_data(ds, gard_stat_id, metric_id, model, years, lat, lon, out_path, out_str):\n",
    "    \"\"\"\n",
    "    \"\"\"\n",
    "    # Check if done:\n",
    "    if not os.path.isfile(f\"{out_path}/{out_str}.csv\"):\n",
    "        \n",
    "        # Select GCM\n",
    "        ds = ds.where((ds.gcm == model), drop=True)\n",
    "        \n",
    "        # Location selection first\n",
    "        ds_sel = ds.sel(lat=lat, lon=lon, method='nearest')\n",
    "        \n",
    "        # Tidy\n",
    "        ds_sel = _preprocess(ds_sel, gard_stat_id, metric_id)\n",
    "        \n",
    "        # Time slice\n",
    "        if years is not None:\n",
    "            ds_sel = ds_sel.sel(time=slice(years[0],years[1]))\n",
    "        \n",
    "        # Construct dataframe\n",
    "        df_out = ds_sel.to_dataframe().reset_index().dropna().drop(columns=[\"lat\", \"lon\"])\n",
    "        df_out[\"ssp\"] = 'ssp370'\n",
    "        df_out[\"model\"] = model\n",
    "            \n",
    "        # Store\n",
    "        df_out.to_csv(f\"{out_path}/{out_str}.csv\", index=False)"
   ]
  },
  {
   "cell_type": "code",
   "execution_count": 51,
   "id": "c6314118-6717-4257-b186-75839a1801ab",
   "metadata": {
    "tags": []
   },
   "outputs": [],
   "source": [
    "# Run it\n",
    "out_path = f\"{project_data_path}/summary_raw_original_grid/\"\n",
    "\n",
    "#####################\n",
    "# avg tas\n",
    "#####################\n",
    "gard_var_id = 't_mean'\n",
    "gard_stat_id = 'mean'\n",
    "metric_id = 'avg_tas'\n",
    "\n",
    "ds_in = xr.open_dataset(f'{gard_path}/GARDLENS_{gard_var_id}_stats_CONUS.nc')\n",
    "\n",
    "for model in gard_info.keys():\n",
    "    for city in ['chicago', 'nyc', 'denver']:\n",
    "        lat, lon = city_list[city]\n",
    "        get_raw_data(ds = ds_in,\n",
    "                     gard_stat_id = gard_stat_id,\n",
    "                     metric_id = metric_id, \n",
    "                     model = model, \n",
    "                     years = None, \n",
    "                     lat=lat, lon=lon,\n",
    "                     out_path = out_path,\n",
    "                     out_str = f\"{city}_GARD-LENS_{model}_ssp370_{metric_id}\")\n",
    "\n",
    "        \n",
    "#####################\n",
    "# max tas\n",
    "#####################\n",
    "gard_var_id = 't_mean'\n",
    "gard_stat_id = 'max'\n",
    "metric_id = 'max_tas'\n",
    "\n",
    "ds_in = xr.open_dataset(f'{gard_path}/GARDLENS_{gard_var_id}_stats_CONUS.nc')\n",
    "\n",
    "for model in gard_info.keys():\n",
    "    for city in ['chicago', 'nyc', 'denver']:\n",
    "        lat, lon = city_list[city]\n",
    "        get_raw_data(ds = ds_in,\n",
    "                     gard_stat_id = gard_stat_id,\n",
    "                     metric_id = metric_id, \n",
    "                     model = model, \n",
    "                     years = None, \n",
    "                     lat=lat, lon=lon,\n",
    "                     out_path = out_path,\n",
    "                     out_str = f\"{city}_GARD-LENS_{model}_ssp370_{metric_id}\")\n",
    "\n",
    "#####################\n",
    "# max precip\n",
    "#####################\n",
    "gard_var_id = 'pcp'\n",
    "gard_stat_id = 'max'\n",
    "metric_id = 'max_pr'\n",
    "\n",
    "ds_in = xr.open_dataset(f'{gard_path}/GARDLENS_{gard_var_id}_stats_CONUS.nc')\n",
    "\n",
    "for model in gard_info.keys():\n",
    "    for city in ['chicago', 'nyc', 'denver']:\n",
    "        lat, lon = city_list[city]\n",
    "        get_raw_data(ds = ds_in,\n",
    "                     gard_stat_id = gard_stat_id,\n",
    "                     metric_id = metric_id, \n",
    "                     model = model, \n",
    "                     years = None, \n",
    "                     lat=lat, lon=lon,\n",
    "                     out_path = out_path,\n",
    "                     out_str = f\"{city}_GARD-LENS_{model}_ssp370_{metric_id}\")\n",
    "\n",
    "#####################\n",
    "# sum precip\n",
    "#####################\n",
    "gard_var_id = 'pcp'\n",
    "gard_stat_id = 'sum'\n",
    "metric_id = 'sum_pr'\n",
    "\n",
    "ds_in = xr.open_dataset(f'{gard_path}/GARDLENS_{gard_var_id}_stats_CONUS.nc')\n",
    "\n",
    "for model in gard_info.keys():\n",
    "    for city in ['chicago', 'nyc', 'denver']:\n",
    "        lat, lon = city_list[city]\n",
    "        get_raw_data(ds = ds_in,\n",
    "                     gard_stat_id = gard_stat_id,\n",
    "                     metric_id = metric_id, \n",
    "                     model = model, \n",
    "                     years = None, \n",
    "                     lat=lat, lon=lon,\n",
    "                     out_path = out_path,\n",
    "                     out_str = f\"{city}_GARD-LENS_{model}_ssp370_{metric_id}\")"
   ]
  },
  {
   "cell_type": "markdown",
   "id": "26e342c0-0a41-4830-8594-f4135db19b13",
   "metadata": {
    "tags": []
   },
   "source": [
    "### Regridded"
   ]
  },
  {
   "cell_type": "code",
   "execution_count": 24,
   "id": "e39dd03f-d646-4ce3-83fa-cacb1b0b09e8",
   "metadata": {},
   "outputs": [],
   "source": [
    "# Calculates summary indices for GARD-LENS ensemble for given GCM\n",
    "def get_raw_data(metric_id, model, years, lat, lon, out_path, out_str):\n",
    "    \"\"\"\n",
    "    \"\"\"\n",
    "    # Check if done\n",
    "    if not os.path.isfile(f\"{out_path}/{out_str}.csv\"):\n",
    "        \n",
    "        # Read all\n",
    "        ds = xr.open_mfdataset(f\"{project_data_path}/metrics_regridded/GARD-LENS/conservative/{metric_id}_{model}_*.nc\", chunks='auto')\n",
    "    \n",
    "        # Time slice\n",
    "        ds = ds.rename({'year':'time'})\n",
    "        ds_sel = ds.sel(time=slice(years[0],years[1]))\n",
    "\n",
    "        # Location selection\n",
    "        if lon < 0:\n",
    "            lon = 360 + lon\n",
    "        ds_sel = ds_sel.sel(lat=lat, lon=lon, method='nearest')\n",
    "    \n",
    "        # Construct dataframe\n",
    "        df_out = ds_sel.to_dataframe().drop(columns=[\"lat\", \"lon\"]).reset_index()\n",
    "        df_out[\"ssp\"] = 'ssp370'\n",
    "        df_out[\"model\"] = model\n",
    "        \n",
    "        # Store\n",
    "        df_out.to_csv(f\"{out_path}/{out_str}.csv\", index=False)"
   ]
  },
  {
   "cell_type": "code",
   "execution_count": 29,
   "id": "061c0a14-7a68-4d6d-a97d-86f9d28e236f",
   "metadata": {},
   "outputs": [
    {
     "name": "stdout",
     "output_type": "stream",
     "text": [
      "CPU times: user 3min 23s, sys: 31.6 s, total: 3min 55s\n",
      "Wall time: 16min 26s\n"
     ]
    }
   ],
   "source": [
    "%%time\n",
    "for city in city_list.keys():\n",
    "    lat, lon = city_list[city]\n",
    "    for years in [[2020,2040], [2050,2070], [2080,2100]]:\n",
    "        for metric_id in ['avg_tas', 'sum_pr', 'max_pr']:\n",
    "            for model in gard_info.keys():\n",
    "                get_raw_data(metric_id = metric_id, \n",
    "                             model = model,\n",
    "                             years=years,\n",
    "                             lat=lat, lon=lon,\n",
    "                             out_path=f\"{project_data_path}/summary_raw\",\n",
    "                             out_str=f\"{city}_GARD-LENS_{model}_ssp370_{years[0]}-{years[1]}_{metric_id}\")"
   ]
  },
  {
   "cell_type": "code",
   "execution_count": null,
   "id": "b49b6240-738b-493d-933f-96ae37d24186",
   "metadata": {},
   "outputs": [],
   "source": []
  }
 ],
 "metadata": {
  "kernelspec": {
   "display_name": "Python 3 (ipykernel)",
   "language": "python",
   "name": "python3"
  },
  "language_info": {
   "codemirror_mode": {
    "name": "ipython",
    "version": 3
   },
   "file_extension": ".py",
   "mimetype": "text/x-python",
   "name": "python",
   "nbconvert_exporter": "python",
   "pygments_lexer": "ipython3",
   "version": "3.12.7"
  }
 },
 "nbformat": 4,
 "nbformat_minor": 5
}
