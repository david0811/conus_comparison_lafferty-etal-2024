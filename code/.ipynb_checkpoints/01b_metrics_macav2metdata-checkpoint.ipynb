{
 "cells": [
  {
   "cell_type": "code",
   "execution_count": null,
   "id": "8efffc55-772d-4917-810e-f39f80ffeaa8",
   "metadata": {},
   "outputs": [],
   "source": [
    "import os\n",
    "from glob import glob\n",
    "\n",
    "import dask\n",
    "import numpy as np\n",
    "import xarray as xr"
   ]
  },
  {
   "cell_type": "markdown",
   "id": "cec4b933-9679-4658-bd4d-48447d111395",
   "metadata": {},
   "source": [
    "## Preliminaries"
   ]
  },
  {
   "cell_type": "code",
   "execution_count": 9,
   "id": "4efe2f04-22a9-466e-87ea-91d479625bca",
   "metadata": {},
   "outputs": [],
   "source": [
    "################\n",
    "#### Paths #####\n",
    "################\n",
    "# Update these for reproduction\n",
    "\n",
    "project_data_path = \"/storage/group/pches/default/users/dcl5300/conus_comparison_lafferty-etal-2024/\"\n",
    "project_code_path = \"/storage/home/dcl5300/work/current_projects/conus_comparison_lafferty-etal-2024/\"\n",
    "loca_path = \"/storage/group/pches/default/public/LOCA2\" # raw loca outputs"
   ]
  },
  {
   "cell_type": "code",
   "execution_count": 10,
   "id": "e4e1cf46-e9dd-4a72-8e72-42ee2eec5ad0",
   "metadata": {},
   "outputs": [
    {
     "name": "stdout",
     "output_type": "stream",
     "text": [
      "# models: 27\n",
      "# model/expts: 99\n",
      "# model/expts/ens: 329\n"
     ]
    }
   ],
   "source": [
    "##############\n",
    "### Models ###\n",
    "##############\n",
    "\n",
    "from utils import loca_all\n",
    "models = list(loca_all.keys())\n",
    "\n",
    "# Matches website (https://loca.ucsd.edu/loca-version-2-for-north-america-ca-jan-2023/) as of Jan 2023\n",
    "print(f\"# models: {len(models)}\")\n",
    "print(f\"# model/expts: {np.sum([len(loca_all[model]) for model in models])}\")\n",
    "print(f\"# model/expts/ens: {np.sum([len(loca_all[model][ssp]) for model in models for ssp in loca_all[model]])}\")"
   ]
  }
 ],
 "metadata": {
  "kernelspec": {
   "display_name": "Python 3 (ipykernel)",
   "language": "python",
   "name": "python3"
  },
  "language_info": {
   "codemirror_mode": {
    "name": "ipython",
    "version": 3
   },
   "file_extension": ".py",
   "mimetype": "text/x-python",
   "name": "python",
   "nbconvert_exporter": "python",
   "pygments_lexer": "ipython3",
   "version": "3.11.7"
  }
 },
 "nbformat": 4,
 "nbformat_minor": 5
}
