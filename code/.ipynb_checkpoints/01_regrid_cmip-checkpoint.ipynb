{
 "cells": [
  {
   "cell_type": "code",
   "execution_count": 5,
   "id": "911abbff-fe39-4f1b-8eec-dee447ac3c08",
   "metadata": {},
   "outputs": [],
   "source": [
    "import glob\n",
    "import os\n",
    "\n",
    "import dask\n",
    "import numpy as np\n",
    "import xarray as xr\n",
    "\n",
    "# import xesmf as xe"
   ]
  },
  {
   "cell_type": "markdown",
   "id": "c54cabc1-602a-4d67-bd83-1b9c4add04e0",
   "metadata": {
    "tags": []
   },
   "source": [
    "### Preliminaries"
   ]
  },
  {
   "cell_type": "code",
   "execution_count": 3,
   "id": "98432448-aeaf-480b-92cb-f79cc0fc069f",
   "metadata": {
    "tags": []
   },
   "outputs": [],
   "source": [
    "################\n",
    "#### Paths #####\n",
    "################\n",
    "# Update these for reproduction\n",
    "\n",
    "cmip_path = \"/storage/group/pches/default/public/CMIP6/\" # raw CMIP outputs\n",
    "out_path = \"/storage/group/pches/default/users/dcl5300/loca_cmip6_uc_lafferty-sriver-2024-tbd_DATA/cmip_regridded/\" # where to store regridded files"
   ]
  },
  {
   "cell_type": "code",
   "execution_count": 4,
   "id": "8dcdc58c-fa2e-4f12-b7ea-805ef4de972f",
   "metadata": {
    "tags": []
   },
   "outputs": [],
   "source": [
    "################\n",
    "#### Models ####\n",
    "################\n",
    "from utils import loca_analyze\n",
    "models = list(loca_analyze.keys())"
   ]
  },
  {
   "cell_type": "code",
   "execution_count": 5,
   "id": "79c0bb10-5221-41c4-a96b-1c243e1d8a41",
   "metadata": {
    "tags": []
   },
   "outputs": [
    {
     "data": {
      "text/html": [
       "<div>\n",
       "    <div style=\"width: 24px; height: 24px; background-color: #e1e1e1; border: 3px solid #9D9D9D; border-radius: 5px; position: absolute;\"> </div>\n",
       "    <div style=\"margin-left: 48px;\">\n",
       "        <h3 style=\"margin-bottom: 0px;\">Client</h3>\n",
       "        <p style=\"color: #9D9D9D; margin-bottom: 0px;\">Client-be43d0d9-7418-11ee-8e56-00001029fe80</p>\n",
       "        <table style=\"width: 100%; text-align: left;\">\n",
       "\n",
       "        <tr>\n",
       "        \n",
       "            <td style=\"text-align: left;\"><strong>Connection method:</strong> Cluster object</td>\n",
       "            <td style=\"text-align: left;\"><strong>Cluster type:</strong> dask_jobqueue.SLURMCluster</td>\n",
       "        \n",
       "        </tr>\n",
       "\n",
       "        \n",
       "            <tr>\n",
       "                <td style=\"text-align: left;\">\n",
       "                    <strong>Dashboard: </strong> <a href=\"/proxy/8787/status\" target=\"_blank\">/proxy/8787/status</a>\n",
       "                </td>\n",
       "                <td style=\"text-align: left;\"></td>\n",
       "            </tr>\n",
       "        \n",
       "\n",
       "        </table>\n",
       "\n",
       "        \n",
       "            <button style=\"margin-bottom: 12px;\" data-commandlinker-command=\"dask:populate-and-launch-layout\" data-commandlinker-args='{\"url\": \"/proxy/8787/status\" }'>\n",
       "                Launch dashboard in JupyterLab\n",
       "            </button>\n",
       "        \n",
       "\n",
       "        \n",
       "            <details>\n",
       "            <summary style=\"margin-bottom: 20px;\"><h3 style=\"display: inline;\">Cluster Info</h3></summary>\n",
       "            <div class=\"jp-RenderedHTMLCommon jp-RenderedHTML jp-mod-trusted jp-OutputArea-output\">\n",
       "    <div style=\"width: 24px; height: 24px; background-color: #e1e1e1; border: 3px solid #9D9D9D; border-radius: 5px; position: absolute;\">\n",
       "    </div>\n",
       "    <div style=\"margin-left: 48px;\">\n",
       "        <h3 style=\"margin-bottom: 0px; margin-top: 0px;\">SLURMCluster</h3>\n",
       "        <p style=\"color: #9D9D9D; margin-bottom: 0px;\">c64cf50d</p>\n",
       "        <table style=\"width: 100%; text-align: left;\">\n",
       "            <tr>\n",
       "                <td style=\"text-align: left;\">\n",
       "                    <strong>Dashboard:</strong> <a href=\"/proxy/8787/status\" target=\"_blank\">/proxy/8787/status</a>\n",
       "                </td>\n",
       "                <td style=\"text-align: left;\">\n",
       "                    <strong>Workers:</strong> 0\n",
       "                </td>\n",
       "            </tr>\n",
       "            <tr>\n",
       "                <td style=\"text-align: left;\">\n",
       "                    <strong>Total threads:</strong> 0\n",
       "                </td>\n",
       "                <td style=\"text-align: left;\">\n",
       "                    <strong>Total memory:</strong> 0 B\n",
       "                </td>\n",
       "            </tr>\n",
       "            \n",
       "        </table>\n",
       "\n",
       "        <details>\n",
       "            <summary style=\"margin-bottom: 20px;\">\n",
       "                <h3 style=\"display: inline;\">Scheduler Info</h3>\n",
       "            </summary>\n",
       "\n",
       "            <div style=\"\">\n",
       "    <div>\n",
       "        <div style=\"width: 24px; height: 24px; background-color: #FFF7E5; border: 3px solid #FF6132; border-radius: 5px; position: absolute;\"> </div>\n",
       "        <div style=\"margin-left: 48px;\">\n",
       "            <h3 style=\"margin-bottom: 0px;\">Scheduler</h3>\n",
       "            <p style=\"color: #9D9D9D; margin-bottom: 0px;\">Scheduler-ede5e885-19ab-4c1c-8bdc-c47ac6827b77</p>\n",
       "            <table style=\"width: 100%; text-align: left;\">\n",
       "                <tr>\n",
       "                    <td style=\"text-align: left;\">\n",
       "                        <strong>Comm:</strong> tcp://10.6.1.101:34463\n",
       "                    </td>\n",
       "                    <td style=\"text-align: left;\">\n",
       "                        <strong>Workers:</strong> 0\n",
       "                    </td>\n",
       "                </tr>\n",
       "                <tr>\n",
       "                    <td style=\"text-align: left;\">\n",
       "                        <strong>Dashboard:</strong> <a href=\"/proxy/8787/status\" target=\"_blank\">/proxy/8787/status</a>\n",
       "                    </td>\n",
       "                    <td style=\"text-align: left;\">\n",
       "                        <strong>Total threads:</strong> 0\n",
       "                    </td>\n",
       "                </tr>\n",
       "                <tr>\n",
       "                    <td style=\"text-align: left;\">\n",
       "                        <strong>Started:</strong> Just now\n",
       "                    </td>\n",
       "                    <td style=\"text-align: left;\">\n",
       "                        <strong>Total memory:</strong> 0 B\n",
       "                    </td>\n",
       "                </tr>\n",
       "            </table>\n",
       "        </div>\n",
       "    </div>\n",
       "\n",
       "    <details style=\"margin-left: 48px;\">\n",
       "        <summary style=\"margin-bottom: 20px;\">\n",
       "            <h3 style=\"display: inline;\">Workers</h3>\n",
       "        </summary>\n",
       "\n",
       "        \n",
       "\n",
       "    </details>\n",
       "</div>\n",
       "\n",
       "        </details>\n",
       "    </div>\n",
       "</div>\n",
       "            </details>\n",
       "        \n",
       "\n",
       "    </div>\n",
       "</div>"
      ],
      "text/plain": [
       "<Client: 'tcp://10.6.1.101:34463' processes=0 threads=0, memory=0 B>"
      ]
     },
     "execution_count": 5,
     "metadata": {},
     "output_type": "execute_result"
    }
   ],
   "source": [
    "##############\n",
    "#### Dask ####\n",
    "##############\n",
    "from dask_jobqueue import SLURMCluster\n",
    "\n",
    "cluster = SLURMCluster(\n",
    "    account=\"pches\",\n",
    "    # account=\"open\",\n",
    "    cores=1,\n",
    "    memory=\"120GB\",\n",
    "    walltime=\"00:20:00\"\n",
    ")\n",
    "\n",
    "cluster.scale(jobs=2)  # ask for jobs\n",
    "\n",
    "from dask.distributed import Client\n",
    "\n",
    "client = Client(cluster)\n",
    "\n",
    "client"
   ]
  },
  {
   "cell_type": "markdown",
   "id": "c61e47a7-0acb-465d-bcdd-3b289f115889",
   "metadata": {
    "tags": []
   },
   "source": [
    "### Regridding"
   ]
  },
  {
   "cell_type": "code",
   "execution_count": 8,
   "id": "f793f696-df8b-4a26-982b-fb3edf028bd5",
   "metadata": {
    "tags": []
   },
   "outputs": [],
   "source": [
    "#######################\n",
    "# Regridding function #\n",
    "#######################\n",
    "def regrid_cmip(model, member, ssp, var, cmip_path, out_path):\n",
    "    \"\"\"\n",
    "    Regridding function\n",
    "    Inputs: native CMIP6 model outputs\n",
    "    Output: regridded model outputs to common 1x1deg grid\n",
    "    \"\"\"\n",
    "    # Function to get CMIP paths\n",
    "    def get_cmip_paths(model, member, ssp, var, cmip_path):\n",
    "        dir_path = cmip_path + model + \"/\" + ssp + \"/\"\n",
    "\n",
    "        if model == \"CESM2-LENS\":\n",
    "            # Get SSP name\n",
    "            ssp_names = {\"historical\": \"HIST\", \"ssp370\": \"SSP370\"}\n",
    "            ssp_name = ssp_names[ssp]\n",
    "    \n",
    "            # Get 'member' name\n",
    "            member_name = member.split(\"i\")[0].replace(\"r\", \"\").zfill(3)\n",
    "    \n",
    "            # Get var name\n",
    "            var_names = {\"tas\": \"TS\", \"tasmax\": \"TSMX\", \"tasmin\": \"TSMN\", \"pr\": \"PRECT\"}\n",
    "            var_name = var_names[var]\n",
    "    \n",
    "            return glob.glob(dir_path + \"b.e21.B\" + ssp_name + \"cmip6.f09_g17.LE2-*.\" + member_name + \".cam.h1.\" + var_name + \".*\")\n",
    "        else:\n",
    "            return glob.glob(dir_path + var + \"_day_\" + model + \"_\" + ssp + \"_\" + member + \"_*\")\n",
    "\n",
    "    # Check if done\n",
    "    if ssp == \"historical\":\n",
    "        out_date = \"19500101-20141231\"\n",
    "    else:\n",
    "        out_date = \"20150101-21001231\"\n",
    "    if os.path.isfile(out_path + var + \"_day_\" + model + \"_\" + ssp + \"_\" + member + \"_common1deg_\" + out_date + \".nc\"):\n",
    "        return None\n",
    "    else:\n",
    "        try:\n",
    "            # Read native\n",
    "            if model == \"CESM2-LENS\":\n",
    "                var_names = {\"tas\": \"TS\", \"tasmax\": \"TSMX\", \"tasmin\": \"TSMN\", \"pr\": \"PRECT\"}\n",
    "                var_name = var_names[var]\n",
    "            else:\n",
    "                var_name = var\n",
    "                \n",
    "            ds = xr.concat(\n",
    "                [xr.open_dataset(path) for path in get_cmip_paths(model, member, ssp, var, cmip_path)],\n",
    "                dim=\"time\",\n",
    "                combine_attrs=\"drop_conflicts\",\n",
    "                data_vars=[var_name],\n",
    "            ).sortby(\"time\")\n",
    "            \n",
    "            # Rename CESM2-LENS\n",
    "            if model == \"CESM2-LENS\":\n",
    "                ds = ds[[var_name]]\n",
    "                ds = ds.rename({var_name:var})\n",
    "\n",
    "            # Select approproiate time period\n",
    "            if model in [\"KACE-1-0-G\", \"HadGEM3-GC31-LL\", \"HadGEM3-GC31-MM\"]:\n",
    "                end_date = \"12-30\"\n",
    "            else:\n",
    "                end_date = \"12-31\"\n",
    "\n",
    "            if ssp == \"historical\":\n",
    "                ds = ds.sel(time=slice(\"1950-01-01\", \"2014-\" + end_date))\n",
    "            else:\n",
    "                ds = ds.sel(time=slice(\"2015-01-01\", \"2100-\" + end_date))\n",
    "\n",
    "            # Construct regridder\n",
    "            ds_grid = xr.Dataset(\n",
    "                {\n",
    "                    \"lat\": ([\"lat\"], np.arange(-90, 90, 1.0), {\"units\": \"degrees_north\"}),\n",
    "                    \"lon\": ([\"lon\"], np.arange(0, 360, 1.0), {\"units\": \"degrees_east\"}),\n",
    "                }\n",
    "            )\n",
    "\n",
    "            regridder = xe.Regridder(ds, ds_grid, \"conservative\")\n",
    "\n",
    "            # Perform regridding\n",
    "            ds_out = regridder(ds, keep_attrs=True)\n",
    "\n",
    "            # Store\n",
    "            if ssp == \"historical\":\n",
    "                out_date = \"19500101-20141231\"\n",
    "            else:\n",
    "                out_date = \"20150101-21001231\"\n",
    "            ds_out.to_netcdf(\n",
    "                out_path + var + \"_day_\" + model + \"_\" + ssp + \"_\" + member + \"_common1deg_\" + out_date + \".nc\"\n",
    "            )\n",
    "        except Exception as e:\n",
    "            except_path = \"/storage/home/dcl5300/work/current_projects/loca_cmip6_uc_lafferty-sriver-2024-tbd/code/out/\"\n",
    "            with open(except_path + model + \"_\" + member + \"_\" + ssp + \"_\" + var + \".txt\", \"w\") as f:\n",
    "                f.write(str(e))"
   ]
  },
  {
   "cell_type": "code",
   "execution_count": 9,
   "id": "aff60d7d-525f-4b30-91b1-84d00ce73af0",
   "metadata": {
    "tags": []
   },
   "outputs": [],
   "source": [
    "# Loop over all instances using dask delayed\n",
    "delayed = []\n",
    "\n",
    "for model in models:\n",
    "    for ssp in list(loca_analyze[model].keys()):\n",
    "        for member in loca_analyze[model][ssp]:\n",
    "            for var in [\"tas\", \"tasmax\", \"tasmin\", \"pr\"]:\n",
    "                delayed.append(dask.delayed(regrid_cmip)(model, member, ssp, var, cmip_path, out_path))\n",
    "\n",
    "# Compute\n",
    "_ = dask.compute(*delayed)"
   ]
  },
  {
   "cell_type": "markdown",
   "id": "bbb517f2-c19f-4569-a5fd-fccb38a20703",
   "metadata": {},
   "source": [
    "## Regridding Lehner 2020 ESD results"
   ]
  },
  {
   "cell_type": "code",
   "execution_count": 4,
   "id": "444b1d08-fcbc-421b-8cb1-165336414d07",
   "metadata": {},
   "outputs": [],
   "source": [
    "################\n",
    "#### Paths #####\n",
    "################\n",
    "# Update these for reproduction\n",
    "data_path = \"/gpfs/group/kaf26/default/dcl5300/loca_cmip6_uc_lafferty-sriver-2024-tbd_DATA/\""
   ]
  },
  {
   "cell_type": "code",
   "execution_count": 5,
   "id": "b9516c68-ce25-4e04-bb3c-5fcbf819ff56",
   "metadata": {},
   "outputs": [],
   "source": [
    "# Read Lehner \n",
    "ds_l20_tas = xr.open_dataset(f\"{data_path}/lehner_results/lehner20esd_fractional_uncertainty_tas.nc\")\n",
    "ds_l20_pr = xr.open_dataset(f\"{data_path}/lehner_results/lehner20esd_fractional_uncertainty_pr.nc\")"
   ]
  },
  {
   "cell_type": "code",
   "execution_count": 6,
   "id": "241c2b4c-a0ec-4304-b182-9e1f924c4f7d",
   "metadata": {},
   "outputs": [],
   "source": [
    "# Construct regridder\n",
    "ds_grid = xr.Dataset(\n",
    "    {\n",
    "        \"lat\": ([\"lat\"], np.arange(-90, 90, 1.0), {\"units\": \"degrees_north\"}),\n",
    "        \"lon\": ([\"lon\"], np.arange(0, 360, 1.0), {\"units\": \"degrees_east\"}),\n",
    "    }\n",
    ")"
   ]
  },
  {
   "cell_type": "code",
   "execution_count": 7,
   "id": "824ddbf5-dbe7-4dd1-b2fc-7187a87c9fd5",
   "metadata": {},
   "outputs": [
    {
     "name": "stderr",
     "output_type": "stream",
     "text": [
      "/storage/work/d/dcl5300/ENVS/micromamba/envs/climate-stack-mamba-2023-01/lib/python3.10/site-packages/xesmf/backend.py:56: UserWarning: Latitude is outside of [-90, 90]\n",
      "  warnings.warn('Latitude is outside of [-90, 90]')\n"
     ]
    }
   ],
   "source": [
    "# Perform regridding\n",
    "regridder = xe.Regridder(ds_l20_tas, ds_grid, \"conservative\")\n",
    "ds_l20_tas = regridder(ds_l20_tas, keep_attrs=True)"
   ]
  },
  {
   "cell_type": "code",
   "execution_count": 9,
   "id": "112eefd4-722a-483d-b432-a319bfc47c6c",
   "metadata": {},
   "outputs": [],
   "source": [
    "# Store\n",
    "ds_l20_tas.to_netcdf(f\"{data_path}/lehner_results/lehner20esd_fractional_uncertainty_tas_common1deg.nc\")"
   ]
  },
  {
   "cell_type": "code",
   "execution_count": 10,
   "id": "66183ca3-b4bb-4278-a1b0-5f6fd4d6e724",
   "metadata": {},
   "outputs": [
    {
     "name": "stderr",
     "output_type": "stream",
     "text": [
      "/storage/work/d/dcl5300/ENVS/micromamba/envs/climate-stack-mamba-2023-01/lib/python3.10/site-packages/xesmf/backend.py:56: UserWarning: Latitude is outside of [-90, 90]\n",
      "  warnings.warn('Latitude is outside of [-90, 90]')\n"
     ]
    }
   ],
   "source": [
    "# Perform regridding\n",
    "regridder = xe.Regridder(ds_l20_pr, ds_grid, \"conservative\")\n",
    "ds_l20_pr = regridder(ds_l20_pr, keep_attrs=True)"
   ]
  },
  {
   "cell_type": "code",
   "execution_count": 11,
   "id": "b838cab0-1485-497f-a004-07e547738b10",
   "metadata": {},
   "outputs": [],
   "source": [
    "# Store\n",
    "ds_l20_pr.to_netcdf(f\"{data_path}/lehner_results/lehner20esd_fractional_uncertainty_pr_common1deg.nc\")"
   ]
  },
  {
   "cell_type": "code",
   "execution_count": null,
   "id": "4e97e4cd-35de-4d60-9bed-41f6bcb51ec2",
   "metadata": {},
   "outputs": [],
   "source": []
  }
 ],
 "metadata": {
  "kernelspec": {
   "display_name": "Python 3 (ipykernel)",
   "language": "python",
   "name": "python3"
  },
  "language_info": {
   "codemirror_mode": {
    "name": "ipython",
    "version": 3
   },
   "file_extension": ".py",
   "mimetype": "text/x-python",
   "name": "python",
   "nbconvert_exporter": "python",
   "pygments_lexer": "ipython3",
   "version": "3.11.6"
  }
 },
 "nbformat": 4,
 "nbformat_minor": 5
}
