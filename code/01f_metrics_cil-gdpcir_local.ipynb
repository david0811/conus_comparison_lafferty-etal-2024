{
 "cells": [
  {
   "cell_type": "code",
   "execution_count": 1,
   "id": "d3b39b39-d776-4d5b-9d22-1a39ba20e7c1",
   "metadata": {},
   "outputs": [],
   "source": [
    "import os\n",
    "from glob import glob\n",
    "\n",
    "import dask\n",
    "import numpy as np\n",
    "import pandas as pd\n",
    "import xarray as xr\n",
    "import xesmf as xe\n",
    "\n",
    "from functools import partial\n",
    "\n",
    "from utils import city_list"
   ]
  },
  {
   "cell_type": "code",
   "execution_count": 2,
   "id": "acd839dc-45a6-43d6-8776-70b507211399",
   "metadata": {},
   "outputs": [],
   "source": [
    "################\n",
    "#### Paths #####\n",
    "################\n",
    "# Update these for reproduction\n",
    "\n",
    "project_data_path = \"/storage/group/pches/default/users/dcl5300/conus_comparison_lafferty-etal-2024/\"\n",
    "project_code_path = \"/storage/home/dcl5300/work/current_projects/conus_comparison_lafferty-etal-2024/\""
   ]
  },
  {
   "cell_type": "code",
   "execution_count": 3,
   "id": "64a76675-f8e0-4a57-9ae5-8169037567d7",
   "metadata": {},
   "outputs": [
    {
     "data": {
      "text/html": [
       "<div>\n",
       "    <div style=\"width: 24px; height: 24px; background-color: #e1e1e1; border: 3px solid #9D9D9D; border-radius: 5px; position: absolute;\"> </div>\n",
       "    <div style=\"margin-left: 48px;\">\n",
       "        <h3 style=\"margin-bottom: 0px;\">Client</h3>\n",
       "        <p style=\"color: #9D9D9D; margin-bottom: 0px;\">Client-ad9fc6aa-bba3-11ee-a742-00001029fe80</p>\n",
       "        <table style=\"width: 100%; text-align: left;\">\n",
       "\n",
       "        <tr>\n",
       "        \n",
       "            <td style=\"text-align: left;\"><strong>Connection method:</strong> Cluster object</td>\n",
       "            <td style=\"text-align: left;\"><strong>Cluster type:</strong> dask_jobqueue.SLURMCluster</td>\n",
       "        \n",
       "        </tr>\n",
       "\n",
       "        \n",
       "            <tr>\n",
       "                <td style=\"text-align: left;\">\n",
       "                    <strong>Dashboard: </strong> <a href=\"/proxy/8787/status\" target=\"_blank\">/proxy/8787/status</a>\n",
       "                </td>\n",
       "                <td style=\"text-align: left;\"></td>\n",
       "            </tr>\n",
       "        \n",
       "\n",
       "        </table>\n",
       "\n",
       "        \n",
       "            <button style=\"margin-bottom: 12px;\" data-commandlinker-command=\"dask:populate-and-launch-layout\" data-commandlinker-args='{\"url\": \"/proxy/8787/status\" }'>\n",
       "                Launch dashboard in JupyterLab\n",
       "            </button>\n",
       "        \n",
       "\n",
       "        \n",
       "            <details>\n",
       "            <summary style=\"margin-bottom: 20px;\"><h3 style=\"display: inline;\">Cluster Info</h3></summary>\n",
       "            <div class=\"jp-RenderedHTMLCommon jp-RenderedHTML jp-mod-trusted jp-OutputArea-output\">\n",
       "    <div style=\"width: 24px; height: 24px; background-color: #e1e1e1; border: 3px solid #9D9D9D; border-radius: 5px; position: absolute;\">\n",
       "    </div>\n",
       "    <div style=\"margin-left: 48px;\">\n",
       "        <h3 style=\"margin-bottom: 0px; margin-top: 0px;\">SLURMCluster</h3>\n",
       "        <p style=\"color: #9D9D9D; margin-bottom: 0px;\">23e24edf</p>\n",
       "        <table style=\"width: 100%; text-align: left;\">\n",
       "            <tr>\n",
       "                <td style=\"text-align: left;\">\n",
       "                    <strong>Dashboard:</strong> <a href=\"/proxy/8787/status\" target=\"_blank\">/proxy/8787/status</a>\n",
       "                </td>\n",
       "                <td style=\"text-align: left;\">\n",
       "                    <strong>Workers:</strong> 0\n",
       "                </td>\n",
       "            </tr>\n",
       "            <tr>\n",
       "                <td style=\"text-align: left;\">\n",
       "                    <strong>Total threads:</strong> 0\n",
       "                </td>\n",
       "                <td style=\"text-align: left;\">\n",
       "                    <strong>Total memory:</strong> 0 B\n",
       "                </td>\n",
       "            </tr>\n",
       "            \n",
       "        </table>\n",
       "\n",
       "        <details>\n",
       "            <summary style=\"margin-bottom: 20px;\">\n",
       "                <h3 style=\"display: inline;\">Scheduler Info</h3>\n",
       "            </summary>\n",
       "\n",
       "            <div style=\"\">\n",
       "    <div>\n",
       "        <div style=\"width: 24px; height: 24px; background-color: #FFF7E5; border: 3px solid #FF6132; border-radius: 5px; position: absolute;\"> </div>\n",
       "        <div style=\"margin-left: 48px;\">\n",
       "            <h3 style=\"margin-bottom: 0px;\">Scheduler</h3>\n",
       "            <p style=\"color: #9D9D9D; margin-bottom: 0px;\">Scheduler-ae937624-1656-4aa8-9754-52e0c4737a68</p>\n",
       "            <table style=\"width: 100%; text-align: left;\">\n",
       "                <tr>\n",
       "                    <td style=\"text-align: left;\">\n",
       "                        <strong>Comm:</strong> tcp://10.6.0.160:40655\n",
       "                    </td>\n",
       "                    <td style=\"text-align: left;\">\n",
       "                        <strong>Workers:</strong> 0\n",
       "                    </td>\n",
       "                </tr>\n",
       "                <tr>\n",
       "                    <td style=\"text-align: left;\">\n",
       "                        <strong>Dashboard:</strong> <a href=\"/proxy/8787/status\" target=\"_blank\">/proxy/8787/status</a>\n",
       "                    </td>\n",
       "                    <td style=\"text-align: left;\">\n",
       "                        <strong>Total threads:</strong> 0\n",
       "                    </td>\n",
       "                </tr>\n",
       "                <tr>\n",
       "                    <td style=\"text-align: left;\">\n",
       "                        <strong>Started:</strong> Just now\n",
       "                    </td>\n",
       "                    <td style=\"text-align: left;\">\n",
       "                        <strong>Total memory:</strong> 0 B\n",
       "                    </td>\n",
       "                </tr>\n",
       "            </table>\n",
       "        </div>\n",
       "    </div>\n",
       "\n",
       "    <details style=\"margin-left: 48px;\">\n",
       "        <summary style=\"margin-bottom: 20px;\">\n",
       "            <h3 style=\"display: inline;\">Workers</h3>\n",
       "        </summary>\n",
       "\n",
       "        \n",
       "\n",
       "    </details>\n",
       "</div>\n",
       "\n",
       "        </details>\n",
       "    </div>\n",
       "</div>\n",
       "            </details>\n",
       "        \n",
       "\n",
       "    </div>\n",
       "</div>"
      ],
      "text/plain": [
       "<Client: 'tcp://10.6.0.160:40655' processes=0 threads=0, memory=0 B>"
      ]
     },
     "execution_count": 3,
     "metadata": {},
     "output_type": "execute_result"
    }
   ],
   "source": [
    "############\n",
    "### Dask ###\n",
    "############\n",
    "from dask_jobqueue import SLURMCluster\n",
    "\n",
    "cluster = SLURMCluster(\n",
    "    # account=\"pches\",\n",
    "    account=\"open\",\n",
    "    cores=1,\n",
    "    memory=\"4GiB\",\n",
    "    walltime=\"00:10:00\"\n",
    ")\n",
    "\n",
    "cluster.scale(jobs=10)  # ask for jobs\n",
    "\n",
    "from dask.distributed import Client\n",
    "\n",
    "client = Client(cluster)\n",
    "\n",
    "client"
   ]
  },
  {
   "cell_type": "markdown",
   "id": "d5b39f75-3068-4e89-bdd8-a6b57de1ce9f",
   "metadata": {
    "jp-MarkdownHeadingCollapsed": true
   },
   "source": [
    "# Regridding"
   ]
  },
  {
   "cell_type": "code",
   "execution_count": 5,
   "id": "efcd9116-76db-4794-a647-78e0d9b83271",
   "metadata": {},
   "outputs": [],
   "source": [
    "# Get models\n",
    "models = os.listdir(f\"{project_data_path}/metrics/CIL-GDPCIR/conus-comparison/\")"
   ]
  },
  {
   "cell_type": "markdown",
   "id": "c0cf278d-c34b-4ad3-94a7-b47d9ece7cea",
   "metadata": {
    "jp-MarkdownHeadingCollapsed": true
   },
   "source": [
    "### Conservative"
   ]
  },
  {
   "cell_type": "code",
   "execution_count": 6,
   "id": "a39b7f8e-44f0-456a-a7fc-8f63643b206e",
   "metadata": {},
   "outputs": [],
   "source": [
    "# Get CIL grid\n",
    "ds_in = xr.open_zarr(f\"{project_data_path}/metrics/CIL-GDPCIR/conus-comparison/{models[0]}\")"
   ]
  },
  {
   "cell_type": "code",
   "execution_count": 7,
   "id": "19565ce1-d358-4512-b724-46983ad3d55d",
   "metadata": {},
   "outputs": [],
   "source": [
    "# We use LOCA grid as target\n",
    "loca_lat_grid = np.linspace(23.90625, 53.46875, 474)\n",
    "loca_lon_grid = np.linspace(234.53125, 293.46875, 944)\n",
    "\n",
    "ds_out = xr.Dataset({\"lat\": ([\"lat\"], loca_lat_grid,\n",
    "                             {\"standard_name\": \"latitude\", \"units\": \"degrees_north\"}),\n",
    "                     \"lon\": ([\"lon\"], loca_lon_grid,\n",
    "                             {\"standard_name\": \"longitude\", \"units\": \"degrees_east\"})\n",
    "                    })\n",
    "\n",
    "# Add mask from LOCA output\n",
    "loca_nans = np.load(f'{project_code_path}/code/utils/LOCA2_NaNs.npy')\n",
    "ds_out[\"mask\"] = xr.DataArray(~loca_nans, dims=['lat','lon'])\n",
    "\n",
    "# Conservative\n",
    "regridder = xe.Regridder(ds_in, ds_out, \"conservative\")"
   ]
  },
  {
   "cell_type": "code",
   "execution_count": 8,
   "id": "c7200891-7dff-4d80-8aba-9d56b165940b",
   "metadata": {
    "scrolled": true
   },
   "outputs": [
    {
     "name": "stderr",
     "output_type": "stream",
     "text": [
      "/storage/home/dcl5300/miniforge3/envs/climate-stack-mamba-2023-12/lib/python3.11/site-packages/distributed/client.py:3162: UserWarning: Sending large graph of size 12.64 MiB.\n",
      "This may cause some slowdown.\n",
      "Consider scattering data ahead of time and using futures.\n",
      "  warnings.warn(\n"
     ]
    },
    {
     "name": "stdout",
     "output_type": "stream",
     "text": [
      "GFDL-ESM4\n"
     ]
    },
    {
     "name": "stderr",
     "output_type": "stream",
     "text": [
      "/storage/home/dcl5300/miniforge3/envs/climate-stack-mamba-2023-12/lib/python3.11/site-packages/distributed/client.py:3162: UserWarning: Sending large graph of size 12.49 MiB.\n",
      "This may cause some slowdown.\n",
      "Consider scattering data ahead of time and using futures.\n",
      "  warnings.warn(\n"
     ]
    },
    {
     "name": "stdout",
     "output_type": "stream",
     "text": [
      "HadGEM3-GC31-LL\n"
     ]
    },
    {
     "name": "stderr",
     "output_type": "stream",
     "text": [
      "/storage/home/dcl5300/miniforge3/envs/climate-stack-mamba-2023-12/lib/python3.11/site-packages/distributed/client.py:3162: UserWarning: Sending large graph of size 12.64 MiB.\n",
      "This may cause some slowdown.\n",
      "Consider scattering data ahead of time and using futures.\n",
      "  warnings.warn(\n"
     ]
    },
    {
     "name": "stdout",
     "output_type": "stream",
     "text": [
      "INM-CM4-8\n"
     ]
    },
    {
     "name": "stderr",
     "output_type": "stream",
     "text": [
      "/storage/home/dcl5300/miniforge3/envs/climate-stack-mamba-2023-12/lib/python3.11/site-packages/distributed/client.py:3162: UserWarning: Sending large graph of size 12.64 MiB.\n",
      "This may cause some slowdown.\n",
      "Consider scattering data ahead of time and using futures.\n",
      "  warnings.warn(\n"
     ]
    },
    {
     "name": "stdout",
     "output_type": "stream",
     "text": [
      "INM-CM5-0\n"
     ]
    },
    {
     "name": "stderr",
     "output_type": "stream",
     "text": [
      "/storage/home/dcl5300/miniforge3/envs/climate-stack-mamba-2023-12/lib/python3.11/site-packages/distributed/client.py:3162: UserWarning: Sending large graph of size 12.64 MiB.\n",
      "This may cause some slowdown.\n",
      "Consider scattering data ahead of time and using futures.\n",
      "  warnings.warn(\n"
     ]
    },
    {
     "name": "stdout",
     "output_type": "stream",
     "text": [
      "MIROC-ES2L\n"
     ]
    },
    {
     "name": "stderr",
     "output_type": "stream",
     "text": [
      "/storage/home/dcl5300/miniforge3/envs/climate-stack-mamba-2023-12/lib/python3.11/site-packages/distributed/client.py:3162: UserWarning: Sending large graph of size 12.64 MiB.\n",
      "This may cause some slowdown.\n",
      "Consider scattering data ahead of time and using futures.\n",
      "  warnings.warn(\n"
     ]
    },
    {
     "name": "stdout",
     "output_type": "stream",
     "text": [
      "MIROC6\n"
     ]
    },
    {
     "name": "stderr",
     "output_type": "stream",
     "text": [
      "/storage/home/dcl5300/miniforge3/envs/climate-stack-mamba-2023-12/lib/python3.11/site-packages/distributed/client.py:3162: UserWarning: Sending large graph of size 12.34 MiB.\n",
      "This may cause some slowdown.\n",
      "Consider scattering data ahead of time and using futures.\n",
      "  warnings.warn(\n"
     ]
    },
    {
     "name": "stdout",
     "output_type": "stream",
     "text": [
      "MPI-ESM1-2-HR\n"
     ]
    },
    {
     "name": "stderr",
     "output_type": "stream",
     "text": [
      "/storage/home/dcl5300/miniforge3/envs/climate-stack-mamba-2023-12/lib/python3.11/site-packages/distributed/client.py:3162: UserWarning: Sending large graph of size 12.64 MiB.\n",
      "This may cause some slowdown.\n",
      "Consider scattering data ahead of time and using futures.\n",
      "  warnings.warn(\n"
     ]
    },
    {
     "name": "stdout",
     "output_type": "stream",
     "text": [
      "MPI-ESM1-2-LR\n"
     ]
    },
    {
     "name": "stderr",
     "output_type": "stream",
     "text": [
      "/storage/home/dcl5300/miniforge3/envs/climate-stack-mamba-2023-12/lib/python3.11/site-packages/distributed/client.py:3162: UserWarning: Sending large graph of size 12.49 MiB.\n",
      "This may cause some slowdown.\n",
      "Consider scattering data ahead of time and using futures.\n",
      "  warnings.warn(\n"
     ]
    },
    {
     "name": "stdout",
     "output_type": "stream",
     "text": [
      "NESM3\n"
     ]
    },
    {
     "name": "stderr",
     "output_type": "stream",
     "text": [
      "/storage/home/dcl5300/miniforge3/envs/climate-stack-mamba-2023-12/lib/python3.11/site-packages/distributed/client.py:3162: UserWarning: Sending large graph of size 12.64 MiB.\n",
      "This may cause some slowdown.\n",
      "Consider scattering data ahead of time and using futures.\n",
      "  warnings.warn(\n"
     ]
    },
    {
     "name": "stdout",
     "output_type": "stream",
     "text": [
      "NorESM2-LM\n"
     ]
    },
    {
     "name": "stderr",
     "output_type": "stream",
     "text": [
      "/storage/home/dcl5300/miniforge3/envs/climate-stack-mamba-2023-12/lib/python3.11/site-packages/distributed/client.py:3162: UserWarning: Sending large graph of size 12.64 MiB.\n",
      "This may cause some slowdown.\n",
      "Consider scattering data ahead of time and using futures.\n",
      "  warnings.warn(\n"
     ]
    },
    {
     "name": "stdout",
     "output_type": "stream",
     "text": [
      "NorESM2-MM\n"
     ]
    },
    {
     "name": "stderr",
     "output_type": "stream",
     "text": [
      "/storage/home/dcl5300/miniforge3/envs/climate-stack-mamba-2023-12/lib/python3.11/site-packages/distributed/client.py:3162: UserWarning: Sending large graph of size 12.64 MiB.\n",
      "This may cause some slowdown.\n",
      "Consider scattering data ahead of time and using futures.\n",
      "  warnings.warn(\n"
     ]
    },
    {
     "name": "stdout",
     "output_type": "stream",
     "text": [
      "UKESM1-0-LL\n",
      "CPU times: user 8min 55s, sys: 33.5 s, total: 9min 29s\n",
      "Wall time: 26min 15s\n"
     ]
    }
   ],
   "source": [
    "%%time\n",
    "# Out path\n",
    "out_path = f\"{project_data_path}/metrics_regridded/CIL-GDPCIR/conservative\"\n",
    "\n",
    "# Loop through all\n",
    "for model in models:\n",
    "    if not os.path.isfile(f\"{out_path}/{model}.nc\"):\n",
    "        # Read\n",
    "        ds_cil_in = xr.open_zarr(f\"{project_data_path}/metrics/CIL-GDPCIR/conus-comparison/{model}\")\n",
    "        \n",
    "        # Regrid lazy\n",
    "        # NOTE: use high NaN threshold to try to not introduce NaNs\n",
    "        # not already present in the LOCA2 grid\n",
    "        ds_cil_out = regridder(ds_cil_in, skipna=True, na_thres=0.99)\n",
    "        \n",
    "        # Store\n",
    "        ds_cil_out.to_netcdf(f\"{out_path}/{model}.nc\")\n",
    "        print(model)"
   ]
  },
  {
   "cell_type": "markdown",
   "id": "ff68ebbb-7257-4021-bece-fe0965084daa",
   "metadata": {},
   "source": [
    "# Summaries"
   ]
  },
  {
   "cell_type": "markdown",
   "id": "b3763144-6f40-46fa-b593-b393f01b548e",
   "metadata": {
    "jp-MarkdownHeadingCollapsed": true
   },
   "source": [
    "## Indices"
   ]
  },
  {
   "cell_type": "code",
   "execution_count": null,
   "id": "2ec3f2cd-3f6e-4c8f-8f8a-2c29ac94b6e6",
   "metadata": {},
   "outputs": [],
   "source": [
    "# Simple preprocessing function to add model and year coordinates\n",
    "def _preprocess(ds, ssp):\n",
    "    # Add model coordinate\n",
    "    model = ds.encoding['source'].split('/')[-1].split('_')[0][:-3]\n",
    "    ds = ds.assign_coords(model = model)\n",
    "\n",
    "    # Select SSP\n",
    "    if ssp in ds.ssp:\n",
    "        ds = ds.sel(ssp=ssp)\n",
    "    else:\n",
    "        return None\n",
    "\n",
    "    # for some reason CanESM5 has 2 of each ssp (but identical)\n",
    "    if model == 'CanESM5':\n",
    "        ds = ds.isel(ssp=0)\n",
    "\n",
    "    # Time -> year\n",
    "    ds['time'] = ds['time'].dt.year\n",
    "\n",
    "    return ds"
   ]
  },
  {
   "cell_type": "code",
   "execution_count": 10,
   "id": "5088948f-baf3-494a-bba7-6adf6914cfd1",
   "metadata": {},
   "outputs": [],
   "source": [
    "# Calculates summary indices for CIL-GDPCIR ensemble for given SSP\n",
    "def get_summary_indices(ssp, years, out_path, out_str):\n",
    "    \"\"\"\n",
    "    Current summary indices calculated: mean, 99th quantile, 99% quantile range\n",
    "    `years` define the window over which all outputs are pooled. \n",
    "    \"\"\"\n",
    "    # Check if done\n",
    "    if not os.path.isfile(f\"{out_path}/{out_str}.nc\"):\n",
    "        # Partial preprocessing\n",
    "        _partial_preprocess = partial(_preprocess, ssp=ssp)\n",
    "\n",
    "        # Read all files\n",
    "        files = glob(f\"{project_data_path}/metrics_regridded/CIL-GDPCIR/conservative/*.nc\")\n",
    "        ds_list = [_partial_preprocess(xr.open_dataset(file, chunks='auto')) for file in files]\n",
    "        # Remove Nones (mising SSP)\n",
    "        ds_list = [ds for ds in ds_list if ds != None]\n",
    "        # Combine\n",
    "        ds = xr.combine_nested(ds_list, concat_dim='model')\n",
    "\n",
    "        # Time slice\n",
    "        ds_sel = ds.sel(time=slice(years[0],years[1]))\n",
    "    \n",
    "        ## Summary indices\n",
    "        # Mean\n",
    "        ds_mean = ds_sel.mean(dim=['model', 'time']).assign_coords(indice = 'mean')\n",
    "        # Quantiles\n",
    "        ds_qlow = ds_sel.chunk(dict(model=-1, time=-1)).quantile(0.005, dim=['model', 'time'])\n",
    "        ds_qhigh = ds_sel.chunk(dict(model=-1, time=-1)).quantile(0.995, dim=['model', 'time'])\n",
    "        ds_qrange = (ds_qhigh - ds_qlow).assign_coords(indice = '99range')\n",
    "    \n",
    "        ds_q99 = ds_sel.chunk(dict(model=-1, time=-1)).quantile(0.99, dim=['model', 'time']).assign_coords(indice = 'q99')\n",
    "\n",
    "        # Store\n",
    "        ds_out = xr.concat([ds_mean, ds_qrange, ds_q99], dim='indice')\n",
    "        ds_out.to_netcdf(f\"{out_path}/{out_str}.nc\")"
   ]
  },
  {
   "cell_type": "code",
   "execution_count": null,
   "id": "00ccc8a0-85ac-479f-994d-24c9423e22bc",
   "metadata": {},
   "outputs": [],
   "source": [
    "%%time\n",
    "for years in [[2020,2040], [2050,2070], [2080,2100]]:\n",
    "    for ssp in ['ssp245', 'ssp370', 'ssp585']:\n",
    "        get_summary_indices(ssp=ssp, years=years,\n",
    "                            out_path=f\"{project_data_path}/summary_indices\",\n",
    "                            out_str=f\"CIL-GDPCIR_{ssp}_{str(years[0])}-{str(years[1])}\")"
   ]
  },
  {
   "cell_type": "markdown",
   "id": "164b6f65-f699-4567-bf9c-221b42a75ef4",
   "metadata": {},
   "source": [
    "## Raw data"
   ]
  },
  {
   "cell_type": "code",
   "execution_count": 4,
   "id": "f2c9db76-495d-4081-92e3-56ed01d40acc",
   "metadata": {},
   "outputs": [],
   "source": [
    "# Calculates summary indices for CIL-GDPCIR ensemble for given SSP\n",
    "def get_raw_data(ssp, years, lat, lon, out_path, out_str):\n",
    "    \"\"\"\n",
    "    Current summary indices calculated: mean, 99th quantile, 99% quantile range\n",
    "    `years` define the window over which all outputs are pooled. \n",
    "    \"\"\"\n",
    "    def read_and_process(model, ssp, years, lat, lon):\n",
    "        # Read\n",
    "        ds_tmp = xr.open_dataset(f\"{project_data_path}/metrics_regridded/CIL-GDPCIR/conservative/{model}.nc\")\n",
    "        ds_tmp['time'] = ds_tmp[\"time\"].dt.year\n",
    "\n",
    "        # select SSP if exists\n",
    "        if ssp in ds_tmp.ssp:\n",
    "            ds_tmp = ds_tmp.sel(ssp=ssp)\n",
    "        else:\n",
    "            return None\n",
    "\n",
    "        # for some reason CanESM5 has 2 of each ssp (but identical)\n",
    "        if model == 'CanESM5':\n",
    "            ds_tmp = ds_tmp.isel(ssp=0)\n",
    "\n",
    "        # Time slice\n",
    "        ds_sel = ds_tmp.sel(time=slice(years[0],years[1]))\n",
    "    \n",
    "        # Location selection\n",
    "        if lon < 0:\n",
    "            lon = 360 + lon\n",
    "        ds_sel = ds_sel.sel(lat=lat, lon=lon, method='nearest')\n",
    "        \n",
    "        # Construct dataframe\n",
    "        metrics_correct = ['avg_tas', 'sum_pr', 'max_tasmax', 'max_pr']\n",
    "        metrics_dumb = ['tas_avg', 'pr_sum', 'tasmax_max', 'pr_max'] # Incorrect names in CIL\n",
    "        df_tmp = ds_sel.to_dataframe()\n",
    "        if 'pr_sum' not in df_tmp.columns:\n",
    "            df_tmp['pr_sum'] = np.nan\n",
    "            df_tmp['pr_max'] = np.nan\n",
    "        df_tmp = df_tmp.dropna(subset=metrics_dumb, how='all').drop(columns=[\"lat\", \"lon\"]).reset_index()\n",
    "        df_tmp = df_tmp.rename(columns = {dumb:correct for (dumb,correct) in zip(metrics_dumb, metrics_correct)})\n",
    "        df_tmp[\"ssp\"] = ssp\n",
    "        df_tmp[\"model\"] = model\n",
    "\n",
    "        # Return \n",
    "        return df_tmp\n",
    "        \n",
    "    # Check if done\n",
    "    if not os.path.isfile(f\"{out_path}/{out_str}.csv\"):\n",
    "        df_delayed = []\n",
    "        # Loop through models\n",
    "        models = glob(f\"{project_data_path}/metrics_regridded/CIL-GDPCIR/conservative/*.nc\")\n",
    "        models = [model.split('/')[-1].replace('.nc','') for model in models]\n",
    "        for model in models:\n",
    "            df_tmp = dask.delayed(read_and_process)(model, ssp, years, lat, lon)\n",
    "            df_delayed.append(df_tmp)\n",
    "\n",
    "        # Compute and store\n",
    "        df_out = dask.compute(*df_delayed)\n",
    "        df_out = [df for df in df_out if df is not None]\n",
    "        pd.concat(df_out).to_csv(f\"{out_path}/{out_str}.csv\", index=False)"
   ]
  },
  {
   "cell_type": "code",
   "execution_count": 5,
   "id": "6cf39f6d-91b9-4b83-9b72-df670ba727eb",
   "metadata": {},
   "outputs": [
    {
     "name": "stdout",
     "output_type": "stream",
     "text": [
      "CPU times: user 6.4 s, sys: 408 ms, total: 6.8 s\n",
      "Wall time: 38.2 s\n"
     ]
    }
   ],
   "source": [
    "%%time\n",
    "for city in city_list.keys():\n",
    "    lat, lon = city_list[city]\n",
    "    for years in [[2020,2040], [2050,2070], [2080,2100]]:\n",
    "        for ssp in ['ssp245', 'ssp370', 'ssp585']:\n",
    "            get_raw_data(ssp=ssp, years=years,\n",
    "                         lat=lat, lon=lon,\n",
    "                         out_path=f\"{project_data_path}/summary_raw\",\n",
    "                         out_str=f\"{city}_CIL-GDPCIR_{ssp}_{str(years[0])}-{str(years[1])}\")"
   ]
  },
  {
   "cell_type": "code",
   "execution_count": null,
   "id": "f4901dc4-7cf4-4406-8b05-79fa23c30aeb",
   "metadata": {},
   "outputs": [],
   "source": []
  }
 ],
 "metadata": {
  "kernelspec": {
   "display_name": "Python 3 (ipykernel)",
   "language": "python",
   "name": "python3"
  },
  "language_info": {
   "codemirror_mode": {
    "name": "ipython",
    "version": 3
   },
   "file_extension": ".py",
   "mimetype": "text/x-python",
   "name": "python",
   "nbconvert_exporter": "python",
   "pygments_lexer": "ipython3",
   "version": "3.11.7"
  }
 },
 "nbformat": 4,
 "nbformat_minor": 5
}
